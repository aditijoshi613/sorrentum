{
 "cells": [
  {
   "cell_type": "markdown",
   "id": "4de176cc",
   "metadata": {},
   "source": [
    "# Imports"
   ]
  },
  {
   "cell_type": "code",
   "execution_count": 1,
   "id": "3f63fa1b",
   "metadata": {
    "ExecuteTime": {
     "end_time": "2023-07-26T18:30:34.850994Z",
     "start_time": "2023-07-26T18:30:22.326292Z"
    },
    "collapsed": true
   },
   "outputs": [
    {
     "name": "stdout",
     "output_type": "stream",
     "text": [
      "Requirement already satisfied: gspread_pandas in /venv/lib/python3.8/site-packages (3.2.2)\n",
      "Requirement already satisfied: gspread>=5.0.0 in /venv/lib/python3.8/site-packages (from gspread_pandas) (5.10.0)\n",
      "Requirement already satisfied: google-auth in /venv/lib/python3.8/site-packages (from gspread_pandas) (2.22.0)\n",
      "Requirement already satisfied: google-auth-oauthlib in /venv/lib/python3.8/site-packages (from gspread_pandas) (1.0.0)\n",
      "Requirement already satisfied: pandas>=0.20.0 in /venv/lib/python3.8/site-packages (from gspread_pandas) (1.5.1)\n",
      "Requirement already satisfied: decorator in /venv/lib/python3.8/site-packages (from gspread_pandas) (5.1.1)\n",
      "Requirement already satisfied: pyasn1-modules>=0.2.1 in /venv/lib/python3.8/site-packages (from google-auth->gspread_pandas) (0.3.0)\n",
      "Requirement already satisfied: cachetools<6.0,>=2.0.0 in /venv/lib/python3.8/site-packages (from google-auth->gspread_pandas) (5.3.1)\n",
      "Requirement already satisfied: six>=1.9.0 in /venv/lib/python3.8/site-packages (from google-auth->gspread_pandas) (1.16.0)\n",
      "Requirement already satisfied: urllib3<2.0 in /venv/lib/python3.8/site-packages (from google-auth->gspread_pandas) (1.26.12)\n",
      "Requirement already satisfied: rsa<5,>=3.1.4 in /venv/lib/python3.8/site-packages (from google-auth->gspread_pandas) (4.7.2)\n",
      "Requirement already satisfied: requests-oauthlib>=0.7.0 in /venv/lib/python3.8/site-packages (from google-auth-oauthlib->gspread_pandas) (1.3.1)\n",
      "Requirement already satisfied: pytz>=2020.1 in /venv/lib/python3.8/site-packages (from pandas>=0.20.0->gspread_pandas) (2022.6)\n",
      "Requirement already satisfied: numpy>=1.20.3; python_version < \"3.10\" in /venv/lib/python3.8/site-packages (from pandas>=0.20.0->gspread_pandas) (1.23.4)\n",
      "Requirement already satisfied: python-dateutil>=2.8.1 in /venv/lib/python3.8/site-packages (from pandas>=0.20.0->gspread_pandas) (2.8.2)\n",
      "Requirement already satisfied: pyasn1<0.6.0,>=0.4.6 in /venv/lib/python3.8/site-packages (from pyasn1-modules>=0.2.1->google-auth->gspread_pandas) (0.4.8)\n",
      "Requirement already satisfied: requests>=2.0.0 in /venv/lib/python3.8/site-packages (from requests-oauthlib>=0.7.0->google-auth-oauthlib->gspread_pandas) (2.28.1)\n",
      "Requirement already satisfied: oauthlib>=3.0.0 in /venv/lib/python3.8/site-packages (from requests-oauthlib>=0.7.0->google-auth-oauthlib->gspread_pandas) (3.2.2)\n",
      "Requirement already satisfied: idna<4,>=2.5 in /venv/lib/python3.8/site-packages (from requests>=2.0.0->requests-oauthlib>=0.7.0->google-auth-oauthlib->gspread_pandas) (3.4)\n",
      "Requirement already satisfied: certifi>=2017.4.17 in /venv/lib/python3.8/site-packages (from requests>=2.0.0->requests-oauthlib>=0.7.0->google-auth-oauthlib->gspread_pandas) (2022.9.24)\n",
      "Requirement already satisfied: charset-normalizer<3,>=2 in /venv/lib/python3.8/site-packages (from requests>=2.0.0->requests-oauthlib>=0.7.0->google-auth-oauthlib->gspread_pandas) (2.1.1)\n"
     ]
    }
   ],
   "source": [
    "!sudo /bin/bash -c \"(source /venv/bin/activate; pip install gspread_pandas)\""
   ]
  },
  {
   "cell_type": "code",
   "execution_count": 2,
   "id": "2c0d3898",
   "metadata": {
    "ExecuteTime": {
     "end_time": "2023-07-26T18:30:48.124938Z",
     "start_time": "2023-07-26T18:30:34.866813Z"
    },
    "collapsed": true
   },
   "outputs": [
    {
     "name": "stdout",
     "output_type": "stream",
     "text": [
      "Requirement already satisfied: google-api-python-client in /venv/lib/python3.8/site-packages (2.95.0)\n",
      "Requirement already satisfied: google-api-core!=2.0.*,!=2.1.*,!=2.2.*,!=2.3.0,<3.0.0.dev0,>=1.31.5 in /venv/lib/python3.8/site-packages (from google-api-python-client) (2.11.1)\n",
      "Requirement already satisfied: google-auth-httplib2>=0.1.0 in /venv/lib/python3.8/site-packages (from google-api-python-client) (0.1.0)\n",
      "Requirement already satisfied: google-auth<3.0.0.dev0,>=1.19.0 in /venv/lib/python3.8/site-packages (from google-api-python-client) (2.22.0)\n",
      "Requirement already satisfied: uritemplate<5,>=3.0.1 in /venv/lib/python3.8/site-packages (from google-api-python-client) (4.1.1)\n",
      "Requirement already satisfied: httplib2<1.dev0,>=0.15.0 in /venv/lib/python3.8/site-packages (from google-api-python-client) (0.22.0)\n",
      "Requirement already satisfied: protobuf!=3.20.0,!=3.20.1,!=4.21.0,!=4.21.1,!=4.21.2,!=4.21.3,!=4.21.4,!=4.21.5,<5.0.0.dev0,>=3.19.5 in /venv/lib/python3.8/site-packages (from google-api-core!=2.0.*,!=2.1.*,!=2.2.*,!=2.3.0,<3.0.0.dev0,>=1.31.5->google-api-python-client) (4.23.4)\n",
      "Requirement already satisfied: requests<3.0.0.dev0,>=2.18.0 in /venv/lib/python3.8/site-packages (from google-api-core!=2.0.*,!=2.1.*,!=2.2.*,!=2.3.0,<3.0.0.dev0,>=1.31.5->google-api-python-client) (2.28.1)\n",
      "Requirement already satisfied: googleapis-common-protos<2.0.dev0,>=1.56.2 in /venv/lib/python3.8/site-packages (from google-api-core!=2.0.*,!=2.1.*,!=2.2.*,!=2.3.0,<3.0.0.dev0,>=1.31.5->google-api-python-client) (1.59.1)\n",
      "Requirement already satisfied: six in /venv/lib/python3.8/site-packages (from google-auth-httplib2>=0.1.0->google-api-python-client) (1.16.0)\n",
      "Requirement already satisfied: urllib3<2.0 in /venv/lib/python3.8/site-packages (from google-auth<3.0.0.dev0,>=1.19.0->google-api-python-client) (1.26.12)\n",
      "Requirement already satisfied: pyasn1-modules>=0.2.1 in /venv/lib/python3.8/site-packages (from google-auth<3.0.0.dev0,>=1.19.0->google-api-python-client) (0.3.0)\n",
      "Requirement already satisfied: cachetools<6.0,>=2.0.0 in /venv/lib/python3.8/site-packages (from google-auth<3.0.0.dev0,>=1.19.0->google-api-python-client) (5.3.1)\n",
      "Requirement already satisfied: rsa<5,>=3.1.4 in /venv/lib/python3.8/site-packages (from google-auth<3.0.0.dev0,>=1.19.0->google-api-python-client) (4.7.2)\n",
      "Requirement already satisfied: pyparsing!=3.0.0,!=3.0.1,!=3.0.2,!=3.0.3,<4,>=2.4.2; python_version > \"3.0\" in /venv/lib/python3.8/site-packages (from httplib2<1.dev0,>=0.15.0->google-api-python-client) (3.0.9)\n",
      "Requirement already satisfied: certifi>=2017.4.17 in /venv/lib/python3.8/site-packages (from requests<3.0.0.dev0,>=2.18.0->google-api-core!=2.0.*,!=2.1.*,!=2.2.*,!=2.3.0,<3.0.0.dev0,>=1.31.5->google-api-python-client) (2022.9.24)\n",
      "Requirement already satisfied: idna<4,>=2.5 in /venv/lib/python3.8/site-packages (from requests<3.0.0.dev0,>=2.18.0->google-api-core!=2.0.*,!=2.1.*,!=2.2.*,!=2.3.0,<3.0.0.dev0,>=1.31.5->google-api-python-client) (3.4)\n",
      "Requirement already satisfied: charset-normalizer<3,>=2 in /venv/lib/python3.8/site-packages (from requests<3.0.0.dev0,>=2.18.0->google-api-core!=2.0.*,!=2.1.*,!=2.2.*,!=2.3.0,<3.0.0.dev0,>=1.31.5->google-api-python-client) (2.1.1)\n",
      "Requirement already satisfied: pyasn1<0.6.0,>=0.4.6 in /venv/lib/python3.8/site-packages (from pyasn1-modules>=0.2.1->google-auth<3.0.0.dev0,>=1.19.0->google-api-python-client) (0.4.8)\n"
     ]
    }
   ],
   "source": [
    "!sudo /bin/bash -c \"(source /venv/bin/activate; pip install google-api-python-client)\""
   ]
  },
  {
   "cell_type": "code",
   "execution_count": 2,
   "id": "e183a638",
   "metadata": {
    "ExecuteTime": {
     "end_time": "2023-07-27T18:37:21.593865Z",
     "start_time": "2023-07-27T18:37:21.571580Z"
    }
   },
   "outputs": [],
   "source": [
    "import gspread_pandas"
   ]
  },
  {
   "cell_type": "code",
   "execution_count": 36,
   "id": "e77e9172",
   "metadata": {
    "ExecuteTime": {
     "end_time": "2023-07-27T18:37:23.403418Z",
     "start_time": "2023-07-27T18:37:23.392649Z"
    },
    "scrolled": true
   },
   "outputs": [],
   "source": [
    "import logging\n",
    "import helpers.hdbg as hdbg\n",
    "import linkedin.google_api.google_file_api as google_file_api"
   ]
  },
  {
   "cell_type": "code",
   "execution_count": 37,
   "id": "c4ee0ac5",
   "metadata": {
    "ExecuteTime": {
     "end_time": "2023-07-27T18:37:24.470980Z",
     "start_time": "2023-07-27T18:37:24.441753Z"
    }
   },
   "outputs": [
    {
     "name": "stdout",
     "output_type": "stream",
     "text": [
      "\u001b[0m\u001b[33mWARNING\u001b[0m: Logger already initialized: skipping\n"
     ]
    }
   ],
   "source": [
    "_LOG = logging.getLogger(__name__)\n",
    "hdbg.init_logger(use_exec_path=True)"
   ]
  },
  {
   "cell_type": "markdown",
   "id": "f833423c",
   "metadata": {},
   "source": [
    "# Load data"
   ]
  },
  {
   "cell_type": "code",
   "execution_count": 9,
   "id": "3d234046",
   "metadata": {
    "ExecuteTime": {
     "start_time": "2023-07-27T18:38:05.807Z"
    }
   },
   "outputs": [
    {
     "name": "stdout",
     "output_type": "stream",
     "text": [
      "(14, 19)\n"
     ]
    },
    {
     "data": {
      "text/html": [
       "<div>\n",
       "<style scoped>\n",
       "    .dataframe tbody tr th:only-of-type {\n",
       "        vertical-align: middle;\n",
       "    }\n",
       "\n",
       "    .dataframe tbody tr th {\n",
       "        vertical-align: top;\n",
       "    }\n",
       "\n",
       "    .dataframe thead th {\n",
       "        text-align: right;\n",
       "    }\n",
       "</style>\n",
       "<table border=\"1\" class=\"dataframe\">\n",
       "  <thead>\n",
       "    <tr style=\"text-align: right;\">\n",
       "      <th></th>\n",
       "      <th>profileUrl</th>\n",
       "      <th>connectionDegree</th>\n",
       "      <th>error</th>\n",
       "      <th>currentJob</th>\n",
       "      <th>job</th>\n",
       "      <th>location</th>\n",
       "      <th>url</th>\n",
       "      <th>query</th>\n",
       "      <th>category</th>\n",
       "      <th>timestamp</th>\n",
       "      <th>fullName</th>\n",
       "      <th>firstName</th>\n",
       "      <th>lastName</th>\n",
       "      <th>profileImageUrl</th>\n",
       "      <th>summary</th>\n",
       "      <th>name</th>\n",
       "      <th>additionalInfo</th>\n",
       "      <th>pastJob</th>\n",
       "      <th>sharedConnections</th>\n",
       "    </tr>\n",
       "  </thead>\n",
       "  <tbody>\n",
       "    <tr>\n",
       "      <th>0</th>\n",
       "      <td></td>\n",
       "      <td>Out of Network</td>\n",
       "      <td>Profile out of your network.</td>\n",
       "      <td>Retired (Supervisory Environmental Engineer) a...</td>\n",
       "      <td>--</td>\n",
       "      <td>Bel Air, MD</td>\n",
       "      <td></td>\n",
       "      <td>https://www.linkedin.com/search/results/people...</td>\n",
       "      <td>People</td>\n",
       "      <td>2023-07-13T15:51:51.384Z</td>\n",
       "      <td></td>\n",
       "      <td></td>\n",
       "      <td></td>\n",
       "      <td></td>\n",
       "      <td></td>\n",
       "      <td></td>\n",
       "      <td></td>\n",
       "      <td></td>\n",
       "      <td></td>\n",
       "    </tr>\n",
       "    <tr>\n",
       "      <th>1</th>\n",
       "      <td>https://www.linkedin.com/in/yale-lewis-mba-049...</td>\n",
       "      <td>3rd</td>\n",
       "      <td></td>\n",
       "      <td></td>\n",
       "      <td>Retired in 2020</td>\n",
       "      <td>Winchester, VA</td>\n",
       "      <td>https://www.linkedin.com/in/yale-lewis-mba-049...</td>\n",
       "      <td>https://www.linkedin.com/search/results/people...</td>\n",
       "      <td>People</td>\n",
       "      <td>2023-07-13T15:51:51.384Z</td>\n",
       "      <td>Yale Lewis, MBA</td>\n",
       "      <td>Yale</td>\n",
       "      <td>Lewis, MBA</td>\n",
       "      <td>https://media.licdn.com/dms/image/C4D03AQGGXPi...</td>\n",
       "      <td>...Administration (MBA)  Specialties:  Financi...</td>\n",
       "      <td>Yale Lewis, MBA</td>\n",
       "      <td></td>\n",
       "      <td></td>\n",
       "      <td></td>\n",
       "    </tr>\n",
       "    <tr>\n",
       "      <th>2</th>\n",
       "      <td>https://www.linkedin.com/in/richard-saunders-9...</td>\n",
       "      <td>3rd</td>\n",
       "      <td></td>\n",
       "      <td></td>\n",
       "      <td>Retired from Federal Service.</td>\n",
       "      <td>Silver Spring, MD</td>\n",
       "      <td>https://www.linkedin.com/in/richard-saunders-9...</td>\n",
       "      <td>https://www.linkedin.com/search/results/people...</td>\n",
       "      <td>People</td>\n",
       "      <td>2023-07-13T15:51:51.384Z</td>\n",
       "      <td>Richard Saunders</td>\n",
       "      <td>Richard</td>\n",
       "      <td>Saunders</td>\n",
       "      <td>https://media.licdn.com/dms/image/D4E03AQHxFXh...</td>\n",
       "      <td></td>\n",
       "      <td>Richard Saunders</td>\n",
       "      <td></td>\n",
       "      <td></td>\n",
       "      <td></td>\n",
       "    </tr>\n",
       "    <tr>\n",
       "      <th>3</th>\n",
       "      <td></td>\n",
       "      <td>Out of Network</td>\n",
       "      <td>Profile out of your network.</td>\n",
       "      <td></td>\n",
       "      <td>Retired, trying to figure out what's next</td>\n",
       "      <td>New Alexandria, VA</td>\n",
       "      <td></td>\n",
       "      <td>https://www.linkedin.com/search/results/people...</td>\n",
       "      <td>People</td>\n",
       "      <td>2023-07-13T15:51:51.384Z</td>\n",
       "      <td></td>\n",
       "      <td></td>\n",
       "      <td></td>\n",
       "      <td>https://media.licdn.com/dms/image/C4E03AQEhKLx...</td>\n",
       "      <td></td>\n",
       "      <td></td>\n",
       "      <td></td>\n",
       "      <td></td>\n",
       "      <td></td>\n",
       "    </tr>\n",
       "    <tr>\n",
       "      <th>4</th>\n",
       "      <td>https://www.linkedin.com/in/robertfarinella</td>\n",
       "      <td>3rd</td>\n",
       "      <td></td>\n",
       "      <td>Retired at And Enjoying Life</td>\n",
       "      <td>US Army and Civilian Hospitality/Gaming/Horse ...</td>\n",
       "      <td>Culpeper, VA</td>\n",
       "      <td>https://www.linkedin.com/in/robertfarinella</td>\n",
       "      <td>https://www.linkedin.com/search/results/people...</td>\n",
       "      <td>People</td>\n",
       "      <td>2023-07-13T15:51:51.385Z</td>\n",
       "      <td>Robert Farinella, MBA</td>\n",
       "      <td>Robert</td>\n",
       "      <td>Farinella, MBA</td>\n",
       "      <td>https://media.licdn.com/dms/image/C4E03AQHPttO...</td>\n",
       "      <td></td>\n",
       "      <td>Robert Farinella, MBA</td>\n",
       "      <td></td>\n",
       "      <td></td>\n",
       "      <td></td>\n",
       "    </tr>\n",
       "  </tbody>\n",
       "</table>\n",
       "</div>"
      ],
      "text/plain": [
       "                                          profileUrl connectionDegree  \\\n",
       "0                                                      Out of Network   \n",
       "1  https://www.linkedin.com/in/yale-lewis-mba-049...              3rd   \n",
       "2  https://www.linkedin.com/in/richard-saunders-9...              3rd   \n",
       "3                                                      Out of Network   \n",
       "4        https://www.linkedin.com/in/robertfarinella              3rd   \n",
       "\n",
       "                          error  \\\n",
       "0  Profile out of your network.   \n",
       "1                                 \n",
       "2                                 \n",
       "3  Profile out of your network.   \n",
       "4                                 \n",
       "\n",
       "                                          currentJob  \\\n",
       "0  Retired (Supervisory Environmental Engineer) a...   \n",
       "1                                                      \n",
       "2                                                      \n",
       "3                                                      \n",
       "4                       Retired at And Enjoying Life   \n",
       "\n",
       "                                                 job            location  \\\n",
       "0                                                 --         Bel Air, MD   \n",
       "1                                    Retired in 2020      Winchester, VA   \n",
       "2                      Retired from Federal Service.   Silver Spring, MD   \n",
       "3          Retired, trying to figure out what's next  New Alexandria, VA   \n",
       "4  US Army and Civilian Hospitality/Gaming/Horse ...        Culpeper, VA   \n",
       "\n",
       "                                                 url  \\\n",
       "0                                                      \n",
       "1  https://www.linkedin.com/in/yale-lewis-mba-049...   \n",
       "2  https://www.linkedin.com/in/richard-saunders-9...   \n",
       "3                                                      \n",
       "4        https://www.linkedin.com/in/robertfarinella   \n",
       "\n",
       "                                               query category  \\\n",
       "0  https://www.linkedin.com/search/results/people...   People   \n",
       "1  https://www.linkedin.com/search/results/people...   People   \n",
       "2  https://www.linkedin.com/search/results/people...   People   \n",
       "3  https://www.linkedin.com/search/results/people...   People   \n",
       "4  https://www.linkedin.com/search/results/people...   People   \n",
       "\n",
       "                  timestamp               fullName firstName        lastName  \\\n",
       "0  2023-07-13T15:51:51.384Z                                                    \n",
       "1  2023-07-13T15:51:51.384Z        Yale Lewis, MBA      Yale      Lewis, MBA   \n",
       "2  2023-07-13T15:51:51.384Z       Richard Saunders   Richard        Saunders   \n",
       "3  2023-07-13T15:51:51.384Z                                                    \n",
       "4  2023-07-13T15:51:51.385Z  Robert Farinella, MBA    Robert  Farinella, MBA   \n",
       "\n",
       "                                     profileImageUrl  \\\n",
       "0                                                      \n",
       "1  https://media.licdn.com/dms/image/C4D03AQGGXPi...   \n",
       "2  https://media.licdn.com/dms/image/D4E03AQHxFXh...   \n",
       "3  https://media.licdn.com/dms/image/C4E03AQEhKLx...   \n",
       "4  https://media.licdn.com/dms/image/C4E03AQHPttO...   \n",
       "\n",
       "                                             summary                   name  \\\n",
       "0                                                                             \n",
       "1  ...Administration (MBA)  Specialties:  Financi...        Yale Lewis, MBA   \n",
       "2                                                          Richard Saunders   \n",
       "3                                                                             \n",
       "4                                                     Robert Farinella, MBA   \n",
       "\n",
       "  additionalInfo pastJob sharedConnections  \n",
       "0                                           \n",
       "1                                           \n",
       "2                                           \n",
       "3                                           \n",
       "4                                           "
      ]
     },
     "execution_count": 9,
     "metadata": {},
     "output_type": "execute_result"
    }
   ],
   "source": [
    "spreadsheet_name = \"search_retired1.search_export.gsheet\"\n",
    "spread = gspread_pandas.Spread(spreadsheet_name)\n",
    "df = spread.sheet_to_df(index=None)\n",
    "print(df.shape)\n",
    "df.head()"
   ]
  },
  {
   "cell_type": "markdown",
   "id": "f648d64c",
   "metadata": {},
   "source": [
    "# Filter data"
   ]
  },
  {
   "cell_type": "code",
   "execution_count": 10,
   "id": "45c810de",
   "metadata": {
    "ExecuteTime": {
     "end_time": "2023-07-26T18:31:01.330639Z",
     "start_time": "2023-07-26T18:31:01.203490Z"
    }
   },
   "outputs": [
    {
     "name": "stdout",
     "output_type": "stream",
     "text": [
      "Dropped 4 rows (28.57%)\n"
     ]
    },
    {
     "data": {
      "text/html": [
       "<div>\n",
       "<style scoped>\n",
       "    .dataframe tbody tr th:only-of-type {\n",
       "        vertical-align: middle;\n",
       "    }\n",
       "\n",
       "    .dataframe tbody tr th {\n",
       "        vertical-align: top;\n",
       "    }\n",
       "\n",
       "    .dataframe thead th {\n",
       "        text-align: right;\n",
       "    }\n",
       "</style>\n",
       "<table border=\"1\" class=\"dataframe\">\n",
       "  <thead>\n",
       "    <tr style=\"text-align: right;\">\n",
       "      <th></th>\n",
       "      <th>profileUrl</th>\n",
       "      <th>connectionDegree</th>\n",
       "      <th>currentJob</th>\n",
       "      <th>job</th>\n",
       "      <th>location</th>\n",
       "      <th>url</th>\n",
       "      <th>query</th>\n",
       "      <th>category</th>\n",
       "      <th>timestamp</th>\n",
       "      <th>fullName</th>\n",
       "      <th>firstName</th>\n",
       "      <th>lastName</th>\n",
       "      <th>profileImageUrl</th>\n",
       "      <th>summary</th>\n",
       "      <th>name</th>\n",
       "      <th>additionalInfo</th>\n",
       "      <th>pastJob</th>\n",
       "      <th>sharedConnections</th>\n",
       "    </tr>\n",
       "  </thead>\n",
       "  <tbody>\n",
       "    <tr>\n",
       "      <th>0</th>\n",
       "      <td>https://www.linkedin.com/in/yale-lewis-mba-049...</td>\n",
       "      <td>3rd</td>\n",
       "      <td></td>\n",
       "      <td>Retired in 2020</td>\n",
       "      <td>Winchester, VA</td>\n",
       "      <td>https://www.linkedin.com/in/yale-lewis-mba-049...</td>\n",
       "      <td>https://www.linkedin.com/search/results/people...</td>\n",
       "      <td>People</td>\n",
       "      <td>2023-07-13T15:51:51.384Z</td>\n",
       "      <td>Yale Lewis, MBA</td>\n",
       "      <td>Yale</td>\n",
       "      <td>Lewis, MBA</td>\n",
       "      <td>https://media.licdn.com/dms/image/C4D03AQGGXPi...</td>\n",
       "      <td>...Administration (MBA)  Specialties:  Financi...</td>\n",
       "      <td>Yale Lewis, MBA</td>\n",
       "      <td></td>\n",
       "      <td></td>\n",
       "      <td></td>\n",
       "    </tr>\n",
       "    <tr>\n",
       "      <th>1</th>\n",
       "      <td>https://www.linkedin.com/in/richard-saunders-9...</td>\n",
       "      <td>3rd</td>\n",
       "      <td></td>\n",
       "      <td>Retired from Federal Service.</td>\n",
       "      <td>Silver Spring, MD</td>\n",
       "      <td>https://www.linkedin.com/in/richard-saunders-9...</td>\n",
       "      <td>https://www.linkedin.com/search/results/people...</td>\n",
       "      <td>People</td>\n",
       "      <td>2023-07-13T15:51:51.384Z</td>\n",
       "      <td>Richard Saunders</td>\n",
       "      <td>Richard</td>\n",
       "      <td>Saunders</td>\n",
       "      <td>https://media.licdn.com/dms/image/D4E03AQHxFXh...</td>\n",
       "      <td></td>\n",
       "      <td>Richard Saunders</td>\n",
       "      <td></td>\n",
       "      <td></td>\n",
       "      <td></td>\n",
       "    </tr>\n",
       "    <tr>\n",
       "      <th>2</th>\n",
       "      <td>https://www.linkedin.com/in/robertfarinella</td>\n",
       "      <td>3rd</td>\n",
       "      <td>Retired at And Enjoying Life</td>\n",
       "      <td>US Army and Civilian Hospitality/Gaming/Horse ...</td>\n",
       "      <td>Culpeper, VA</td>\n",
       "      <td>https://www.linkedin.com/in/robertfarinella</td>\n",
       "      <td>https://www.linkedin.com/search/results/people...</td>\n",
       "      <td>People</td>\n",
       "      <td>2023-07-13T15:51:51.385Z</td>\n",
       "      <td>Robert Farinella, MBA</td>\n",
       "      <td>Robert</td>\n",
       "      <td>Farinella, MBA</td>\n",
       "      <td>https://media.licdn.com/dms/image/C4E03AQHPttO...</td>\n",
       "      <td></td>\n",
       "      <td>Robert Farinella, MBA</td>\n",
       "      <td></td>\n",
       "      <td></td>\n",
       "      <td></td>\n",
       "    </tr>\n",
       "    <tr>\n",
       "      <th>3</th>\n",
       "      <td>https://www.linkedin.com/in/scottalawrence</td>\n",
       "      <td>3rd</td>\n",
       "      <td></td>\n",
       "      <td>Senior Manager, Software Engineering at Capita...</td>\n",
       "      <td>Silver Spring, MD</td>\n",
       "      <td>https://www.linkedin.com/in/scottalawrence</td>\n",
       "      <td>https://www.linkedin.com/search/results/people...</td>\n",
       "      <td>People</td>\n",
       "      <td>2023-07-13T15:51:51.385Z</td>\n",
       "      <td>Scott L.</td>\n",
       "      <td>Scott</td>\n",
       "      <td>L.</td>\n",
       "      <td>https://media.licdn.com/dms/image/C4E03AQHI9E9...</td>\n",
       "      <td></td>\n",
       "      <td>Scott L.</td>\n",
       "      <td>Volunteer Experience: Instructor at Adventist ...</td>\n",
       "      <td></td>\n",
       "      <td></td>\n",
       "    </tr>\n",
       "    <tr>\n",
       "      <th>4</th>\n",
       "      <td>https://www.linkedin.com/in/perrycoleman1</td>\n",
       "      <td>3rd</td>\n",
       "      <td></td>\n",
       "      <td>IT Specialist, MBA, MSCIS, PMP, CISSP, DML</td>\n",
       "      <td>Gwynn Oak, MD</td>\n",
       "      <td>https://www.linkedin.com/in/perrycoleman1</td>\n",
       "      <td>https://www.linkedin.com/search/results/people...</td>\n",
       "      <td>People</td>\n",
       "      <td>2023-07-13T15:51:51.385Z</td>\n",
       "      <td>Perry M Coleman</td>\n",
       "      <td>Perry</td>\n",
       "      <td>M Coleman</td>\n",
       "      <td>https://media.licdn.com/dms/image/C4E03AQEJYFZ...</td>\n",
       "      <td></td>\n",
       "      <td>Perry M Coleman</td>\n",
       "      <td></td>\n",
       "      <td>Unmanned Aircraft System Operator at US Army -...</td>\n",
       "      <td></td>\n",
       "    </tr>\n",
       "  </tbody>\n",
       "</table>\n",
       "</div>"
      ],
      "text/plain": [
       "                                          profileUrl connectionDegree  \\\n",
       "0  https://www.linkedin.com/in/yale-lewis-mba-049...              3rd   \n",
       "1  https://www.linkedin.com/in/richard-saunders-9...              3rd   \n",
       "2        https://www.linkedin.com/in/robertfarinella              3rd   \n",
       "3         https://www.linkedin.com/in/scottalawrence              3rd   \n",
       "4          https://www.linkedin.com/in/perrycoleman1              3rd   \n",
       "\n",
       "                     currentJob  \\\n",
       "0                                 \n",
       "1                                 \n",
       "2  Retired at And Enjoying Life   \n",
       "3                                 \n",
       "4                                 \n",
       "\n",
       "                                                 job           location  \\\n",
       "0                                    Retired in 2020     Winchester, VA   \n",
       "1                      Retired from Federal Service.  Silver Spring, MD   \n",
       "2  US Army and Civilian Hospitality/Gaming/Horse ...       Culpeper, VA   \n",
       "3  Senior Manager, Software Engineering at Capita...  Silver Spring, MD   \n",
       "4         IT Specialist, MBA, MSCIS, PMP, CISSP, DML      Gwynn Oak, MD   \n",
       "\n",
       "                                                 url  \\\n",
       "0  https://www.linkedin.com/in/yale-lewis-mba-049...   \n",
       "1  https://www.linkedin.com/in/richard-saunders-9...   \n",
       "2        https://www.linkedin.com/in/robertfarinella   \n",
       "3         https://www.linkedin.com/in/scottalawrence   \n",
       "4          https://www.linkedin.com/in/perrycoleman1   \n",
       "\n",
       "                                               query category  \\\n",
       "0  https://www.linkedin.com/search/results/people...   People   \n",
       "1  https://www.linkedin.com/search/results/people...   People   \n",
       "2  https://www.linkedin.com/search/results/people...   People   \n",
       "3  https://www.linkedin.com/search/results/people...   People   \n",
       "4  https://www.linkedin.com/search/results/people...   People   \n",
       "\n",
       "                  timestamp               fullName firstName        lastName  \\\n",
       "0  2023-07-13T15:51:51.384Z        Yale Lewis, MBA      Yale      Lewis, MBA   \n",
       "1  2023-07-13T15:51:51.384Z       Richard Saunders   Richard        Saunders   \n",
       "2  2023-07-13T15:51:51.385Z  Robert Farinella, MBA    Robert  Farinella, MBA   \n",
       "3  2023-07-13T15:51:51.385Z               Scott L.     Scott              L.   \n",
       "4  2023-07-13T15:51:51.385Z        Perry M Coleman     Perry       M Coleman   \n",
       "\n",
       "                                     profileImageUrl  \\\n",
       "0  https://media.licdn.com/dms/image/C4D03AQGGXPi...   \n",
       "1  https://media.licdn.com/dms/image/D4E03AQHxFXh...   \n",
       "2  https://media.licdn.com/dms/image/C4E03AQHPttO...   \n",
       "3  https://media.licdn.com/dms/image/C4E03AQHI9E9...   \n",
       "4  https://media.licdn.com/dms/image/C4E03AQEJYFZ...   \n",
       "\n",
       "                                             summary                   name  \\\n",
       "0  ...Administration (MBA)  Specialties:  Financi...        Yale Lewis, MBA   \n",
       "1                                                          Richard Saunders   \n",
       "2                                                     Robert Farinella, MBA   \n",
       "3                                                                  Scott L.   \n",
       "4                                                           Perry M Coleman   \n",
       "\n",
       "                                      additionalInfo  \\\n",
       "0                                                      \n",
       "1                                                      \n",
       "2                                                      \n",
       "3  Volunteer Experience: Instructor at Adventist ...   \n",
       "4                                                      \n",
       "\n",
       "                                             pastJob sharedConnections  \n",
       "0                                                                       \n",
       "1                                                                       \n",
       "2                                                                       \n",
       "3                                                                       \n",
       "4  Unmanned Aircraft System Operator at US Army -...                    "
      ]
     },
     "execution_count": 10,
     "metadata": {},
     "output_type": "execute_result"
    }
   ],
   "source": [
    "# Drop errors.\n",
    "prev_len = len(df)\n",
    "df = df[df[\"error\"] == \"\"].reset_index(drop=True)\n",
    "df = df[[col for col in df.columns if col != \"error\"]]\n",
    "print(\n",
    "    f\"Dropped {prev_len - len(df)} rows ({round((prev_len - len(df))*100/prev_len, 2)}%)\"\n",
    ")\n",
    "df.head()"
   ]
  },
  {
   "cell_type": "code",
   "execution_count": 6,
   "id": "90accdfc",
   "metadata": {
    "ExecuteTime": {
     "end_time": "2023-07-27T18:33:05.333869Z",
     "start_time": "2023-07-27T18:33:05.147955Z"
    }
   },
   "outputs": [
    {
     "name": "stdout",
     "output_type": "stream",
     "text": [
      "Dropped 10 rows (100.0%)\n"
     ]
    },
    {
     "data": {
      "text/html": [
       "<div>\n",
       "<style scoped>\n",
       "    .dataframe tbody tr th:only-of-type {\n",
       "        vertical-align: middle;\n",
       "    }\n",
       "\n",
       "    .dataframe tbody tr th {\n",
       "        vertical-align: top;\n",
       "    }\n",
       "\n",
       "    .dataframe thead th {\n",
       "        text-align: right;\n",
       "    }\n",
       "</style>\n",
       "<table border=\"1\" class=\"dataframe\">\n",
       "  <thead>\n",
       "    <tr style=\"text-align: right;\">\n",
       "      <th></th>\n",
       "      <th>profileUrl</th>\n",
       "      <th>connectionDegree</th>\n",
       "      <th>currentJob</th>\n",
       "      <th>job</th>\n",
       "      <th>location</th>\n",
       "      <th>url</th>\n",
       "      <th>query</th>\n",
       "      <th>category</th>\n",
       "      <th>timestamp</th>\n",
       "      <th>fullName</th>\n",
       "      <th>firstName</th>\n",
       "      <th>lastName</th>\n",
       "      <th>profileImageUrl</th>\n",
       "      <th>summary</th>\n",
       "      <th>name</th>\n",
       "      <th>additionalInfo</th>\n",
       "      <th>pastJob</th>\n",
       "      <th>sharedConnections</th>\n",
       "    </tr>\n",
       "  </thead>\n",
       "  <tbody>\n",
       "  </tbody>\n",
       "</table>\n",
       "</div>"
      ],
      "text/plain": [
       "Empty DataFrame\n",
       "Columns: [profileUrl, connectionDegree, currentJob, job, location, url, query, category, timestamp, fullName, firstName, lastName, profileImageUrl, summary, name, additionalInfo, pastJob, sharedConnections]\n",
       "Index: []"
      ]
     },
     "execution_count": 6,
     "metadata": {},
     "output_type": "execute_result"
    }
   ],
   "source": [
    "# Filter by location.\n",
    "# The location you want to keep.\n",
    "location = \"Maryland\"\n",
    "prev_len = len(df)\n",
    "df = df[df[\"location\"].apply(lambda x: location in x)].reset_index(drop=True)\n",
    "print(\n",
    "    f\"Dropped {prev_len - len(df)} rows ({round((prev_len - len(df))*100/prev_len, 2)}%)\"\n",
    ")\n",
    "df[:10]"
   ]
  },
  {
   "cell_type": "code",
   "execution_count": 11,
   "id": "f34cfd02",
   "metadata": {
    "ExecuteTime": {
     "end_time": "2023-07-27T18:33:19.587868Z",
     "start_time": "2023-07-27T18:33:19.555473Z"
    }
   },
   "outputs": [
    {
     "name": "stdout",
     "output_type": "stream",
     "text": [
      "profileUrl\n",
      "https://www.linkedin.com/in/yale-lewis-mba-049a0922\n",
      "\n",
      "connectionDegree\n",
      "3rd\n",
      "\n",
      "currentJob\n",
      "\n",
      "\n",
      "job\n",
      "Retired in 2020\n",
      "\n",
      "location\n",
      "Winchester, VA\n",
      "\n",
      "url\n",
      "https://www.linkedin.com/in/yale-lewis-mba-049a0922\n",
      "\n",
      "query\n",
      "https://www.linkedin.com/search/results/people/?contactInterest=%5B%22proBono%22%5D&geoUrn=%5B%2290000097%22%5D&keywords=Retired%20mba&origin=FACETED_SEARCH&schoolFilter=%5B%223638%22%5D&sid=m7r\n",
      "\n",
      "category\n",
      "People\n",
      "\n",
      "timestamp\n",
      "2023-07-13T15:51:51.384Z\n",
      "\n",
      "fullName\n",
      "Yale Lewis, MBA\n",
      "\n",
      "firstName\n",
      "Yale\n",
      "\n",
      "lastName\n",
      "Lewis, MBA\n",
      "\n",
      "profileImageUrl\n",
      "https://media.licdn.com/dms/image/C4D03AQGGXPiY2Gy1Sw/profile-displayphoto-shrink_100_100/0/1516993465324?e=1694649600&v=beta&t=4nf-i7u5vxcVrXvNZRaGB-MuuzePNlhf_uTPoS0xiB8\n",
      "\n",
      "summary\n",
      "...Administration (MBA)  Specialties:  Financial Planning...\n",
      "\n",
      "name\n",
      "Yale Lewis, MBA\n",
      "\n",
      "additionalInfo\n",
      "\n",
      "\n",
      "pastJob\n",
      "\n",
      "\n",
      "sharedConnections\n",
      "\n",
      "\n"
     ]
    }
   ],
   "source": [
    "for col in df.columns:\n",
    "    print(col)\n",
    "    print(df.iloc[0][col])\n",
    "    print()"
   ]
  },
  {
   "cell_type": "code",
   "execution_count": 9,
   "id": "2af995df",
   "metadata": {
    "ExecuteTime": {
     "end_time": "2023-07-26T18:31:06.176384Z",
     "start_time": "2023-07-26T18:31:06.092545Z"
    }
   },
   "outputs": [
    {
     "data": {
      "text/html": [
       "<div>\n",
       "<style scoped>\n",
       "    .dataframe tbody tr th:only-of-type {\n",
       "        vertical-align: middle;\n",
       "    }\n",
       "\n",
       "    .dataframe tbody tr th {\n",
       "        vertical-align: top;\n",
       "    }\n",
       "\n",
       "    .dataframe thead th {\n",
       "        text-align: right;\n",
       "    }\n",
       "</style>\n",
       "<table border=\"1\" class=\"dataframe\">\n",
       "  <thead>\n",
       "    <tr style=\"text-align: right;\">\n",
       "      <th></th>\n",
       "      <th>profileUrl</th>\n",
       "      <th>query</th>\n",
       "      <th>timestamp</th>\n",
       "      <th>fullName</th>\n",
       "      <th>firstName</th>\n",
       "      <th>lastName</th>\n",
       "      <th>companyName</th>\n",
       "      <th>title</th>\n",
       "      <th>companyId</th>\n",
       "      <th>companyUrl</th>\n",
       "      <th>...</th>\n",
       "      <th>vmid</th>\n",
       "      <th>linkedInProfileUrl</th>\n",
       "      <th>isPremium</th>\n",
       "      <th>isOpenLink</th>\n",
       "      <th>titleDescription</th>\n",
       "      <th>pastExperienceCompanyName</th>\n",
       "      <th>pastExperienceCompanyUrl</th>\n",
       "      <th>pastExperienceCompanyTitle</th>\n",
       "      <th>pastExperienceDate</th>\n",
       "      <th>pastExperienceDuration</th>\n",
       "    </tr>\n",
       "  </thead>\n",
       "  <tbody>\n",
       "    <tr>\n",
       "      <th>0</th>\n",
       "      <td>https://www.linkedin.com/sales/lead/ACwAAAE1Yq...</td>\n",
       "      <td>https://www.linkedin.com/sales/search/people?s...</td>\n",
       "      <td>2023-07-19T18:02:26.835Z</td>\n",
       "      <td>Neil Davis</td>\n",
       "      <td>Neil</td>\n",
       "      <td>Davis</td>\n",
       "      <td>Innovation Works</td>\n",
       "      <td>Business Mentor</td>\n",
       "      <td>11787752</td>\n",
       "      <td>https://www.linkedin.com/sales/company/11787752</td>\n",
       "      <td>...</td>\n",
       "      <td>ACwAAAE1YqQBZoy53iiEXT0Ol-GrNh_0U0dhvqM</td>\n",
       "      <td>https://www.linkedin.com/in/ACwAAAE1YqQBZoy53i...</td>\n",
       "      <td>FALSE</td>\n",
       "      <td>FALSE</td>\n",
       "      <td>Innovation Works aims to reduce Baltimore’s ne...</td>\n",
       "      <td></td>\n",
       "      <td></td>\n",
       "      <td></td>\n",
       "      <td></td>\n",
       "      <td></td>\n",
       "    </tr>\n",
       "    <tr>\n",
       "      <th>1</th>\n",
       "      <td>https://www.linkedin.com/sales/lead/ACwAAACRHS...</td>\n",
       "      <td>https://www.linkedin.com/sales/search/people?s...</td>\n",
       "      <td>2023-07-19T18:02:26.835Z</td>\n",
       "      <td>Michael Hess</td>\n",
       "      <td>Michael</td>\n",
       "      <td>Hess</td>\n",
       "      <td>ABS Advisory Services Group, Inc.</td>\n",
       "      <td>Chairman/CEO</td>\n",
       "      <td></td>\n",
       "      <td></td>\n",
       "      <td>...</td>\n",
       "      <td>ACwAAACRHSQB6TCtuIxEce2hAb9lV3NM_GzNPc8</td>\n",
       "      <td>https://www.linkedin.com/in/ACwAAACRHSQB6TCtuI...</td>\n",
       "      <td>FALSE</td>\n",
       "      <td>FALSE</td>\n",
       "      <td>Manage mergers &amp; acquisitions, corporate and r...</td>\n",
       "      <td></td>\n",
       "      <td></td>\n",
       "      <td></td>\n",
       "      <td></td>\n",
       "      <td></td>\n",
       "    </tr>\n",
       "    <tr>\n",
       "      <th>2</th>\n",
       "      <td>https://www.linkedin.com/sales/lead/ACwAAAAQQk...</td>\n",
       "      <td>https://www.linkedin.com/sales/search/people?s...</td>\n",
       "      <td>2023-07-19T18:02:26.835Z</td>\n",
       "      <td>Barrie Zucal, MS</td>\n",
       "      <td>Barrie</td>\n",
       "      <td>Zucal, MS</td>\n",
       "      <td>Zucal Consulting</td>\n",
       "      <td>Independent Mentor, Coach, Consultant</td>\n",
       "      <td></td>\n",
       "      <td></td>\n",
       "      <td>...</td>\n",
       "      <td>ACwAAAAQQkoBFSrQYiDk3QVKcRprtPvRSXe7ajk</td>\n",
       "      <td>https://www.linkedin.com/in/ACwAAAAQQkoBFSrQYi...</td>\n",
       "      <td>FALSE</td>\n",
       "      <td>FALSE</td>\n",
       "      <td>I work with talented women in global roles who...</td>\n",
       "      <td></td>\n",
       "      <td></td>\n",
       "      <td></td>\n",
       "      <td></td>\n",
       "      <td></td>\n",
       "    </tr>\n",
       "    <tr>\n",
       "      <th>3</th>\n",
       "      <td>https://www.linkedin.com/sales/lead/ACwAAADeWj...</td>\n",
       "      <td>https://www.linkedin.com/sales/search/people?s...</td>\n",
       "      <td>2023-07-19T18:02:26.835Z</td>\n",
       "      <td>Leslie Traub</td>\n",
       "      <td>Leslie</td>\n",
       "      <td>Traub</td>\n",
       "      <td>Inclusion Allies Network</td>\n",
       "      <td>Co-Founder and Mentor</td>\n",
       "      <td></td>\n",
       "      <td></td>\n",
       "      <td>...</td>\n",
       "      <td>ACwAAADeWjEBRuyhZkIF7X7fpy6uBoxiXLQWqLY</td>\n",
       "      <td>https://www.linkedin.com/in/ACwAAADeWjEBRuyhZk...</td>\n",
       "      <td>FALSE</td>\n",
       "      <td>FALSE</td>\n",
       "      <td>A coalition of organizations  and practitioner...</td>\n",
       "      <td></td>\n",
       "      <td></td>\n",
       "      <td></td>\n",
       "      <td></td>\n",
       "      <td></td>\n",
       "    </tr>\n",
       "    <tr>\n",
       "      <th>4</th>\n",
       "      <td>https://www.linkedin.com/sales/lead/ACwAAAAY9Y...</td>\n",
       "      <td>https://www.linkedin.com/sales/search/people?s...</td>\n",
       "      <td>2023-07-19T18:02:26.836Z</td>\n",
       "      <td>Theresa Daytner</td>\n",
       "      <td>Theresa</td>\n",
       "      <td>Daytner</td>\n",
       "      <td>Conscious Venture Lab</td>\n",
       "      <td>Lead Mentor | Angel Investor | Executive Coach...</td>\n",
       "      <td>3356498</td>\n",
       "      <td>https://www.linkedin.com/sales/company/3356498</td>\n",
       "      <td>...</td>\n",
       "      <td>ACwAAAAY9YQBq8q_bnRNDw_10z49i6IR2gD7RKQ</td>\n",
       "      <td>https://www.linkedin.com/in/ACwAAAAY9YQBq8q_bn...</td>\n",
       "      <td>TRUE</td>\n",
       "      <td>FALSE</td>\n",
       "      <td>As a Lead Mentor for the Conscious Venture Lab...</td>\n",
       "      <td></td>\n",
       "      <td></td>\n",
       "      <td></td>\n",
       "      <td></td>\n",
       "      <td></td>\n",
       "    </tr>\n",
       "  </tbody>\n",
       "</table>\n",
       "<p>5 rows × 31 columns</p>\n",
       "</div>"
      ],
      "text/plain": [
       "                                          profileUrl  \\\n",
       "0  https://www.linkedin.com/sales/lead/ACwAAAE1Yq...   \n",
       "1  https://www.linkedin.com/sales/lead/ACwAAACRHS...   \n",
       "2  https://www.linkedin.com/sales/lead/ACwAAAAQQk...   \n",
       "3  https://www.linkedin.com/sales/lead/ACwAAADeWj...   \n",
       "4  https://www.linkedin.com/sales/lead/ACwAAAAY9Y...   \n",
       "\n",
       "                                               query  \\\n",
       "0  https://www.linkedin.com/sales/search/people?s...   \n",
       "1  https://www.linkedin.com/sales/search/people?s...   \n",
       "2  https://www.linkedin.com/sales/search/people?s...   \n",
       "3  https://www.linkedin.com/sales/search/people?s...   \n",
       "4  https://www.linkedin.com/sales/search/people?s...   \n",
       "\n",
       "                  timestamp          fullName firstName   lastName  \\\n",
       "0  2023-07-19T18:02:26.835Z        Neil Davis      Neil      Davis   \n",
       "1  2023-07-19T18:02:26.835Z      Michael Hess   Michael       Hess   \n",
       "2  2023-07-19T18:02:26.835Z  Barrie Zucal, MS    Barrie  Zucal, MS   \n",
       "3  2023-07-19T18:02:26.835Z      Leslie Traub    Leslie      Traub   \n",
       "4  2023-07-19T18:02:26.836Z   Theresa Daytner   Theresa    Daytner   \n",
       "\n",
       "                         companyName  \\\n",
       "0                   Innovation Works   \n",
       "1  ABS Advisory Services Group, Inc.   \n",
       "2                   Zucal Consulting   \n",
       "3           Inclusion Allies Network   \n",
       "4              Conscious Venture Lab   \n",
       "\n",
       "                                               title companyId  \\\n",
       "0                                    Business Mentor  11787752   \n",
       "1                                       Chairman/CEO             \n",
       "2              Independent Mentor, Coach, Consultant             \n",
       "3                              Co-Founder and Mentor             \n",
       "4  Lead Mentor | Angel Investor | Executive Coach...   3356498   \n",
       "\n",
       "                                        companyUrl  ...  \\\n",
       "0  https://www.linkedin.com/sales/company/11787752  ...   \n",
       "1                                                   ...   \n",
       "2                                                   ...   \n",
       "3                                                   ...   \n",
       "4   https://www.linkedin.com/sales/company/3356498  ...   \n",
       "\n",
       "                                      vmid  \\\n",
       "0  ACwAAAE1YqQBZoy53iiEXT0Ol-GrNh_0U0dhvqM   \n",
       "1  ACwAAACRHSQB6TCtuIxEce2hAb9lV3NM_GzNPc8   \n",
       "2  ACwAAAAQQkoBFSrQYiDk3QVKcRprtPvRSXe7ajk   \n",
       "3  ACwAAADeWjEBRuyhZkIF7X7fpy6uBoxiXLQWqLY   \n",
       "4  ACwAAAAY9YQBq8q_bnRNDw_10z49i6IR2gD7RKQ   \n",
       "\n",
       "                                  linkedInProfileUrl isPremium isOpenLink  \\\n",
       "0  https://www.linkedin.com/in/ACwAAAE1YqQBZoy53i...     FALSE      FALSE   \n",
       "1  https://www.linkedin.com/in/ACwAAACRHSQB6TCtuI...     FALSE      FALSE   \n",
       "2  https://www.linkedin.com/in/ACwAAAAQQkoBFSrQYi...     FALSE      FALSE   \n",
       "3  https://www.linkedin.com/in/ACwAAADeWjEBRuyhZk...     FALSE      FALSE   \n",
       "4  https://www.linkedin.com/in/ACwAAAAY9YQBq8q_bn...      TRUE      FALSE   \n",
       "\n",
       "                                    titleDescription  \\\n",
       "0  Innovation Works aims to reduce Baltimore’s ne...   \n",
       "1  Manage mergers & acquisitions, corporate and r...   \n",
       "2  I work with talented women in global roles who...   \n",
       "3  A coalition of organizations  and practitioner...   \n",
       "4  As a Lead Mentor for the Conscious Venture Lab...   \n",
       "\n",
       "  pastExperienceCompanyName pastExperienceCompanyUrl  \\\n",
       "0                                                      \n",
       "1                                                      \n",
       "2                                                      \n",
       "3                                                      \n",
       "4                                                      \n",
       "\n",
       "  pastExperienceCompanyTitle pastExperienceDate pastExperienceDuration  \n",
       "0                                                                       \n",
       "1                                                                       \n",
       "2                                                                       \n",
       "3                                                                       \n",
       "4                                                                       \n",
       "\n",
       "[5 rows x 31 columns]"
      ]
     },
     "execution_count": 9,
     "metadata": {},
     "output_type": "execute_result"
    }
   ],
   "source": [
    "# Make sure profileUrl in the first column.\n",
    "cols = df.columns.tolist()\n",
    "if cols[0] != 'profileUrl':\n",
    "    cols.remove('profileUrl')  # Remove the \"profileURL\" from its current position.\n",
    "    cols = ['profileUrl'] + cols  # Add \"profileURL\" at the first column.\n",
    "    df = df[cols] \n",
    "df.head()"
   ]
  },
  {
   "cell_type": "code",
   "execution_count": 10,
   "id": "c00d0827",
   "metadata": {
    "ExecuteTime": {
     "end_time": "2023-07-26T18:31:07.945483Z",
     "start_time": "2023-07-26T18:31:07.934324Z"
    }
   },
   "outputs": [
    {
     "name": "stdout",
     "output_type": "stream",
     "text": [
      "(82, 31)\n"
     ]
    }
   ],
   "source": [
    "print(df.shape)"
   ]
  },
  {
   "cell_type": "markdown",
   "id": "0b312d47",
   "metadata": {},
   "source": [
    "# Save filtered data to gsheet"
   ]
  },
  {
   "cell_type": "markdown",
   "id": "fa0f3fd3",
   "metadata": {},
   "source": [
    "## Create a empty Google sheet"
   ]
  },
  {
   "cell_type": "code",
   "execution_count": 18,
   "id": "11353b7e",
   "metadata": {
    "ExecuteTime": {
     "end_time": "2023-07-26T18:33:09.639164Z",
     "start_time": "2023-07-26T18:33:09.569097Z"
    }
   },
   "outputs": [
    {
     "name": "stdout",
     "output_type": "stream",
     "text": [
      "INFO  file_cache is only supported with oauth2client<4.0.0\n"
     ]
    }
   ],
   "source": [
    "gapi = google_file_api.GoogleFileApi()"
   ]
  },
  {
   "cell_type": "code",
   "execution_count": 24,
   "id": "0504a90e",
   "metadata": {
    "ExecuteTime": {
     "end_time": "2023-07-26T18:39:40.622918Z",
     "start_time": "2023-07-26T18:39:40.266552Z"
    }
   },
   "outputs": [
    {
     "name": "stdout",
     "output_type": "stream",
     "text": [
      "INFO  Found folder: {'id': '1XWNGDnJrVICHAe-6V2cnoSklZpk0APc_', 'name': 'SN_Search5_Yiyun'}\n"
     ]
    }
   ],
   "source": [
    "name = 'SN_Search5_Yiyun'\n",
    "# gdrive_folder : dict, the id and the name of the Google Drive folder.\n",
    "gdrive_folder  = gapi.get_folder_id_by_name(name)"
   ]
  },
  {
   "cell_type": "code",
   "execution_count": 25,
   "id": "aa1794e9",
   "metadata": {
    "ExecuteTime": {
     "end_time": "2023-07-26T18:39:43.295698Z",
     "start_time": "2023-07-26T18:39:43.280473Z"
    }
   },
   "outputs": [],
   "source": [
    "# if you want to use another folder id, please change the folder id manually.\n",
    "# gdrive_folder  = {'id': '1XWNGDnJrVICHAe-6V2cnoSklZpk0APc_', 'name': 'SN_Search5_Yiyun'} "
   ]
  },
  {
   "cell_type": "code",
   "execution_count": 27,
   "id": "bf137076",
   "metadata": {
    "ExecuteTime": {
     "end_time": "2023-07-26T18:39:47.682152Z",
     "start_time": "2023-07-26T18:39:47.668605Z"
    }
   },
   "outputs": [],
   "source": [
    "\"\"\"\n",
    "Create a new Google file (sheet or doc).\n",
    "\n",
    ":param gfile_type: str, the type of the Google file ('sheet' or 'doc').\n",
    ":param gfile_name: str, the name of the new Google file.\n",
    ":param folder_id: str, the id of the Google Drive folder.\n",
    ":param user: str, the email address of the user to share the Google file (Optional).\n",
    ":return: None\n",
    "\"\"\"\n",
    "gfile_type = 'sheet'\n",
    "gsheet_name = 'sn_search5.search_export.filtered.gsheet'\n",
    "user = ''"
   ]
  },
  {
   "cell_type": "code",
   "execution_count": 29,
   "id": "58556651",
   "metadata": {
    "ExecuteTime": {
     "end_time": "2023-07-26T18:40:00.184494Z",
     "start_time": "2023-07-26T18:39:56.218916Z"
    }
   },
   "outputs": [
    {
     "name": "stdout",
     "output_type": "stream",
     "text": [
      "INFO  file_cache is only supported with oauth2client<4.0.0\n",
      "INFO  Created a new Google sheet 'sn_search5.search_export.filtered.gsheet'.\n",
      "INFO  Move the new Google sheet 'sn_search5.search_export.filtered.gsheet' to the dir 'SN_Search5_Yiyun'\n",
      "INFO  Finished creating the new Google sheet 'sn_search5.search_export.filtered.gsheet'.\n"
     ]
    }
   ],
   "source": [
    "gapi.create_empty_google_file(\n",
    "    gfile_type = gfile_type,\n",
    "    gfile_name = gsheet_name,\n",
    "    gdrive_folder = gdrive_folder,\n",
    "    user = user\n",
    ")"
   ]
  },
  {
   "cell_type": "markdown",
   "id": "41f59f82",
   "metadata": {},
   "source": [
    "## Save filtered data"
   ]
  },
  {
   "cell_type": "code",
   "execution_count": 30,
   "id": "8622898b",
   "metadata": {
    "ExecuteTime": {
     "end_time": "2023-07-26T18:40:05.516460Z",
     "start_time": "2023-07-26T18:40:02.819001Z"
    }
   },
   "outputs": [],
   "source": [
    "# A Google sheet with this name should already exist on the drive.\n",
    "spread2 = gspread_pandas.Spread(\n",
    "    gsheet_name,\n",
    "    sheet=\"Sheet1\",\n",
    "    create_sheet=True,\n",
    ")\n",
    "spread2.df_to_sheet(df, index=False)"
   ]
  },
  {
   "cell_type": "code",
   "execution_count": null,
   "id": "54968ae9",
   "metadata": {},
   "outputs": [],
   "source": []
  }
 ],
 "metadata": {
  "kernelspec": {
   "display_name": "Python 3 (ipykernel)",
   "language": "python",
   "name": "python3"
  },
  "language_info": {
   "codemirror_mode": {
    "name": "ipython",
    "version": 3
   },
   "file_extension": ".py",
   "mimetype": "text/x-python",
   "name": "python",
   "nbconvert_exporter": "python",
   "pygments_lexer": "ipython3",
   "version": "3.8.10"
  },
  "toc": {
   "base_numbering": 1,
   "nav_menu": {},
   "number_sections": true,
   "sideBar": true,
   "skip_h1_title": false,
   "title_cell": "Table of Contents",
   "title_sidebar": "Contents",
   "toc_cell": false,
   "toc_position": {},
   "toc_section_display": true,
   "toc_window_display": false
  }
 },
 "nbformat": 4,
 "nbformat_minor": 5
}
