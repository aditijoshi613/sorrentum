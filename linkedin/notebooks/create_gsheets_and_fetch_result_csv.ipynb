{
 "cells": [
  {
   "cell_type": "markdown",
   "id": "a4c0ceb7",
   "metadata": {},
   "source": [
    "# Import"
   ]
  },
  {
   "cell_type": "code",
   "execution_count": 1,
   "id": "295ce667",
   "metadata": {
    "ExecuteTime": {
     "end_time": "2023-08-08T18:50:33.921170Z",
     "start_time": "2023-08-08T18:50:30.369019Z"
    },
    "scrolled": true
   },
   "outputs": [
    {
     "name": "stderr",
     "output_type": "stream",
     "text": [
      "<jemalloc>: MADV_DONTNEED does not work (memset will be used instead)\n",
      "<jemalloc>: (This is the expected behaviour if you are running under QEMU)\n"
     ]
    }
   ],
   "source": [
    "import logging\n",
    "import helpers.hdbg as hdbg\n",
    "import linkedin.phantom_api.phantombuster_api as lpphapia\n",
    "import linkedin.google_api.google_file_api as lggogfia"
   ]
  },
  {
   "cell_type": "code",
   "execution_count": 2,
   "id": "47f6a93e",
   "metadata": {
    "ExecuteTime": {
     "end_time": "2023-08-08T18:50:34.441035Z",
     "start_time": "2023-08-08T18:50:33.929231Z"
    },
    "scrolled": true
   },
   "outputs": [
    {
     "name": "stdout",
     "output_type": "stream",
     "text": [
      "\u001b[0m\u001b[36mINFO\u001b[0m: > cmd='/venv/lib/python3.8/site-packages/ipykernel_launcher.py -f /home/.local/share/jupyter/runtime/kernel-4af962c7-a3da-4737-8623-fd7978c6fd1f.json'\n",
      "WARNING: Running in Jupyter\n",
      "\u001b[36mINFO\u001b[0m: Saving log to file '/app/linkedin/notebooks/none.log'\n"
     ]
    }
   ],
   "source": [
    "_LOG = logging.getLogger(__name__)\n",
    "hdbg.init_logger(use_exec_path=True)"
   ]
  },
  {
   "cell_type": "markdown",
   "id": "792bc8e2",
   "metadata": {
    "ExecuteTime": {
     "end_time": "2023-08-08T18:41:24.412249Z",
     "start_time": "2023-08-08T18:41:24.395521Z"
    }
   },
   "source": [
    "# Set search name"
   ]
  },
  {
   "cell_type": "code",
   "execution_count": 3,
   "id": "73b35da2",
   "metadata": {
    "ExecuteTime": {
     "end_time": "2023-08-08T18:50:34.461918Z",
     "start_time": "2023-08-08T18:50:34.449719Z"
    }
   },
   "outputs": [],
   "source": [
    "search_name = \"sn_test_folder\""
   ]
  },
  {
   "cell_type": "markdown",
   "id": "ecf1d8c9",
   "metadata": {
    "ExecuteTime": {
     "end_time": "2023-08-08T18:00:43.777325Z",
     "start_time": "2023-08-08T18:00:43.757044Z"
    }
   },
   "source": [
    "# Create the empty Google Drive folder and Google sheets"
   ]
  },
  {
   "cell_type": "code",
   "execution_count": 4,
   "id": "4bf36efe",
   "metadata": {
    "ExecuteTime": {
     "end_time": "2023-08-08T18:50:34.525144Z",
     "start_time": "2023-08-08T18:50:34.478852Z"
    }
   },
   "outputs": [
    {
     "name": "stdout",
     "output_type": "stream",
     "text": [
      "INFO  file_cache is only supported with oauth2client<4.0.0\n"
     ]
    }
   ],
   "source": [
    "googleapi = lggogfia.GoogleFileApi()"
   ]
  },
  {
   "cell_type": "code",
   "execution_count": 5,
   "id": "aaa84f2b",
   "metadata": {
    "ExecuteTime": {
     "end_time": "2023-08-08T18:50:34.543959Z",
     "start_time": "2023-08-08T18:50:34.533598Z"
    }
   },
   "outputs": [],
   "source": [
    "# linkedin_data folder id.\n",
    "parent_folder_id = \"1dQ9e-bNKkXwNvobQyRFbPwgEh1-VSf4R\""
   ]
  },
  {
   "cell_type": "code",
   "execution_count": 6,
   "id": "c32dd6ab",
   "metadata": {
    "ExecuteTime": {
     "end_time": "2023-08-08T18:50:35.370720Z",
     "start_time": "2023-08-08T18:50:34.555471Z"
    }
   },
   "outputs": [
    {
     "name": "stdout",
     "output_type": "stream",
     "text": [
      "INFO  Created a new Google Drive folder 'sn_test_folder'.\n",
      "INFO  The new folder id is '14jZ9t4U9Nxx4bHix1VWGoGNodkG9-thz'.\n"
     ]
    }
   ],
   "source": [
    "# Create a folder with search_name in the dir parent folder.\n",
    "current_folder_id = googleapi.create_google_drive_folder(search_name, parent_folder_id)"
   ]
  },
  {
   "cell_type": "code",
   "execution_count": 7,
   "id": "9740a923",
   "metadata": {
    "ExecuteTime": {
     "end_time": "2023-08-08T18:50:47.974202Z",
     "start_time": "2023-08-08T18:50:35.384802Z"
    }
   },
   "outputs": [
    {
     "name": "stdout",
     "output_type": "stream",
     "text": [
      "INFO  file_cache is only supported with oauth2client<4.0.0\n",
      "INFO  Created a new Google sheet 'sn_test_folder.step1.search_export'.\n",
      "INFO  Move the new Google sheet 'sn_test_folder.step1.search_export' to the given dir\n",
      "INFO  Finished creating the new Google sheet 'sn_test_folder.step1.search_export'.\n",
      "INFO  file_cache is only supported with oauth2client<4.0.0\n",
      "INFO  Created a new Google sheet 'sn_test_folder.step2.search_export_filtered'.\n",
      "INFO  Move the new Google sheet 'sn_test_folder.step2.search_export_filtered' to the given dir\n",
      "INFO  Finished creating the new Google sheet 'sn_test_folder.step2.search_export_filtered'.\n",
      "INFO  file_cache is only supported with oauth2client<4.0.0\n",
      "INFO  Created a new Google sheet 'sn_test_folder.step3.profile_export'.\n",
      "INFO  Move the new Google sheet 'sn_test_folder.step3.profile_export' to the given dir\n",
      "INFO  Finished creating the new Google sheet 'sn_test_folder.step3.profile_export'.\n",
      "INFO  file_cache is only supported with oauth2client<4.0.0\n",
      "INFO  Created a new Google sheet 'sn_test_folder.step4.profile_export_filtered'.\n",
      "INFO  Move the new Google sheet 'sn_test_folder.step4.profile_export_filtered' to the given dir\n",
      "INFO  Finished creating the new Google sheet 'sn_test_folder.step4.profile_export_filtered'.\n"
     ]
    }
   ],
   "source": [
    "# Create empty gsheets in the new created folder.\n",
    "gsheets_name = [\n",
    "    f\"{search_name}.step1.search_export\",\n",
    "    f\"{search_name}.step2.search_export_filtered\",\n",
    "    f\"{search_name}.step3.profile_export\",\n",
    "    f\"{search_name}.step4.profile_export_filtered\",\n",
    "]\n",
    "for gsheet_name in gsheets_name:\n",
    "    googleapi.create_empty_google_file(\n",
    "        gfile_type = \"sheet\",\n",
    "        gfile_name = gsheet_name,\n",
    "        gdrive_folder_id = current_folder_id,\n",
    "        user = \"\"\n",
    "    )"
   ]
  },
  {
   "cell_type": "markdown",
   "id": "9329bc75",
   "metadata": {},
   "source": [
    "# Download result CSVs to local storage"
   ]
  },
  {
   "cell_type": "code",
   "execution_count": 8,
   "id": "fdcb77c1",
   "metadata": {
    "ExecuteTime": {
     "end_time": "2023-08-08T18:50:48.017854Z",
     "start_time": "2023-08-08T18:50:47.992625Z"
    }
   },
   "outputs": [],
   "source": [
    "phantom = lpphapia.Phantom()"
   ]
  },
  {
   "cell_type": "code",
   "execution_count": 9,
   "id": "1cb9685a",
   "metadata": {
    "ExecuteTime": {
     "end_time": "2023-08-08T18:50:49.125008Z",
     "start_time": "2023-08-08T18:50:48.034800Z"
    }
   },
   "outputs": [
    {
     "data": {
      "text/html": [
       "<div>\n",
       "<style scoped>\n",
       "    .dataframe tbody tr th:only-of-type {\n",
       "        vertical-align: middle;\n",
       "    }\n",
       "\n",
       "    .dataframe tbody tr th {\n",
       "        vertical-align: top;\n",
       "    }\n",
       "\n",
       "    .dataframe thead th {\n",
       "        text-align: right;\n",
       "    }\n",
       "</style>\n",
       "<table border=\"1\" class=\"dataframe\">\n",
       "  <thead>\n",
       "    <tr style=\"text-align: right;\">\n",
       "      <th></th>\n",
       "      <th>id</th>\n",
       "      <th>name</th>\n",
       "      <th>scriptId</th>\n",
       "      <th>lastEndMessage</th>\n",
       "      <th>lastEndStatus</th>\n",
       "      <th>queuedContainers</th>\n",
       "      <th>runningContainers</th>\n",
       "    </tr>\n",
       "  </thead>\n",
       "  <tbody>\n",
       "    <tr>\n",
       "      <th>0</th>\n",
       "      <td>3593602419926765</td>\n",
       "      <td>Yiyun LinkedIn Profile Scraper</td>\n",
       "      <td>3112</td>\n",
       "      <td></td>\n",
       "      <td>success</td>\n",
       "      <td>0</td>\n",
       "      <td>0</td>\n",
       "    </tr>\n",
       "    <tr>\n",
       "      <th>1</th>\n",
       "      <td>2862499141527492</td>\n",
       "      <td>Yiyun Search5 Sales Navigator Search Export</td>\n",
       "      <td>6988</td>\n",
       "      <td></td>\n",
       "      <td>success</td>\n",
       "      <td>0</td>\n",
       "      <td>0</td>\n",
       "    </tr>\n",
       "    <tr>\n",
       "      <th>2</th>\n",
       "      <td>3933308360008191</td>\n",
       "      <td>GP LinkedIn Profile Scraper</td>\n",
       "      <td>3112</td>\n",
       "      <td></td>\n",
       "      <td>success</td>\n",
       "      <td>0</td>\n",
       "      <td>0</td>\n",
       "    </tr>\n",
       "    <tr>\n",
       "      <th>3</th>\n",
       "      <td>4170077962142115</td>\n",
       "      <td>GP Sales Navigator Search Export</td>\n",
       "      <td>6988</td>\n",
       "      <td></td>\n",
       "      <td>success</td>\n",
       "      <td>0</td>\n",
       "      <td>0</td>\n",
       "    </tr>\n",
       "    <tr>\n",
       "      <th>4</th>\n",
       "      <td>4809903115550081</td>\n",
       "      <td>Retired MBA DC UMD LinkedIn Search Export</td>\n",
       "      <td>3149</td>\n",
       "      <td></td>\n",
       "      <td>success</td>\n",
       "      <td>0</td>\n",
       "      <td>0</td>\n",
       "    </tr>\n",
       "  </tbody>\n",
       "</table>\n",
       "</div>"
      ],
      "text/plain": [
       "                 id                                         name  scriptId  \\\n",
       "0  3593602419926765               Yiyun LinkedIn Profile Scraper      3112   \n",
       "1  2862499141527492  Yiyun Search5 Sales Navigator Search Export      6988   \n",
       "2  3933308360008191                  GP LinkedIn Profile Scraper      3112   \n",
       "3  4170077962142115             GP Sales Navigator Search Export      6988   \n",
       "4  4809903115550081    Retired MBA DC UMD LinkedIn Search Export      3149   \n",
       "\n",
       "  lastEndMessage lastEndStatus  queuedContainers  runningContainers  \n",
       "0                      success                 0                  0  \n",
       "1                      success                 0                  0  \n",
       "2                      success                 0                  0  \n",
       "3                      success                 0                  0  \n",
       "4                      success                 0                  0  "
      ]
     },
     "execution_count": 9,
     "metadata": {},
     "output_type": "execute_result"
    }
   ],
   "source": [
    "# Get all phantoms and their phantom id.\n",
    "phantom.get_all_phantoms()"
   ]
  },
  {
   "cell_type": "code",
   "execution_count": 10,
   "id": "1b1df34c",
   "metadata": {
    "ExecuteTime": {
     "end_time": "2023-08-08T18:50:49.159377Z",
     "start_time": "2023-08-08T18:50:49.136982Z"
    }
   },
   "outputs": [],
   "source": [
    "# (INPUT) Set the phantom IDs (Choose ID from the above table).\n",
    "search_phantom_id = \"2862499141527492\"\n",
    "profile_phantom_id = \"3593602419926765\""
   ]
  },
  {
   "cell_type": "code",
   "execution_count": 11,
   "id": "ce3ebc73",
   "metadata": {
    "ExecuteTime": {
     "end_time": "2023-08-08T18:50:49.229347Z",
     "start_time": "2023-08-08T18:50:49.176373Z"
    }
   },
   "outputs": [],
   "source": [
    "# Path to save result csv.\n",
    "result_dir = \"../result_csv/\"\n",
    "search_result_csv_path = result_dir + f\"{search_name}_search_result.csv\"\n",
    "profile_result_csv_path = result_dir + f\"{search_name}_profile_result.csv\""
   ]
  },
  {
   "cell_type": "code",
   "execution_count": 12,
   "id": "186f38da",
   "metadata": {
    "ExecuteTime": {
     "end_time": "2023-08-08T18:50:51.687610Z",
     "start_time": "2023-08-08T18:50:49.252705Z"
    },
    "scrolled": true
   },
   "outputs": [
    {
     "name": "stdout",
     "output_type": "stream",
     "text": [
      "INFO  Result CSV URL: https://phantombuster.s3.amazonaws.com/jqWbRHyznhM/pyjlATELCNt5qJDusZToQg/result.csv\n",
      "INFO  Result CSV saved to ../result_csv/sn_test_folder_search_result.csv\n"
     ]
    }
   ],
   "source": [
    "# Download search result csv.\n",
    "phantom.download_result_csv_by_phantom_id(search_phantom_id, search_result_csv_path)"
   ]
  },
  {
   "cell_type": "code",
   "execution_count": 13,
   "id": "51df0d48",
   "metadata": {
    "ExecuteTime": {
     "end_time": "2023-08-08T18:50:54.390665Z",
     "start_time": "2023-08-08T18:50:51.733035Z"
    },
    "scrolled": true
   },
   "outputs": [
    {
     "name": "stdout",
     "output_type": "stream",
     "text": [
      "INFO  Result CSV URL: https://phantombuster.s3.amazonaws.com/jqWbRHyznhM/EAS5IvYVZQiP2OFtv7KqjQ/result.csv\n",
      "INFO  Result CSV saved to ../result_csv/sn_test_folder_profile_result.csv\n"
     ]
    }
   ],
   "source": [
    "# Download profile result csv.\n",
    "phantom.download_result_csv_by_phantom_id(profile_phantom_id, profile_result_csv_path)"
   ]
  },
  {
   "cell_type": "markdown",
   "id": "a9382e2d",
   "metadata": {},
   "source": [
    "# Upload result CSVs to Google sheets"
   ]
  },
  {
   "cell_type": "code",
   "execution_count": 14,
   "id": "b9579448",
   "metadata": {
    "ExecuteTime": {
     "end_time": "2023-08-08T18:50:54.497929Z",
     "start_time": "2023-08-08T18:50:54.415711Z"
    }
   },
   "outputs": [],
   "source": [
    "import gspread_pandas\n",
    "import pandas as pd"
   ]
  },
  {
   "cell_type": "code",
   "execution_count": 15,
   "id": "8bbf87a2",
   "metadata": {
    "ExecuteTime": {
     "end_time": "2023-08-08T18:50:54.708967Z",
     "start_time": "2023-08-08T18:50:54.509470Z"
    },
    "scrolled": true
   },
   "outputs": [],
   "source": [
    "search_export_df = pd.read_csv(search_result_csv_path)\n",
    "profile_export_df = pd.read_csv(profile_result_csv_path)"
   ]
  },
  {
   "cell_type": "code",
   "execution_count": 16,
   "id": "b117e06a",
   "metadata": {
    "ExecuteTime": {
     "end_time": "2023-08-08T18:50:54.846375Z",
     "start_time": "2023-08-08T18:50:54.728352Z"
    },
    "scrolled": true
   },
   "outputs": [
    {
     "data": {
      "text/html": [
       "<div>\n",
       "<style scoped>\n",
       "    .dataframe tbody tr th:only-of-type {\n",
       "        vertical-align: middle;\n",
       "    }\n",
       "\n",
       "    .dataframe tbody tr th {\n",
       "        vertical-align: top;\n",
       "    }\n",
       "\n",
       "    .dataframe thead th {\n",
       "        text-align: right;\n",
       "    }\n",
       "</style>\n",
       "<table border=\"1\" class=\"dataframe\">\n",
       "  <thead>\n",
       "    <tr style=\"text-align: right;\">\n",
       "      <th></th>\n",
       "      <th>query</th>\n",
       "      <th>timestamp</th>\n",
       "      <th>error</th>\n",
       "      <th>profileUrl</th>\n",
       "      <th>fullName</th>\n",
       "      <th>firstName</th>\n",
       "      <th>lastName</th>\n",
       "      <th>companyName</th>\n",
       "      <th>title</th>\n",
       "      <th>companyId</th>\n",
       "      <th>...</th>\n",
       "      <th>vmid</th>\n",
       "      <th>linkedInProfileUrl</th>\n",
       "      <th>isPremium</th>\n",
       "      <th>isOpenLink</th>\n",
       "      <th>titleDescription</th>\n",
       "      <th>pastExperienceCompanyName</th>\n",
       "      <th>pastExperienceCompanyUrl</th>\n",
       "      <th>pastExperienceCompanyTitle</th>\n",
       "      <th>pastExperienceDate</th>\n",
       "      <th>pastExperienceDuration</th>\n",
       "    </tr>\n",
       "  </thead>\n",
       "  <tbody>\n",
       "    <tr>\n",
       "      <th>0</th>\n",
       "      <td>Search5 SN</td>\n",
       "      <td>2023-07-19T18:00:39.744Z</td>\n",
       "      <td>No result found</td>\n",
       "      <td>NaN</td>\n",
       "      <td>NaN</td>\n",
       "      <td>NaN</td>\n",
       "      <td>NaN</td>\n",
       "      <td>NaN</td>\n",
       "      <td>NaN</td>\n",
       "      <td>NaN</td>\n",
       "      <td>...</td>\n",
       "      <td>NaN</td>\n",
       "      <td>NaN</td>\n",
       "      <td>NaN</td>\n",
       "      <td>NaN</td>\n",
       "      <td>NaN</td>\n",
       "      <td>NaN</td>\n",
       "      <td>NaN</td>\n",
       "      <td>NaN</td>\n",
       "      <td>NaN</td>\n",
       "      <td>NaN</td>\n",
       "    </tr>\n",
       "    <tr>\n",
       "      <th>1</th>\n",
       "      <td>https://www.linkedin.com/sales/search/people?s...</td>\n",
       "      <td>2023-07-19T18:02:26.834Z</td>\n",
       "      <td>NaN</td>\n",
       "      <td>https://www.linkedin.com/sales/lead/ACwAABgNPU...</td>\n",
       "      <td>Dr. Edgar Noumair</td>\n",
       "      <td>Dr. Edgar</td>\n",
       "      <td>Noumair</td>\n",
       "      <td>Talal and Madiha Zein AUB Innovation Park</td>\n",
       "      <td>Mentor</td>\n",
       "      <td>71418447.0</td>\n",
       "      <td>...</td>\n",
       "      <td>ACwAABgNPUkBxBAF3JxK0VPQmHkYRnrxXzAiHjY</td>\n",
       "      <td>https://www.linkedin.com/in/ACwAABgNPUkBxBAF3J...</td>\n",
       "      <td>False</td>\n",
       "      <td>False</td>\n",
       "      <td>NaN</td>\n",
       "      <td>NaN</td>\n",
       "      <td>NaN</td>\n",
       "      <td>NaN</td>\n",
       "      <td>NaN</td>\n",
       "      <td>NaN</td>\n",
       "    </tr>\n",
       "    <tr>\n",
       "      <th>2</th>\n",
       "      <td>https://www.linkedin.com/sales/search/people?s...</td>\n",
       "      <td>2023-07-19T18:02:26.834Z</td>\n",
       "      <td>NaN</td>\n",
       "      <td>https://www.linkedin.com/sales/lead/ACwAAAHVj4...</td>\n",
       "      <td>Maureen Cusick Thomas</td>\n",
       "      <td>Maureen</td>\n",
       "      <td>Cusick Thomas</td>\n",
       "      <td>Bethesda Green</td>\n",
       "      <td>Innovation Lab Mentor</td>\n",
       "      <td>9287319.0</td>\n",
       "      <td>...</td>\n",
       "      <td>ACwAAAHVj44Brlumxgp-o7YP0oARKp_kKER4e6k</td>\n",
       "      <td>https://www.linkedin.com/in/ACwAAAHVj44Brlumxg...</td>\n",
       "      <td>True</td>\n",
       "      <td>True</td>\n",
       "      <td>The Innovation Lab Mentor Program is designed ...</td>\n",
       "      <td>NaN</td>\n",
       "      <td>NaN</td>\n",
       "      <td>NaN</td>\n",
       "      <td>NaN</td>\n",
       "      <td>NaN</td>\n",
       "    </tr>\n",
       "    <tr>\n",
       "      <th>3</th>\n",
       "      <td>https://www.linkedin.com/sales/search/people?s...</td>\n",
       "      <td>2023-07-19T18:02:26.835Z</td>\n",
       "      <td>NaN</td>\n",
       "      <td>https://www.linkedin.com/sales/lead/ACwAAAE1Yq...</td>\n",
       "      <td>Neil Davis</td>\n",
       "      <td>Neil</td>\n",
       "      <td>Davis</td>\n",
       "      <td>Innovation Works</td>\n",
       "      <td>Business Mentor</td>\n",
       "      <td>11787752.0</td>\n",
       "      <td>...</td>\n",
       "      <td>ACwAAAE1YqQBZoy53iiEXT0Ol-GrNh_0U0dhvqM</td>\n",
       "      <td>https://www.linkedin.com/in/ACwAAAE1YqQBZoy53i...</td>\n",
       "      <td>False</td>\n",
       "      <td>False</td>\n",
       "      <td>Innovation Works aims to reduce Baltimoreâs ...</td>\n",
       "      <td>NaN</td>\n",
       "      <td>NaN</td>\n",
       "      <td>NaN</td>\n",
       "      <td>NaN</td>\n",
       "      <td>NaN</td>\n",
       "    </tr>\n",
       "    <tr>\n",
       "      <th>4</th>\n",
       "      <td>https://www.linkedin.com/sales/search/people?s...</td>\n",
       "      <td>2023-07-19T18:02:26.835Z</td>\n",
       "      <td>NaN</td>\n",
       "      <td>https://www.linkedin.com/sales/lead/ACwAAACRHS...</td>\n",
       "      <td>Michael Hess</td>\n",
       "      <td>Michael</td>\n",
       "      <td>Hess</td>\n",
       "      <td>ABS Advisory Services Group, Inc.</td>\n",
       "      <td>Chairman/CEO</td>\n",
       "      <td>NaN</td>\n",
       "      <td>...</td>\n",
       "      <td>ACwAAACRHSQB6TCtuIxEce2hAb9lV3NM_GzNPc8</td>\n",
       "      <td>https://www.linkedin.com/in/ACwAAACRHSQB6TCtuI...</td>\n",
       "      <td>False</td>\n",
       "      <td>False</td>\n",
       "      <td>Manage mergers &amp; acquisitions, corporate and r...</td>\n",
       "      <td>NaN</td>\n",
       "      <td>NaN</td>\n",
       "      <td>NaN</td>\n",
       "      <td>NaN</td>\n",
       "      <td>NaN</td>\n",
       "    </tr>\n",
       "  </tbody>\n",
       "</table>\n",
       "<p>5 rows × 32 columns</p>\n",
       "</div>"
      ],
      "text/plain": [
       "                                               query  \\\n",
       "0                                         Search5 SN   \n",
       "1  https://www.linkedin.com/sales/search/people?s...   \n",
       "2  https://www.linkedin.com/sales/search/people?s...   \n",
       "3  https://www.linkedin.com/sales/search/people?s...   \n",
       "4  https://www.linkedin.com/sales/search/people?s...   \n",
       "\n",
       "                  timestamp            error  \\\n",
       "0  2023-07-19T18:00:39.744Z  No result found   \n",
       "1  2023-07-19T18:02:26.834Z              NaN   \n",
       "2  2023-07-19T18:02:26.834Z              NaN   \n",
       "3  2023-07-19T18:02:26.835Z              NaN   \n",
       "4  2023-07-19T18:02:26.835Z              NaN   \n",
       "\n",
       "                                          profileUrl               fullName  \\\n",
       "0                                                NaN                    NaN   \n",
       "1  https://www.linkedin.com/sales/lead/ACwAABgNPU...      Dr. Edgar Noumair   \n",
       "2  https://www.linkedin.com/sales/lead/ACwAAAHVj4...  Maureen Cusick Thomas   \n",
       "3  https://www.linkedin.com/sales/lead/ACwAAAE1Yq...             Neil Davis   \n",
       "4  https://www.linkedin.com/sales/lead/ACwAAACRHS...           Michael Hess   \n",
       "\n",
       "   firstName       lastName                                companyName  \\\n",
       "0        NaN            NaN                                        NaN   \n",
       "1  Dr. Edgar        Noumair  Talal and Madiha Zein AUB Innovation Park   \n",
       "2    Maureen  Cusick Thomas                             Bethesda Green   \n",
       "3       Neil          Davis                           Innovation Works   \n",
       "4    Michael           Hess          ABS Advisory Services Group, Inc.   \n",
       "\n",
       "                   title   companyId  ...  \\\n",
       "0                    NaN         NaN  ...   \n",
       "1                 Mentor  71418447.0  ...   \n",
       "2  Innovation Lab Mentor   9287319.0  ...   \n",
       "3        Business Mentor  11787752.0  ...   \n",
       "4           Chairman/CEO         NaN  ...   \n",
       "\n",
       "                                      vmid  \\\n",
       "0                                      NaN   \n",
       "1  ACwAABgNPUkBxBAF3JxK0VPQmHkYRnrxXzAiHjY   \n",
       "2  ACwAAAHVj44Brlumxgp-o7YP0oARKp_kKER4e6k   \n",
       "3  ACwAAAE1YqQBZoy53iiEXT0Ol-GrNh_0U0dhvqM   \n",
       "4  ACwAAACRHSQB6TCtuIxEce2hAb9lV3NM_GzNPc8   \n",
       "\n",
       "                                  linkedInProfileUrl isPremium isOpenLink  \\\n",
       "0                                                NaN       NaN        NaN   \n",
       "1  https://www.linkedin.com/in/ACwAABgNPUkBxBAF3J...     False      False   \n",
       "2  https://www.linkedin.com/in/ACwAAAHVj44Brlumxg...      True       True   \n",
       "3  https://www.linkedin.com/in/ACwAAAE1YqQBZoy53i...     False      False   \n",
       "4  https://www.linkedin.com/in/ACwAAACRHSQB6TCtuI...     False      False   \n",
       "\n",
       "                                    titleDescription  \\\n",
       "0                                                NaN   \n",
       "1                                                NaN   \n",
       "2  The Innovation Lab Mentor Program is designed ...   \n",
       "3  Innovation Works aims to reduce Baltimoreâs ...   \n",
       "4  Manage mergers & acquisitions, corporate and r...   \n",
       "\n",
       "  pastExperienceCompanyName pastExperienceCompanyUrl  \\\n",
       "0                       NaN                      NaN   \n",
       "1                       NaN                      NaN   \n",
       "2                       NaN                      NaN   \n",
       "3                       NaN                      NaN   \n",
       "4                       NaN                      NaN   \n",
       "\n",
       "  pastExperienceCompanyTitle pastExperienceDate pastExperienceDuration  \n",
       "0                        NaN                NaN                    NaN  \n",
       "1                        NaN                NaN                    NaN  \n",
       "2                        NaN                NaN                    NaN  \n",
       "3                        NaN                NaN                    NaN  \n",
       "4                        NaN                NaN                    NaN  \n",
       "\n",
       "[5 rows x 32 columns]"
      ]
     },
     "execution_count": 16,
     "metadata": {},
     "output_type": "execute_result"
    }
   ],
   "source": [
    "search_export_df.head()"
   ]
  },
  {
   "cell_type": "code",
   "execution_count": 17,
   "id": "a3f1b3a3",
   "metadata": {
    "ExecuteTime": {
     "end_time": "2023-08-08T18:50:54.973824Z",
     "start_time": "2023-08-08T18:50:54.858657Z"
    }
   },
   "outputs": [
    {
     "data": {
      "text/html": [
       "<div>\n",
       "<style scoped>\n",
       "    .dataframe tbody tr th:only-of-type {\n",
       "        vertical-align: middle;\n",
       "    }\n",
       "\n",
       "    .dataframe tbody tr th {\n",
       "        vertical-align: top;\n",
       "    }\n",
       "\n",
       "    .dataframe thead th {\n",
       "        text-align: right;\n",
       "    }\n",
       "</style>\n",
       "<table border=\"1\" class=\"dataframe\">\n",
       "  <thead>\n",
       "    <tr style=\"text-align: right;\">\n",
       "      <th></th>\n",
       "      <th>error</th>\n",
       "      <th>baseUrl</th>\n",
       "      <th>timestamp</th>\n",
       "      <th>linkedinProfileUrl</th>\n",
       "      <th>email</th>\n",
       "      <th>linkedinProfile</th>\n",
       "      <th>description</th>\n",
       "      <th>headline</th>\n",
       "      <th>location</th>\n",
       "      <th>imgUrl</th>\n",
       "      <th>...</th>\n",
       "      <th>mail</th>\n",
       "      <th>companyUrl</th>\n",
       "      <th>companyUrl2</th>\n",
       "      <th>schoolUrl2</th>\n",
       "      <th>website</th>\n",
       "      <th>schoolDateRange</th>\n",
       "      <th>schoolDateRange2</th>\n",
       "      <th>birthday</th>\n",
       "      <th>facebookUrl</th>\n",
       "      <th>connectedOn</th>\n",
       "    </tr>\n",
       "  </thead>\n",
       "  <tbody>\n",
       "    <tr>\n",
       "      <th>0</th>\n",
       "      <td>Not a LinkedIn Profile URL</td>\n",
       "      <td>profileUrl</td>\n",
       "      <td>2023-07-19T19:21:54.310Z</td>\n",
       "      <td>NaN</td>\n",
       "      <td>NaN</td>\n",
       "      <td>NaN</td>\n",
       "      <td>NaN</td>\n",
       "      <td>NaN</td>\n",
       "      <td>NaN</td>\n",
       "      <td>NaN</td>\n",
       "      <td>...</td>\n",
       "      <td>NaN</td>\n",
       "      <td>NaN</td>\n",
       "      <td>NaN</td>\n",
       "      <td>NaN</td>\n",
       "      <td>NaN</td>\n",
       "      <td>NaN</td>\n",
       "      <td>NaN</td>\n",
       "      <td>NaN</td>\n",
       "      <td>NaN</td>\n",
       "      <td>NaN</td>\n",
       "    </tr>\n",
       "    <tr>\n",
       "      <th>1</th>\n",
       "      <td>NaN</td>\n",
       "      <td>https://www.linkedin.com/sales/lead/ACwAAAHVj4...</td>\n",
       "      <td>2023-07-19T19:22:11.128Z</td>\n",
       "      <td>https://www.linkedin.com/in/maureenbcthomas/</td>\n",
       "      <td>NaN</td>\n",
       "      <td>https://www.linkedin.com/in/maureenbcthomas/</td>\n",
       "      <td>A visionary strategist, entrepreneur and innov...</td>\n",
       "      <td>Stakeholder Engagement I Innovative Coalition ...</td>\n",
       "      <td>Washington DC-Baltimore Area</td>\n",
       "      <td>https://media.licdn.com/dms/image/C5603AQGVCII...</td>\n",
       "      <td>...</td>\n",
       "      <td>NaN</td>\n",
       "      <td>NaN</td>\n",
       "      <td>NaN</td>\n",
       "      <td>NaN</td>\n",
       "      <td>NaN</td>\n",
       "      <td>NaN</td>\n",
       "      <td>NaN</td>\n",
       "      <td>NaN</td>\n",
       "      <td>NaN</td>\n",
       "      <td>NaN</td>\n",
       "    </tr>\n",
       "    <tr>\n",
       "      <th>2</th>\n",
       "      <td>NaN</td>\n",
       "      <td>https://www.linkedin.com/sales/lead/ACwAABgNPU...</td>\n",
       "      <td>2023-07-19T19:22:32.106Z</td>\n",
       "      <td>https://www.linkedin.com/in/edgarnoumair/</td>\n",
       "      <td>ednoumair@hotmail.com</td>\n",
       "      <td>https://www.linkedin.com/in/edgarnoumair/</td>\n",
       "      <td>I Advise &amp; Lead Boards &amp; Organizations on Acti...</td>\n",
       "      <td>Data Scientist / Entrepreneur / Author / Artis...</td>\n",
       "      <td>Washington DC-Baltimore Area</td>\n",
       "      <td>https://media.licdn.com/dms/image/C5603AQFNGxE...</td>\n",
       "      <td>...</td>\n",
       "      <td>ednoumair@hotmail.com</td>\n",
       "      <td>https://www.linkedin.com/company/10522559/</td>\n",
       "      <td>https://www.linkedin.com/company/4794/</td>\n",
       "      <td>https://www.linkedin.com/company/3165/</td>\n",
       "      <td>gnoci.com</td>\n",
       "      <td>NaN</td>\n",
       "      <td>NaN</td>\n",
       "      <td>NaN</td>\n",
       "      <td>NaN</td>\n",
       "      <td>NaN</td>\n",
       "    </tr>\n",
       "    <tr>\n",
       "      <th>3</th>\n",
       "      <td>NaN</td>\n",
       "      <td>https://www.linkedin.com/sales/lead/ACwAAAE1Yq...</td>\n",
       "      <td>2023-07-19T19:22:51.105Z</td>\n",
       "      <td>https://www.linkedin.com/in/nrdavis/</td>\n",
       "      <td>NaN</td>\n",
       "      <td>https://www.linkedin.com/in/nrdavis/</td>\n",
       "      <td>NaN</td>\n",
       "      <td>Assisting Maryland's startup companies and ent...</td>\n",
       "      <td>Towson, Maryland, United States</td>\n",
       "      <td>https://media.licdn.com/dms/image/D5603AQGPI--...</td>\n",
       "      <td>...</td>\n",
       "      <td>NaN</td>\n",
       "      <td>https://www.linkedin.com/company/5337426/</td>\n",
       "      <td>https://www.linkedin.com/company/1734721/</td>\n",
       "      <td>https://www.linkedin.com/company/19308/</td>\n",
       "      <td>NaN</td>\n",
       "      <td>1979 - 1982</td>\n",
       "      <td>1971 - 1975</td>\n",
       "      <td>NaN</td>\n",
       "      <td>NaN</td>\n",
       "      <td>NaN</td>\n",
       "    </tr>\n",
       "    <tr>\n",
       "      <th>4</th>\n",
       "      <td>NaN</td>\n",
       "      <td>https://www.linkedin.com/sales/lead/ACwAAACRHS...</td>\n",
       "      <td>2023-07-19T19:23:08.967Z</td>\n",
       "      <td>https://www.linkedin.com/in/discoveringmind/</td>\n",
       "      <td>NaN</td>\n",
       "      <td>https://www.linkedin.com/in/discoveringmind/</td>\n",
       "      <td>I help corporate and real estate teams plan an...</td>\n",
       "      <td>Finance/M&amp;A Entrepreneur, Director &amp; Advisor. ...</td>\n",
       "      <td>Annapolis, Maryland, United States</td>\n",
       "      <td>https://media.licdn.com/dms/image/C4D03AQF-DLN...</td>\n",
       "      <td>...</td>\n",
       "      <td>NaN</td>\n",
       "      <td>NaN</td>\n",
       "      <td>https://www.linkedin.com/company/59839/</td>\n",
       "      <td>https://www.linkedin.com/company/4477/</td>\n",
       "      <td>NaN</td>\n",
       "      <td>1986 - 1988</td>\n",
       "      <td>Jul 2021 - Aug 2021</td>\n",
       "      <td>NaN</td>\n",
       "      <td>NaN</td>\n",
       "      <td>NaN</td>\n",
       "    </tr>\n",
       "  </tbody>\n",
       "</table>\n",
       "<p>5 rows × 67 columns</p>\n",
       "</div>"
      ],
      "text/plain": [
       "                        error  \\\n",
       "0  Not a LinkedIn Profile URL   \n",
       "1                         NaN   \n",
       "2                         NaN   \n",
       "3                         NaN   \n",
       "4                         NaN   \n",
       "\n",
       "                                             baseUrl  \\\n",
       "0                                         profileUrl   \n",
       "1  https://www.linkedin.com/sales/lead/ACwAAAHVj4...   \n",
       "2  https://www.linkedin.com/sales/lead/ACwAABgNPU...   \n",
       "3  https://www.linkedin.com/sales/lead/ACwAAAE1Yq...   \n",
       "4  https://www.linkedin.com/sales/lead/ACwAAACRHS...   \n",
       "\n",
       "                  timestamp                            linkedinProfileUrl  \\\n",
       "0  2023-07-19T19:21:54.310Z                                           NaN   \n",
       "1  2023-07-19T19:22:11.128Z  https://www.linkedin.com/in/maureenbcthomas/   \n",
       "2  2023-07-19T19:22:32.106Z     https://www.linkedin.com/in/edgarnoumair/   \n",
       "3  2023-07-19T19:22:51.105Z          https://www.linkedin.com/in/nrdavis/   \n",
       "4  2023-07-19T19:23:08.967Z  https://www.linkedin.com/in/discoveringmind/   \n",
       "\n",
       "                   email                               linkedinProfile  \\\n",
       "0                    NaN                                           NaN   \n",
       "1                    NaN  https://www.linkedin.com/in/maureenbcthomas/   \n",
       "2  ednoumair@hotmail.com     https://www.linkedin.com/in/edgarnoumair/   \n",
       "3                    NaN          https://www.linkedin.com/in/nrdavis/   \n",
       "4                    NaN  https://www.linkedin.com/in/discoveringmind/   \n",
       "\n",
       "                                         description  \\\n",
       "0                                                NaN   \n",
       "1  A visionary strategist, entrepreneur and innov...   \n",
       "2  I Advise & Lead Boards & Organizations on Acti...   \n",
       "3                                                NaN   \n",
       "4  I help corporate and real estate teams plan an...   \n",
       "\n",
       "                                            headline  \\\n",
       "0                                                NaN   \n",
       "1  Stakeholder Engagement I Innovative Coalition ...   \n",
       "2  Data Scientist / Entrepreneur / Author / Artis...   \n",
       "3  Assisting Maryland's startup companies and ent...   \n",
       "4  Finance/M&A Entrepreneur, Director & Advisor. ...   \n",
       "\n",
       "                             location  \\\n",
       "0                                 NaN   \n",
       "1        Washington DC-Baltimore Area   \n",
       "2        Washington DC-Baltimore Area   \n",
       "3     Towson, Maryland, United States   \n",
       "4  Annapolis, Maryland, United States   \n",
       "\n",
       "                                              imgUrl  ...  \\\n",
       "0                                                NaN  ...   \n",
       "1  https://media.licdn.com/dms/image/C5603AQGVCII...  ...   \n",
       "2  https://media.licdn.com/dms/image/C5603AQFNGxE...  ...   \n",
       "3  https://media.licdn.com/dms/image/D5603AQGPI--...  ...   \n",
       "4  https://media.licdn.com/dms/image/C4D03AQF-DLN...  ...   \n",
       "\n",
       "                    mail                                  companyUrl  \\\n",
       "0                    NaN                                         NaN   \n",
       "1                    NaN                                         NaN   \n",
       "2  ednoumair@hotmail.com  https://www.linkedin.com/company/10522559/   \n",
       "3                    NaN   https://www.linkedin.com/company/5337426/   \n",
       "4                    NaN                                         NaN   \n",
       "\n",
       "                                 companyUrl2  \\\n",
       "0                                        NaN   \n",
       "1                                        NaN   \n",
       "2     https://www.linkedin.com/company/4794/   \n",
       "3  https://www.linkedin.com/company/1734721/   \n",
       "4    https://www.linkedin.com/company/59839/   \n",
       "\n",
       "                                schoolUrl2    website schoolDateRange  \\\n",
       "0                                      NaN        NaN             NaN   \n",
       "1                                      NaN        NaN             NaN   \n",
       "2   https://www.linkedin.com/company/3165/  gnoci.com             NaN   \n",
       "3  https://www.linkedin.com/company/19308/        NaN     1979 - 1982   \n",
       "4   https://www.linkedin.com/company/4477/        NaN     1986 - 1988   \n",
       "\n",
       "      schoolDateRange2 birthday  facebookUrl connectedOn  \n",
       "0                  NaN      NaN          NaN         NaN  \n",
       "1                  NaN      NaN          NaN         NaN  \n",
       "2                  NaN      NaN          NaN         NaN  \n",
       "3          1971 - 1975      NaN          NaN         NaN  \n",
       "4  Jul 2021 - Aug 2021      NaN          NaN         NaN  \n",
       "\n",
       "[5 rows x 67 columns]"
      ]
     },
     "execution_count": 17,
     "metadata": {},
     "output_type": "execute_result"
    }
   ],
   "source": [
    "profile_export_df.head()"
   ]
  },
  {
   "cell_type": "code",
   "execution_count": 18,
   "id": "eb4fb99d",
   "metadata": {
    "ExecuteTime": {
     "end_time": "2023-08-08T18:50:55.003950Z",
     "start_time": "2023-08-08T18:50:54.985316Z"
    }
   },
   "outputs": [],
   "source": [
    "def df_to_gsheet(gsheet_name: str, df: pd.DataFrame) -> None:\n",
    "    gsheet = gspread_pandas.Spread(\n",
    "        gsheet_name,\n",
    "        sheet=\"Sheet1\",\n",
    "        create_sheet=True,\n",
    "    )\n",
    "    gsheet.df_to_sheet(df, index=False)\n",
    "    _LOG.info(\"Save to gsheet %s\", gsheet_name)"
   ]
  },
  {
   "cell_type": "code",
   "execution_count": 19,
   "id": "ca876dff",
   "metadata": {
    "ExecuteTime": {
     "end_time": "2023-08-08T18:51:00.851842Z",
     "start_time": "2023-08-08T18:50:55.017484Z"
    }
   },
   "outputs": [
    {
     "name": "stdout",
     "output_type": "stream",
     "text": [
      "INFO  Save to gsheet sn_test_folder.step1.search_export\n",
      "INFO  Save to gsheet sn_test_folder.step3.profile_export\n"
     ]
    }
   ],
   "source": [
    "df_to_gsheet(f\"{search_name}.step1.search_export\", search_export_df)\n",
    "df_to_gsheet(f\"{search_name}.step3.profile_export\", profile_export_df)"
   ]
  },
  {
   "cell_type": "markdown",
   "id": "58bfab76",
   "metadata": {},
   "source": [
    "# Delete temp result CSVs"
   ]
  },
  {
   "cell_type": "code",
   "execution_count": 20,
   "id": "f0e2b4eb",
   "metadata": {
    "ExecuteTime": {
     "end_time": "2023-08-08T18:51:00.903773Z",
     "start_time": "2023-08-08T18:51:00.879189Z"
    }
   },
   "outputs": [],
   "source": [
    "import helpers.hio as hio"
   ]
  },
  {
   "cell_type": "code",
   "execution_count": 21,
   "id": "1d034004",
   "metadata": {
    "ExecuteTime": {
     "end_time": "2023-08-08T18:51:00.943419Z",
     "start_time": "2023-08-08T18:51:00.915941Z"
    }
   },
   "outputs": [
    {
     "name": "stdout",
     "output_type": "stream",
     "text": [
      "INFO  Delete file ../result_csv/sn_test_folder_search_result.csv\n",
      "INFO  Delete file ../result_csv/sn_test_folder_profile_result.csv\n"
     ]
    }
   ],
   "source": [
    "hio.delete_file(search_result_csv_path)\n",
    "_LOG.info(\"Delete file %s\", search_result_csv_path)\n",
    "hio.delete_file(profile_result_csv_path)\n",
    "_LOG.info(\"Delete file %s\", profile_result_csv_path)"
   ]
  }
 ],
 "metadata": {
  "kernelspec": {
   "display_name": "Python 3 (ipykernel)",
   "language": "python",
   "name": "python3"
  },
  "language_info": {
   "codemirror_mode": {
    "name": "ipython",
    "version": 3
   },
   "file_extension": ".py",
   "mimetype": "text/x-python",
   "name": "python",
   "nbconvert_exporter": "python",
   "pygments_lexer": "ipython3",
   "version": "3.8.10"
  },
  "toc": {
   "base_numbering": 1,
   "nav_menu": {},
   "number_sections": true,
   "sideBar": true,
   "skip_h1_title": false,
   "title_cell": "Table of Contents",
   "title_sidebar": "Contents",
   "toc_cell": false,
   "toc_position": {},
   "toc_section_display": true,
   "toc_window_display": false
  }
 },
 "nbformat": 4,
 "nbformat_minor": 5
}
