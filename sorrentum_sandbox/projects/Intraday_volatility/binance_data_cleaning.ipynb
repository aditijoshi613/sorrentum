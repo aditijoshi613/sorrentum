{
 "cells": [
  {
   "cell_type": "code",
   "execution_count": 1,
   "id": "8a8afb40-0410-417e-89b0-7781007ad5b1",
   "metadata": {},
   "outputs": [],
   "source": [
    "import pandas\n",
    "import pandas as pd\n",
    "import numpy as np\n",
    "import pyarrow.dataset as ds\n",
    "import pyarrow.parquet as pq\n",
    "import matplotlib.pyplot as plt \n",
    "import datetime as dt\n",
    "from datetime import datetime"
   ]
  },
  {
   "cell_type": "code",
   "execution_count": 2,
   "id": "317ae45d-69c5-4a4f-a794-14086b905593",
   "metadata": {},
   "outputs": [],
   "source": [
    "def import_binance_data(folder_name):\n",
    "    schema = None\n",
    "    partitioning = ds.partitioning(schema, flavor=\"hive\")\n",
    "    dataset = pq.ParquetDataset(\n",
    "        # Replace URI with path.\n",
    "        folder_name,\n",
    "        #filesystem=filesystem,\n",
    "        #filters=filters,\n",
    "        partitioning=partitioning,\n",
    "        use_legacy_dataset=False,\n",
    "    )\n",
    "    columns = None\n",
    "    table = dataset.read_pandas(columns=columns)\n",
    "    binance_data = table.to_pandas()\n",
    "    return binance_data"
   ]
  },
  {
   "cell_type": "code",
   "execution_count": 6,
   "id": "da7b5f22-5bbe-4fa5-bada-60f1d69ed5b5",
   "metadata": {},
   "outputs": [],
   "source": [
    "def clean_binance_data(binance_df):\n",
    "    #drop the exchange_id category since all the rows say 'binance' and we can just acknowedge that fact somewhere else\n",
    "    binance_data = binance_df.drop(['year','month','timestamp','exchange_id'],axis = 1)\n",
    "    #need to reset the index because the df currently has datetime timestamp object as indexing\n",
    "    binance_data = binance_data.reset_index()\n",
    "    #creating a category for the following: DD-MM-YY HH:MM, this makes it easier to group all the minutes and take their average\n",
    "    binance_data['timestamp'] = binance_data['timestamp'].dt.strftime(\"%D %H:%M\")\n",
    "    #groups all the minutes together by bitcoin type\n",
    "    binance_data = binance_data.groupby(['timestamp','currency_pair']).mean()\n",
    "    binance_data = binance_data.reset_index()\n",
    "    return binance_data"
   ]
  },
  {
   "cell_type": "code",
   "execution_count": 7,
   "id": "cc7b0961-08b7-4d91-96f6-38f3e601daf9",
   "metadata": {},
   "outputs": [],
   "source": [
    "local_folder_name = \"C:/Users/Dylan Celli/Downloads/bulk.airflow.downloaded_1min.parquet.ohlcv.futures.v7.ccxt.binance.v1_0_0\"\n",
    "#assumes that the data is already unzipped\n",
    "binance_df = import_binance_data(local_folder_name)\n",
    "binance_data = clean_binance_data(binance_df)\n",
    "#need the index = False bc otherwise it adds an unecessary column for the index as data\n",
    "binance_data.to_csv('clean_binance.csv',index = False)"
   ]
  },
  {
   "cell_type": "code",
   "execution_count": null,
   "id": "e5c948ee-69c5-416d-a14e-2dd14300171e",
   "metadata": {},
   "outputs": [],
   "source": []
  }
 ],
 "metadata": {
  "kernelspec": {
   "display_name": "Python 3 (ipykernel)",
   "language": "python",
   "name": "python3"
  },
  "language_info": {
   "codemirror_mode": {
    "name": "ipython",
    "version": 3
   },
   "file_extension": ".py",
   "mimetype": "text/x-python",
   "name": "python",
   "nbconvert_exporter": "python",
   "pygments_lexer": "ipython3",
   "version": "3.9.0"
  }
 },
 "nbformat": 4,
 "nbformat_minor": 5
}
