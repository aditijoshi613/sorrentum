{
 "cells": [
  {
   "cell_type": "markdown",
   "id": "5d3c9d92",
   "metadata": {},
   "source": [
    "# Loading most recent data from postgres table"
   ]
  },
  {
   "cell_type": "markdown",
   "id": "1f0c9f30",
   "metadata": {},
   "source": [
    "## Installing needed packages and connections"
   ]
  },
  {
   "cell_type": "code",
   "execution_count": 54,
   "id": "c6bc8574",
   "metadata": {
    "ExecuteTime": {
     "end_time": "2023-05-04T00:24:21.386399Z",
     "start_time": "2023-05-04T00:24:14.753977Z"
    }
   },
   "outputs": [
    {
     "name": "stdout",
     "output_type": "stream",
     "text": [
      "Requirement already satisfied: sqlalchemy in /usr/local/lib/python3.10/dist-packages (2.0.12)\n",
      "Requirement already satisfied: greenlet!=0.4.17 in /usr/local/lib/python3.10/dist-packages (from sqlalchemy) (2.0.2)\n",
      "Requirement already satisfied: typing-extensions>=4.2.0 in /usr/local/lib/python3.10/dist-packages (from sqlalchemy) (4.5.0)\n",
      "\u001b[33mWARNING: Running pip as the 'root' user can result in broken permissions and conflicting behaviour with the system package manager. It is recommended to use a virtual environment instead: https://pip.pypa.io/warnings/venv\u001b[0m\u001b[33m\n",
      "\u001b[0mRequirement already satisfied: psycopg2-binary in /usr/local/lib/python3.10/dist-packages (2.9.6)\n",
      "\u001b[33mWARNING: Running pip as the 'root' user can result in broken permissions and conflicting behaviour with the system package manager. It is recommended to use a virtual environment instead: https://pip.pypa.io/warnings/venv\u001b[0m\u001b[33m\n",
      "\u001b[0mRequirement already satisfied: requests in /usr/local/lib/python3.10/dist-packages (2.29.0)\n",
      "Requirement already satisfied: certifi>=2017.4.17 in /usr/local/lib/python3.10/dist-packages (from requests) (2022.12.7)\n",
      "Requirement already satisfied: idna<4,>=2.5 in /usr/local/lib/python3.10/dist-packages (from requests) (3.4)\n",
      "Requirement already satisfied: charset-normalizer<4,>=2 in /usr/local/lib/python3.10/dist-packages (from requests) (3.1.0)\n",
      "Requirement already satisfied: urllib3<1.27,>=1.21.1 in /usr/local/lib/python3.10/dist-packages (from requests) (1.26.14)\n",
      "\u001b[33mWARNING: Running pip as the 'root' user can result in broken permissions and conflicting behaviour with the system package manager. It is recommended to use a virtual environment instead: https://pip.pypa.io/warnings/venv\u001b[0m\u001b[33m\n",
      "\u001b[0m"
     ]
    }
   ],
   "source": [
    "# Install libraries\n",
    "!pip install psycopg2-binary\n",
    "!pip install requests\n",
    "!pip install sqlalchemy --upgrade"
   ]
  },
  {
   "cell_type": "markdown",
   "id": "439aaac7",
   "metadata": {},
   "source": [
    "## Load data and analytics"
   ]
  },
  {
   "cell_type": "code",
   "execution_count": 31,
   "id": "eee1a3c0",
   "metadata": {
    "ExecuteTime": {
     "end_time": "2023-05-04T23:27:52.399630Z",
     "start_time": "2023-05-04T23:27:45.478713Z"
    }
   },
   "outputs": [
    {
     "data": {
      "text/html": [
       "<div>\n",
       "<style scoped>\n",
       "    .dataframe tbody tr th:only-of-type {\n",
       "        vertical-align: middle;\n",
       "    }\n",
       "\n",
       "    .dataframe tbody tr th {\n",
       "        vertical-align: top;\n",
       "    }\n",
       "\n",
       "    .dataframe thead th {\n",
       "        text-align: right;\n",
       "    }\n",
       "</style>\n",
       "<table border=\"1\" class=\"dataframe\">\n",
       "  <thead>\n",
       "    <tr style=\"text-align: right;\">\n",
       "      <th></th>\n",
       "      <th>block_timestamp_time</th>\n",
       "      <th>transaction_to_address</th>\n",
       "      <th>transaction_txfrom_address</th>\n",
       "      <th>close_price</th>\n",
       "      <th>basecurrency_symbol</th>\n",
       "      <th>quotecurrency_symbol</th>\n",
       "    </tr>\n",
       "  </thead>\n",
       "  <tbody>\n",
       "    <tr>\n",
       "      <th>0</th>\n",
       "      <td>2023-05-03 22:39:47</td>\n",
       "      <td>0x0000000000a84d1a9b0063a910315c7ffa9cd248</td>\n",
       "      <td>0x5e3d1448a0365c3b1cd08908d410bfccca449c45</td>\n",
       "      <td>1904.8533148165884</td>\n",
       "      <td>ETH</td>\n",
       "      <td>USDC</td>\n",
       "    </tr>\n",
       "    <tr>\n",
       "      <th>1</th>\n",
       "      <td>2023-05-03 22:39:47</td>\n",
       "      <td>0x0000000000a84d1a9b0063a910315c7ffa9cd248</td>\n",
       "      <td>0x5e3d1448a0365c3b1cd08908d410bfccca449c45</td>\n",
       "      <td>0.0005249748063127298</td>\n",
       "      <td>USDC</td>\n",
       "      <td>ETH</td>\n",
       "    </tr>\n",
       "    <tr>\n",
       "      <th>2</th>\n",
       "      <td>2023-05-03 22:35:35</td>\n",
       "      <td>0xa88800cd213da5ae406ce248380802bd53b47647</td>\n",
       "      <td>0x9108813f22637385228a1c621c1904bbbc50dc25</td>\n",
       "      <td>1888.0772403321316</td>\n",
       "      <td>ETH</td>\n",
       "      <td>USDC</td>\n",
       "    </tr>\n",
       "    <tr>\n",
       "      <th>3</th>\n",
       "      <td>2023-05-03 22:35:35</td>\n",
       "      <td>0xa88800cd213da5ae406ce248380802bd53b47647</td>\n",
       "      <td>0x9108813f22637385228a1c621c1904bbbc50dc25</td>\n",
       "      <td>0.0005296393487716053</td>\n",
       "      <td>USDC</td>\n",
       "      <td>ETH</td>\n",
       "    </tr>\n",
       "    <tr>\n",
       "      <th>4</th>\n",
       "      <td>2023-05-03 22:35:35</td>\n",
       "      <td>0xa88800cd213da5ae406ce248380802bd53b47647</td>\n",
       "      <td>0x9108813f22637385228a1c621c1904bbbc50dc25</td>\n",
       "      <td>0.000031954331131291345</td>\n",
       "      <td>HEX</td>\n",
       "      <td>ETH</td>\n",
       "    </tr>\n",
       "  </tbody>\n",
       "</table>\n",
       "</div>"
      ],
      "text/plain": [
       "  block_timestamp_time                      transaction_to_address  \\\n",
       "0  2023-05-03 22:39:47  0x0000000000a84d1a9b0063a910315c7ffa9cd248   \n",
       "1  2023-05-03 22:39:47  0x0000000000a84d1a9b0063a910315c7ffa9cd248   \n",
       "2  2023-05-03 22:35:35  0xa88800cd213da5ae406ce248380802bd53b47647   \n",
       "3  2023-05-03 22:35:35  0xa88800cd213da5ae406ce248380802bd53b47647   \n",
       "4  2023-05-03 22:35:35  0xa88800cd213da5ae406ce248380802bd53b47647   \n",
       "\n",
       "                   transaction_txfrom_address              close_price  \\\n",
       "0  0x5e3d1448a0365c3b1cd08908d410bfccca449c45       1904.8533148165884   \n",
       "1  0x5e3d1448a0365c3b1cd08908d410bfccca449c45    0.0005249748063127298   \n",
       "2  0x9108813f22637385228a1c621c1904bbbc50dc25       1888.0772403321316   \n",
       "3  0x9108813f22637385228a1c621c1904bbbc50dc25    0.0005296393487716053   \n",
       "4  0x9108813f22637385228a1c621c1904bbbc50dc25  0.000031954331131291345   \n",
       "\n",
       "  basecurrency_symbol quotecurrency_symbol  \n",
       "0                 ETH                 USDC  \n",
       "1                USDC                  ETH  \n",
       "2                 ETH                 USDC  \n",
       "3                USDC                  ETH  \n",
       "4                 HEX                  ETH  "
      ]
     },
     "execution_count": 31,
     "metadata": {},
     "output_type": "execute_result"
    }
   ],
   "source": [
    "from api_query import api_query_call\n",
    "\n",
    "df = api_query_call(\"SELECT * FROM uniswap_table\")\n"
   ]
  },
  {
   "cell_type": "code",
   "execution_count": 32,
   "id": "2e7b5ff3",
   "metadata": {
    "ExecuteTime": {
     "end_time": "2023-05-04T23:28:09.065357Z",
     "start_time": "2023-05-04T23:28:09.042465Z"
    }
   },
   "outputs": [
    {
     "data": {
      "text/html": [
       "<div>\n",
       "<style scoped>\n",
       "    .dataframe tbody tr th:only-of-type {\n",
       "        vertical-align: middle;\n",
       "    }\n",
       "\n",
       "    .dataframe tbody tr th {\n",
       "        vertical-align: top;\n",
       "    }\n",
       "\n",
       "    .dataframe thead th {\n",
       "        text-align: right;\n",
       "    }\n",
       "</style>\n",
       "<table border=\"1\" class=\"dataframe\">\n",
       "  <thead>\n",
       "    <tr style=\"text-align: right;\">\n",
       "      <th></th>\n",
       "      <th>block_timestamp_time</th>\n",
       "      <th>transaction_to_address</th>\n",
       "      <th>transaction_txfrom_address</th>\n",
       "      <th>close_price</th>\n",
       "      <th>basecurrency_symbol</th>\n",
       "      <th>quotecurrency_symbol</th>\n",
       "    </tr>\n",
       "  </thead>\n",
       "  <tbody>\n",
       "    <tr>\n",
       "      <th>0</th>\n",
       "      <td>2023-05-03 22:39:47</td>\n",
       "      <td>0x0000000000a84d1a9b0063a910315c7ffa9cd248</td>\n",
       "      <td>0x5e3d1448a0365c3b1cd08908d410bfccca449c45</td>\n",
       "      <td>1904.8533148165884</td>\n",
       "      <td>ETH</td>\n",
       "      <td>USDC</td>\n",
       "    </tr>\n",
       "    <tr>\n",
       "      <th>1</th>\n",
       "      <td>2023-05-03 22:39:47</td>\n",
       "      <td>0x0000000000a84d1a9b0063a910315c7ffa9cd248</td>\n",
       "      <td>0x5e3d1448a0365c3b1cd08908d410bfccca449c45</td>\n",
       "      <td>0.0005249748063127298</td>\n",
       "      <td>USDC</td>\n",
       "      <td>ETH</td>\n",
       "    </tr>\n",
       "    <tr>\n",
       "      <th>2</th>\n",
       "      <td>2023-05-03 22:35:35</td>\n",
       "      <td>0xa88800cd213da5ae406ce248380802bd53b47647</td>\n",
       "      <td>0x9108813f22637385228a1c621c1904bbbc50dc25</td>\n",
       "      <td>1888.0772403321316</td>\n",
       "      <td>ETH</td>\n",
       "      <td>USDC</td>\n",
       "    </tr>\n",
       "    <tr>\n",
       "      <th>3</th>\n",
       "      <td>2023-05-03 22:35:35</td>\n",
       "      <td>0xa88800cd213da5ae406ce248380802bd53b47647</td>\n",
       "      <td>0x9108813f22637385228a1c621c1904bbbc50dc25</td>\n",
       "      <td>0.0005296393487716053</td>\n",
       "      <td>USDC</td>\n",
       "      <td>ETH</td>\n",
       "    </tr>\n",
       "    <tr>\n",
       "      <th>4</th>\n",
       "      <td>2023-05-03 22:35:35</td>\n",
       "      <td>0xa88800cd213da5ae406ce248380802bd53b47647</td>\n",
       "      <td>0x9108813f22637385228a1c621c1904bbbc50dc25</td>\n",
       "      <td>0.000031954331131291345</td>\n",
       "      <td>HEX</td>\n",
       "      <td>ETH</td>\n",
       "    </tr>\n",
       "  </tbody>\n",
       "</table>\n",
       "</div>"
      ],
      "text/plain": [
       "  block_timestamp_time                      transaction_to_address  \\\n",
       "0  2023-05-03 22:39:47  0x0000000000a84d1a9b0063a910315c7ffa9cd248   \n",
       "1  2023-05-03 22:39:47  0x0000000000a84d1a9b0063a910315c7ffa9cd248   \n",
       "2  2023-05-03 22:35:35  0xa88800cd213da5ae406ce248380802bd53b47647   \n",
       "3  2023-05-03 22:35:35  0xa88800cd213da5ae406ce248380802bd53b47647   \n",
       "4  2023-05-03 22:35:35  0xa88800cd213da5ae406ce248380802bd53b47647   \n",
       "\n",
       "                   transaction_txfrom_address              close_price  \\\n",
       "0  0x5e3d1448a0365c3b1cd08908d410bfccca449c45       1904.8533148165884   \n",
       "1  0x5e3d1448a0365c3b1cd08908d410bfccca449c45    0.0005249748063127298   \n",
       "2  0x9108813f22637385228a1c621c1904bbbc50dc25       1888.0772403321316   \n",
       "3  0x9108813f22637385228a1c621c1904bbbc50dc25    0.0005296393487716053   \n",
       "4  0x9108813f22637385228a1c621c1904bbbc50dc25  0.000031954331131291345   \n",
       "\n",
       "  basecurrency_symbol quotecurrency_symbol  \n",
       "0                 ETH                 USDC  \n",
       "1                USDC                  ETH  \n",
       "2                 ETH                 USDC  \n",
       "3                USDC                  ETH  \n",
       "4                 HEX                  ETH  "
      ]
     },
     "execution_count": 32,
     "metadata": {},
     "output_type": "execute_result"
    }
   ],
   "source": [
    "# Trim dataframe\n",
    "df = df[[\"block_timestamp_time\",\"transaction_to_address\",\"transaction_txfrom_address\",\"close_price\",\"basecurrency_symbol\" \\\n",
    "        ,\"quotecurrency_symbol\"]]\n",
    "\n",
    "df[0:10].head()"
   ]
  },
  {
   "cell_type": "code",
   "execution_count": 33,
   "id": "4cb08685",
   "metadata": {
    "ExecuteTime": {
     "end_time": "2023-05-04T23:31:09.220463Z",
     "start_time": "2023-05-04T23:31:09.198830Z"
    }
   },
   "outputs": [
    {
     "data": {
      "text/html": [
       "<div>\n",
       "<style scoped>\n",
       "    .dataframe tbody tr th:only-of-type {\n",
       "        vertical-align: middle;\n",
       "    }\n",
       "\n",
       "    .dataframe tbody tr th {\n",
       "        vertical-align: top;\n",
       "    }\n",
       "\n",
       "    .dataframe thead th {\n",
       "        text-align: right;\n",
       "    }\n",
       "</style>\n",
       "<table border=\"1\" class=\"dataframe\">\n",
       "  <thead>\n",
       "    <tr style=\"text-align: right;\">\n",
       "      <th></th>\n",
       "      <th>block_timestamp_time</th>\n",
       "      <th>transaction_to_address</th>\n",
       "      <th>transaction_txfrom_address</th>\n",
       "      <th>close_price</th>\n",
       "      <th>basecurrency_symbol</th>\n",
       "      <th>quotecurrency_symbol</th>\n",
       "    </tr>\n",
       "  </thead>\n",
       "  <tbody>\n",
       "    <tr>\n",
       "      <th>1</th>\n",
       "      <td>2023-05-03 22:39:47</td>\n",
       "      <td>0x0000000000a84d1a9b0063a910315c7ffa9cd248</td>\n",
       "      <td>0x5e3d1448a0365c3b1cd08908d410bfccca449c45</td>\n",
       "      <td>0.0005249748063127298</td>\n",
       "      <td>USDC</td>\n",
       "      <td>ETH</td>\n",
       "    </tr>\n",
       "    <tr>\n",
       "      <th>3</th>\n",
       "      <td>2023-05-03 22:35:35</td>\n",
       "      <td>0xa88800cd213da5ae406ce248380802bd53b47647</td>\n",
       "      <td>0x9108813f22637385228a1c621c1904bbbc50dc25</td>\n",
       "      <td>0.0005296393487716053</td>\n",
       "      <td>USDC</td>\n",
       "      <td>ETH</td>\n",
       "    </tr>\n",
       "    <tr>\n",
       "      <th>17</th>\n",
       "      <td>2023-05-03 17:44:47</td>\n",
       "      <td>0x24902aa0cf0000a08c0ea0b003b0c0bf600000e0</td>\n",
       "      <td>0xd7e1236c08731c3632519dcd1a581bfe6876a3b2</td>\n",
       "      <td>0.0005347831499075275</td>\n",
       "      <td>USDC</td>\n",
       "      <td>ETH</td>\n",
       "    </tr>\n",
       "    <tr>\n",
       "      <th>24</th>\n",
       "      <td>2023-05-03 13:22:59</td>\n",
       "      <td>0xdef1c0ded9bec7f1a1670819833240f027b25eff</td>\n",
       "      <td>0x7322ec21a36a5c413f10f43ecbebb7961f9c9734</td>\n",
       "      <td>0.000540588419559359</td>\n",
       "      <td>USDC</td>\n",
       "      <td>ETH</td>\n",
       "    </tr>\n",
       "    <tr>\n",
       "      <th>36</th>\n",
       "      <td>2023-05-03 03:32:47</td>\n",
       "      <td>0x24902aa0cf0000a08c0ea0b003b0c0bf600000e0</td>\n",
       "      <td>0xd7e1236c08731c3632519dcd1a581bfe6876a3b2</td>\n",
       "      <td>0.0005364205609019324</td>\n",
       "      <td>USDC</td>\n",
       "      <td>ETH</td>\n",
       "    </tr>\n",
       "  </tbody>\n",
       "</table>\n",
       "</div>"
      ],
      "text/plain": [
       "   block_timestamp_time                      transaction_to_address  \\\n",
       "1   2023-05-03 22:39:47  0x0000000000a84d1a9b0063a910315c7ffa9cd248   \n",
       "3   2023-05-03 22:35:35  0xa88800cd213da5ae406ce248380802bd53b47647   \n",
       "17  2023-05-03 17:44:47  0x24902aa0cf0000a08c0ea0b003b0c0bf600000e0   \n",
       "24  2023-05-03 13:22:59  0xdef1c0ded9bec7f1a1670819833240f027b25eff   \n",
       "36  2023-05-03 03:32:47  0x24902aa0cf0000a08c0ea0b003b0c0bf600000e0   \n",
       "\n",
       "                    transaction_txfrom_address            close_price  \\\n",
       "1   0x5e3d1448a0365c3b1cd08908d410bfccca449c45  0.0005249748063127298   \n",
       "3   0x9108813f22637385228a1c621c1904bbbc50dc25  0.0005296393487716053   \n",
       "17  0xd7e1236c08731c3632519dcd1a581bfe6876a3b2  0.0005347831499075275   \n",
       "24  0x7322ec21a36a5c413f10f43ecbebb7961f9c9734   0.000540588419559359   \n",
       "36  0xd7e1236c08731c3632519dcd1a581bfe6876a3b2  0.0005364205609019324   \n",
       "\n",
       "   basecurrency_symbol quotecurrency_symbol  \n",
       "1                 USDC                  ETH  \n",
       "3                 USDC                  ETH  \n",
       "17                USDC                  ETH  \n",
       "24                USDC                  ETH  \n",
       "36                USDC                  ETH  "
      ]
     },
     "execution_count": 33,
     "metadata": {},
     "output_type": "execute_result"
    }
   ],
   "source": [
    "# Select only the rows where City is 'Chicago'\n",
    "USDC_Transactions = df[df['basecurrency_symbol'] == 'USDC']\n",
    "USDC_Transactions.head()"
   ]
  },
  {
   "cell_type": "code",
   "execution_count": 18,
   "id": "cd4cac90",
   "metadata": {
    "ExecuteTime": {
     "end_time": "2023-05-04T23:14:23.283844Z",
     "start_time": "2023-05-04T23:14:23.269545Z"
    }
   },
   "outputs": [
    {
     "name": "stdout",
     "output_type": "stream",
     "text": [
      "0x24902aa0cf0000a08c0ea0b003b0c0bf600000e0    166\n",
      "dtype: int64\n"
     ]
    }
   ],
   "source": [
    "# We can see the highest trading wallets\n",
    "counts = df[['transaction_to_address', 'transaction_txfrom_address']].stack().value_counts()\n",
    "\n",
    "# Print the wallet with the highest transactions\n",
    "print(counts[[0]])\n",
    "\n"
   ]
  },
  {
   "cell_type": "code",
   "execution_count": 25,
   "id": "ce16d6bb",
   "metadata": {
    "ExecuteTime": {
     "end_time": "2023-05-04T23:21:13.925931Z",
     "start_time": "2023-05-04T23:21:13.914146Z"
    }
   },
   "outputs": [
    {
     "name": "stdout",
     "output_type": "stream",
     "text": [
      "   tradeindex block_timestamp_time  block_height exchange_fullname protocol  \\\n",
      "0          15  2023-05-03 22:39:47      17183209           Uniswap  Uniswap   \n",
      "1          15  2023-05-03 22:39:47      17183209           Uniswap  Uniswap   \n",
      "2          11  2023-05-03 22:35:35      17183188           Uniswap  Uniswap   \n",
      "3          11  2023-05-03 22:35:35      17183188           Uniswap  Uniswap   \n",
      "4          10  2023-05-03 22:35:35      17183188           Uniswap  Uniswap   \n",
      "\n",
      "  timeinterval_minute  \n",
      "0 2023-05-03 22:39:00  \n",
      "1 2023-05-03 22:39:00  \n",
      "2 2023-05-03 22:35:00  \n",
      "3 2023-05-03 22:35:00  \n",
      "4 2023-05-03 22:35:00  \n"
     ]
    }
   ],
   "source": [
    "# Group the rows by object and sum up the cost\n",
    "subset = df.iloc[:, :6]\n",
    "print(subset.head())"
   ]
  },
  {
   "cell_type": "code",
   "execution_count": 23,
   "id": "12edf4a6",
   "metadata": {
    "ExecuteTime": {
     "end_time": "2023-05-04T23:19:27.275218Z",
     "start_time": "2023-05-04T23:19:27.261885Z"
    }
   },
   "outputs": [
    {
     "name": "stdout",
     "output_type": "stream",
     "text": [
      "           baseamount         quoteamount  trades               quoteprice  \\\n",
      "0   2597.662901948303   2610.064734550981       1       1904.8533148165884   \n",
      "1   2610.064734550981   2597.662901948303       1    0.0005249748063127298   \n",
      "2  251.06246686521044  250.03942847251892       1       1888.0772403321316   \n",
      "3  250.03942847251892  251.06246686521044       1    0.0005296393487716053   \n",
      "4   252.8014772247965  251.06246686521044       1  0.000031954331131291345   \n",
      "\n",
      "             maximum_price            minimum_price               open_price  \\\n",
      "0       1904.8533148165884       1904.8533148165884       1904.8533148165884   \n",
      "1    0.0005249748063127298    0.0005249748063127298    0.0005249748063127298   \n",
      "2       1888.0772403321316       1888.0772403321316       1888.0772403321316   \n",
      "3    0.0005296393487716053    0.0005296393487716053    0.0005296393487716053   \n",
      "4  0.000031954331131291345  0.000031954331131291345  0.000031954331131291345   \n",
      "\n",
      "               close_price basecurrency_symbol  \n",
      "0       1904.8533148165884                 ETH  \n",
      "1    0.0005249748063127298                USDC  \n",
      "2       1888.0772403321316                 ETH  \n",
      "3    0.0005296393487716053                USDC  \n",
      "4  0.000031954331131291345                 HEX  \n"
     ]
    }
   ],
   "source": [
    "# Group the rows by object and sum up the cost\n",
    "subset = df.iloc[:, 6:15]\n",
    "print(subset.head())\n",
    "\n",
    "# total_costs = df.groupby('basecurrency_symbol')['cost'].sum()a"
   ]
  },
  {
   "cell_type": "code",
   "execution_count": 24,
   "id": "c8dd2f79",
   "metadata": {
    "ExecuteTime": {
     "end_time": "2023-05-04T23:20:25.893093Z",
     "start_time": "2023-05-04T23:20:25.882067Z"
    }
   },
   "outputs": [
    {
     "name": "stdout",
     "output_type": "stream",
     "text": [
      "                         basecurrency_address quotecurrency_symbol  \\\n",
      "0                                           -                 USDC   \n",
      "1  0xa0b86991c6218b36c1d19d4a2e9eb0ce3606eb48                  ETH   \n",
      "2                                           -                 USDC   \n",
      "3  0xa0b86991c6218b36c1d19d4a2e9eb0ce3606eb48                  ETH   \n",
      "4  0x2b591e99afe9f32eaa6214f7b7629768c40eeb39                  ETH   \n",
      "\n",
      "                        quotecurrency_address  \\\n",
      "0  0xa0b86991c6218b36c1d19d4a2e9eb0ce3606eb48   \n",
      "1                                           -   \n",
      "2  0xa0b86991c6218b36c1d19d4a2e9eb0ce3606eb48   \n",
      "3                                           -   \n",
      "4                                           -   \n",
      "\n",
      "                                    transaction_hash  transaction_gas  \\\n",
      "0  0xc57ff802cab146c1bf6c311988f8c361506e054ab51c...           407492   \n",
      "1  0xc57ff802cab146c1bf6c311988f8c361506e054ab51c...           407492   \n",
      "2  0x7c1d4981c688196c7135ab13f6e13f7da3c95040f5e8...           413844   \n",
      "3  0x7c1d4981c688196c7135ab13f6e13f7da3c95040f5e8...           413844   \n",
      "4  0x7c1d4981c688196c7135ab13f6e13f7da3c95040f5e8...           413844   \n",
      "\n",
      "                       transaction_to_address  \\\n",
      "0  0x0000000000a84d1a9b0063a910315c7ffa9cd248   \n",
      "1  0x0000000000a84d1a9b0063a910315c7ffa9cd248   \n",
      "2  0xa88800cd213da5ae406ce248380802bd53b47647   \n",
      "3  0xa88800cd213da5ae406ce248380802bd53b47647   \n",
      "4  0xa88800cd213da5ae406ce248380802bd53b47647   \n",
      "\n",
      "                   transaction_txfrom_address  \n",
      "0  0x5e3d1448a0365c3b1cd08908d410bfccca449c45  \n",
      "1  0x5e3d1448a0365c3b1cd08908d410bfccca449c45  \n",
      "2  0x9108813f22637385228a1c621c1904bbbc50dc25  \n",
      "3  0x9108813f22637385228a1c621c1904bbbc50dc25  \n",
      "4  0x9108813f22637385228a1c621c1904bbbc50dc25  \n"
     ]
    }
   ],
   "source": [
    "subset = df.iloc[:, 15:]\n",
    "print(subset.head())"
   ]
  }
 ],
 "metadata": {
  "celltoolbar": "Tags",
  "kernelspec": {
   "display_name": "Python 3 (ipykernel)",
   "language": "python",
   "name": "python3"
  },
  "language_info": {
   "codemirror_mode": {
    "name": "ipython",
    "version": 3
   },
   "file_extension": ".py",
   "mimetype": "text/x-python",
   "name": "python",
   "nbconvert_exporter": "python",
   "pygments_lexer": "ipython3",
   "version": "3.10.6"
  },
  "toc": {
   "base_numbering": 1,
   "nav_menu": {},
   "number_sections": true,
   "sideBar": true,
   "skip_h1_title": false,
   "title_cell": "Table of Contents",
   "title_sidebar": "Contents",
   "toc_cell": false,
   "toc_position": {},
   "toc_section_display": true,
   "toc_window_display": false
  }
 },
 "nbformat": 4,
 "nbformat_minor": 5
}
