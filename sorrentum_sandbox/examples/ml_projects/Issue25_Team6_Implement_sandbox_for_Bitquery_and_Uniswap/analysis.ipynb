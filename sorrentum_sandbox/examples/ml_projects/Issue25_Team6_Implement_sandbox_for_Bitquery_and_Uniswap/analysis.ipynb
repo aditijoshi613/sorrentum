{
 "cells": [
  {
   "cell_type": "code",
   "execution_count": 19,
   "id": "68644df3",
   "metadata": {
    "ExecuteTime": {
     "end_time": "2023-05-04T00:06:45.428623Z",
     "start_time": "2023-05-04T00:06:45.410427Z"
    }
   },
   "outputs": [],
   "source": [
    "import psycopg2 as psycop\n",
    "import pandas as pd\n",
    "import numpy as np"
   ]
  },
  {
   "cell_type": "code",
   "execution_count": 6,
   "id": "4ca9d79d",
   "metadata": {
    "ExecuteTime": {
     "end_time": "2023-05-04T00:02:21.381440Z",
     "start_time": "2023-05-04T00:02:21.262592Z"
    }
   },
   "outputs": [],
   "source": [
    " connection = psycop.connect(\n",
    "        host=\"host.docker.internal\",\n",
    "        dbname=\"airflow\",\n",
    "        port=5532,\n",
    "        user=\"postgres\",\n",
    "        password=\"postgres\",\n",
    "    )\n",
    "connection.autocommit = True\n",
    "cur = connection.cursor()"
   ]
  },
  {
   "cell_type": "code",
   "execution_count": 15,
   "id": "d618510f",
   "metadata": {
    "ExecuteTime": {
     "end_time": "2023-05-04T00:05:38.194636Z",
     "start_time": "2023-05-04T00:05:38.178097Z"
    }
   },
   "outputs": [],
   "source": [
    "sql_query = \"SELECT * FROM uniswap_table\"\n",
    "df = pd.read_sql(sql_query, connection)"
   ]
  },
  {
   "cell_type": "code",
   "execution_count": 21,
   "id": "b046b271",
   "metadata": {
    "ExecuteTime": {
     "end_time": "2023-05-04T00:06:57.110272Z",
     "start_time": "2023-05-04T00:06:57.095778Z"
    }
   },
   "outputs": [
    {
     "data": {
      "text/plain": [
       "(1482, 22)"
      ]
     },
     "execution_count": 21,
     "metadata": {},
     "output_type": "execute_result"
    }
   ],
   "source": [
    "np.shape(df)"
   ]
  },
  {
   "cell_type": "code",
   "execution_count": null,
   "id": "b54354dc",
   "metadata": {},
   "outputs": [],
   "source": []
  }
 ],
 "metadata": {
  "kernelspec": {
   "display_name": "Python 3 (ipykernel)",
   "language": "python",
   "name": "python3"
  },
  "language_info": {
   "codemirror_mode": {
    "name": "ipython",
    "version": 3
   },
   "file_extension": ".py",
   "mimetype": "text/x-python",
   "name": "python",
   "nbconvert_exporter": "python",
   "pygments_lexer": "ipython3",
   "version": "3.10.6"
  },
  "toc": {
   "base_numbering": 1,
   "nav_menu": {},
   "number_sections": true,
   "sideBar": true,
   "skip_h1_title": false,
   "title_cell": "Table of Contents",
   "title_sidebar": "Contents",
   "toc_cell": false,
   "toc_position": {},
   "toc_section_display": true,
   "toc_window_display": false
  }
 },
 "nbformat": 4,
 "nbformat_minor": 5
}
