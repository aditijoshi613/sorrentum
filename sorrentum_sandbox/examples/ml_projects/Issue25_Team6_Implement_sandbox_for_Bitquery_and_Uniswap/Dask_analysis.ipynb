{
 "cells": [
  {
   "cell_type": "markdown",
   "id": "5d3c9d92",
   "metadata": {},
   "source": [
    "# Loading most recent data from postgres table"
   ]
  },
  {
   "cell_type": "markdown",
   "id": "1f0c9f30",
   "metadata": {},
   "source": [
    "## Installing needed packages and connections"
   ]
  },
  {
   "cell_type": "code",
   "execution_count": 1,
   "id": "c6bc8574",
   "metadata": {
    "ExecuteTime": {
     "end_time": "2023-05-04T00:24:21.386399Z",
     "start_time": "2023-05-04T00:24:14.753977Z"
    }
   },
   "outputs": [],
   "source": [
    "# Install libraries\n",
    "!pip install psycopg2-binary\n",
    "!pip install requests\n",
    "!pip install sqlalchemy --upgrade\n",
    "!pip install dask --upgrade"
   ]
  },
  {
   "cell_type": "markdown",
   "id": "439aaac7",
   "metadata": {},
   "source": [
    "## Load data and analytics using Dask"
   ]
  },
  {
   "cell_type": "code",
   "execution_count": 29,
   "id": "eee1a3c0",
   "metadata": {
    "ExecuteTime": {
     "end_time": "2023-05-08T04:16:44.970694Z",
     "start_time": "2023-05-08T04:16:44.757345Z"
    }
   },
   "outputs": [],
   "source": [
    "import os\n",
    "import dask.dataframe as dd\n",
    "from api_query import api_query_call\n",
    "\n",
    "df_pandas = api_query_call(\"SELECT * FROM uniswap_table\")\n"
   ]
  },
  {
   "cell_type": "code",
   "execution_count": 61,
   "id": "6ce2a503",
   "metadata": {
    "ExecuteTime": {
     "end_time": "2023-05-08T04:32:20.778477Z",
     "start_time": "2023-05-08T04:32:20.639616Z"
    }
   },
   "outputs": [
    {
     "data": {
      "text/html": [
       "<div>\n",
       "<style scoped>\n",
       "    .dataframe tbody tr th:only-of-type {\n",
       "        vertical-align: middle;\n",
       "    }\n",
       "\n",
       "    .dataframe tbody tr th {\n",
       "        vertical-align: top;\n",
       "    }\n",
       "\n",
       "    .dataframe thead th {\n",
       "        text-align: right;\n",
       "    }\n",
       "</style>\n",
       "<table border=\"1\" class=\"dataframe\">\n",
       "  <thead>\n",
       "    <tr style=\"text-align: right;\">\n",
       "      <th></th>\n",
       "      <th>tradeindex</th>\n",
       "      <th>block_timestamp_time</th>\n",
       "      <th>block_height</th>\n",
       "      <th>exchange_fullname</th>\n",
       "      <th>protocol</th>\n",
       "      <th>timeinterval_minute</th>\n",
       "      <th>baseamount</th>\n",
       "      <th>quoteamount</th>\n",
       "      <th>trades</th>\n",
       "      <th>quoteprice</th>\n",
       "      <th>...</th>\n",
       "      <th>open_price</th>\n",
       "      <th>close_price</th>\n",
       "      <th>basecurrency_symbol</th>\n",
       "      <th>basecurrency_address</th>\n",
       "      <th>quotecurrency_symbol</th>\n",
       "      <th>quotecurrency_address</th>\n",
       "      <th>transaction_hash</th>\n",
       "      <th>transaction_gas</th>\n",
       "      <th>transaction_to_address</th>\n",
       "      <th>transaction_txfrom_address</th>\n",
       "    </tr>\n",
       "  </thead>\n",
       "  <tbody>\n",
       "    <tr>\n",
       "      <th>0</th>\n",
       "      <td>8</td>\n",
       "      <td>2023-05-08 00:26:35</td>\n",
       "      <td>17212211</td>\n",
       "      <td>Uniswap</td>\n",
       "      <td>Uniswap</td>\n",
       "      <td>2023-05-08 00:26:00</td>\n",
       "      <td>191.130888692456</td>\n",
       "      <td>190.9673278680587</td>\n",
       "      <td>1</td>\n",
       "      <td>0.0005308734179599499</td>\n",
       "      <td>...</td>\n",
       "      <td>0.0005308734179599499</td>\n",
       "      <td>0.0005308734179599499</td>\n",
       "      <td>USDC</td>\n",
       "      <td>0xa0b86991c6218b36c1d19d4a2e9eb0ce3606eb48</td>\n",
       "      <td>ETH</td>\n",
       "      <td>-</td>\n",
       "      <td>0x19535811991530dac2e9c71c20716c3d84c7ef2751c3...</td>\n",
       "      <td>347106</td>\n",
       "      <td>0xf015ff012cdad388a857d9163cb01e8dc29f310c</td>\n",
       "      <td>0xc723f2c210c4d29cfe35209340a6fb766d956982</td>\n",
       "    </tr>\n",
       "    <tr>\n",
       "      <th>1</th>\n",
       "      <td>8</td>\n",
       "      <td>2023-05-08 00:26:35</td>\n",
       "      <td>17212211</td>\n",
       "      <td>Uniswap</td>\n",
       "      <td>Uniswap</td>\n",
       "      <td>2023-05-08 00:26:00</td>\n",
       "      <td>190.9673278680587</td>\n",
       "      <td>191.130888692456</td>\n",
       "      <td>1</td>\n",
       "      <td>1883.6882129883586</td>\n",
       "      <td>...</td>\n",
       "      <td>1883.6882129883586</td>\n",
       "      <td>1883.6882129883586</td>\n",
       "      <td>ETH</td>\n",
       "      <td>-</td>\n",
       "      <td>USDC</td>\n",
       "      <td>0xa0b86991c6218b36c1d19d4a2e9eb0ce3606eb48</td>\n",
       "      <td>0x19535811991530dac2e9c71c20716c3d84c7ef2751c3...</td>\n",
       "      <td>347106</td>\n",
       "      <td>0xf015ff012cdad388a857d9163cb01e8dc29f310c</td>\n",
       "      <td>0xc723f2c210c4d29cfe35209340a6fb766d956982</td>\n",
       "    </tr>\n",
       "    <tr>\n",
       "      <th>2</th>\n",
       "      <td>4</td>\n",
       "      <td>2023-05-08 00:02:23</td>\n",
       "      <td>17212091</td>\n",
       "      <td>Uniswap</td>\n",
       "      <td>Uniswap</td>\n",
       "      <td>2023-05-08 00:02:00</td>\n",
       "      <td>2763.2171636340645</td>\n",
       "      <td>2747.5099529385575</td>\n",
       "      <td>1</td>\n",
       "      <td>0.0005283747783757336</td>\n",
       "      <td>...</td>\n",
       "      <td>0.0005283747783757336</td>\n",
       "      <td>0.0005283747783757336</td>\n",
       "      <td>DAI</td>\n",
       "      <td>0x6b175474e89094c44da98b954eedeac495271d0f</td>\n",
       "      <td>ETH</td>\n",
       "      <td>-</td>\n",
       "      <td>0xcd95055fbed6f391ae5f5a80c5ab9bead46ab5ddd18f...</td>\n",
       "      <td>308002</td>\n",
       "      <td>0x24902aa0cf0000a08c0ea0b003b0c0bf600000e0</td>\n",
       "      <td>0xd7e1236c08731c3632519dcd1a581bfe6876a3b2</td>\n",
       "    </tr>\n",
       "    <tr>\n",
       "      <th>3</th>\n",
       "      <td>4</td>\n",
       "      <td>2023-05-08 00:02:23</td>\n",
       "      <td>17212091</td>\n",
       "      <td>Uniswap</td>\n",
       "      <td>Uniswap</td>\n",
       "      <td>2023-05-08 00:02:00</td>\n",
       "      <td>2747.5099529385575</td>\n",
       "      <td>2763.2171636340645</td>\n",
       "      <td>1</td>\n",
       "      <td>1892.5960150370538</td>\n",
       "      <td>...</td>\n",
       "      <td>1892.5960150370538</td>\n",
       "      <td>1892.5960150370538</td>\n",
       "      <td>ETH</td>\n",
       "      <td>-</td>\n",
       "      <td>DAI</td>\n",
       "      <td>0x6b175474e89094c44da98b954eedeac495271d0f</td>\n",
       "      <td>0xcd95055fbed6f391ae5f5a80c5ab9bead46ab5ddd18f...</td>\n",
       "      <td>308002</td>\n",
       "      <td>0x24902aa0cf0000a08c0ea0b003b0c0bf600000e0</td>\n",
       "      <td>0xd7e1236c08731c3632519dcd1a581bfe6876a3b2</td>\n",
       "    </tr>\n",
       "    <tr>\n",
       "      <th>4</th>\n",
       "      <td>4</td>\n",
       "      <td>2023-05-08 00:01:11</td>\n",
       "      <td>17212085</td>\n",
       "      <td>Uniswap</td>\n",
       "      <td>Uniswap</td>\n",
       "      <td>2023-05-08 00:01:00</td>\n",
       "      <td>3499.3400938542027</td>\n",
       "      <td>3481.433844317239</td>\n",
       "      <td>1</td>\n",
       "      <td>0.0005286092784797666</td>\n",
       "      <td>...</td>\n",
       "      <td>0.0005286092784797666</td>\n",
       "      <td>0.0005286092784797666</td>\n",
       "      <td>USDC</td>\n",
       "      <td>0xa0b86991c6218b36c1d19d4a2e9eb0ce3606eb48</td>\n",
       "      <td>ETH</td>\n",
       "      <td>-</td>\n",
       "      <td>0x25a892f938c73a8f54dc1a6ece913fe1c4cf280dab5f...</td>\n",
       "      <td>142623</td>\n",
       "      <td>0x24902aa0cf0000a08c0ea0b003b0c0bf600000e0</td>\n",
       "      <td>0xd7e1236c08731c3632519dcd1a581bfe6876a3b2</td>\n",
       "    </tr>\n",
       "  </tbody>\n",
       "</table>\n",
       "<p>5 rows × 22 columns</p>\n",
       "</div>"
      ],
      "text/plain": [
       "   tradeindex block_timestamp_time  block_height exchange_fullname protocol  \\\n",
       "0           8  2023-05-08 00:26:35      17212211           Uniswap  Uniswap   \n",
       "1           8  2023-05-08 00:26:35      17212211           Uniswap  Uniswap   \n",
       "2           4  2023-05-08 00:02:23      17212091           Uniswap  Uniswap   \n",
       "3           4  2023-05-08 00:02:23      17212091           Uniswap  Uniswap   \n",
       "4           4  2023-05-08 00:01:11      17212085           Uniswap  Uniswap   \n",
       "\n",
       "  timeinterval_minute          baseamount         quoteamount  trades  \\\n",
       "0 2023-05-08 00:26:00    191.130888692456   190.9673278680587       1   \n",
       "1 2023-05-08 00:26:00   190.9673278680587    191.130888692456       1   \n",
       "2 2023-05-08 00:02:00  2763.2171636340645  2747.5099529385575       1   \n",
       "3 2023-05-08 00:02:00  2747.5099529385575  2763.2171636340645       1   \n",
       "4 2023-05-08 00:01:00  3499.3400938542027   3481.433844317239       1   \n",
       "\n",
       "              quoteprice  ...             open_price            close_price  \\\n",
       "0  0.0005308734179599499  ...  0.0005308734179599499  0.0005308734179599499   \n",
       "1     1883.6882129883586  ...     1883.6882129883586     1883.6882129883586   \n",
       "2  0.0005283747783757336  ...  0.0005283747783757336  0.0005283747783757336   \n",
       "3     1892.5960150370538  ...     1892.5960150370538     1892.5960150370538   \n",
       "4  0.0005286092784797666  ...  0.0005286092784797666  0.0005286092784797666   \n",
       "\n",
       "  basecurrency_symbol                        basecurrency_address  \\\n",
       "0                USDC  0xa0b86991c6218b36c1d19d4a2e9eb0ce3606eb48   \n",
       "1                 ETH                                           -   \n",
       "2                 DAI  0x6b175474e89094c44da98b954eedeac495271d0f   \n",
       "3                 ETH                                           -   \n",
       "4                USDC  0xa0b86991c6218b36c1d19d4a2e9eb0ce3606eb48   \n",
       "\n",
       "  quotecurrency_symbol                       quotecurrency_address  \\\n",
       "0                  ETH                                           -   \n",
       "1                 USDC  0xa0b86991c6218b36c1d19d4a2e9eb0ce3606eb48   \n",
       "2                  ETH                                           -   \n",
       "3                  DAI  0x6b175474e89094c44da98b954eedeac495271d0f   \n",
       "4                  ETH                                           -   \n",
       "\n",
       "                                    transaction_hash transaction_gas  \\\n",
       "0  0x19535811991530dac2e9c71c20716c3d84c7ef2751c3...          347106   \n",
       "1  0x19535811991530dac2e9c71c20716c3d84c7ef2751c3...          347106   \n",
       "2  0xcd95055fbed6f391ae5f5a80c5ab9bead46ab5ddd18f...          308002   \n",
       "3  0xcd95055fbed6f391ae5f5a80c5ab9bead46ab5ddd18f...          308002   \n",
       "4  0x25a892f938c73a8f54dc1a6ece913fe1c4cf280dab5f...          142623   \n",
       "\n",
       "                       transaction_to_address  \\\n",
       "0  0xf015ff012cdad388a857d9163cb01e8dc29f310c   \n",
       "1  0xf015ff012cdad388a857d9163cb01e8dc29f310c   \n",
       "2  0x24902aa0cf0000a08c0ea0b003b0c0bf600000e0   \n",
       "3  0x24902aa0cf0000a08c0ea0b003b0c0bf600000e0   \n",
       "4  0x24902aa0cf0000a08c0ea0b003b0c0bf600000e0   \n",
       "\n",
       "                   transaction_txfrom_address  \n",
       "0  0xc723f2c210c4d29cfe35209340a6fb766d956982  \n",
       "1  0xc723f2c210c4d29cfe35209340a6fb766d956982  \n",
       "2  0xd7e1236c08731c3632519dcd1a581bfe6876a3b2  \n",
       "3  0xd7e1236c08731c3632519dcd1a581bfe6876a3b2  \n",
       "4  0xd7e1236c08731c3632519dcd1a581bfe6876a3b2  \n",
       "\n",
       "[5 rows x 22 columns]"
      ]
     },
     "execution_count": 61,
     "metadata": {},
     "output_type": "execute_result"
    }
   ],
   "source": [
    "df = dd.from_pandas(df_pandas, npartitions=10)\n",
    "df.head()"
   ]
  },
  {
   "cell_type": "code",
   "execution_count": 33,
   "id": "a8739d58",
   "metadata": {
    "ExecuteTime": {
     "end_time": "2023-05-08T04:17:04.458722Z",
     "start_time": "2023-05-08T04:17:03.967492Z"
    }
   },
   "outputs": [
    {
     "name": "stdout",
     "output_type": "stream",
     "text": [
      "       tradeindex  block_height  trades  transaction_gas\n",
      "count  950.000000  9.500000e+02   950.0     9.500000e+02\n",
      "mean     6.040000  1.714295e+07     1.0     2.662814e+05\n",
      "std      4.893005  3.572817e+04     0.0     2.100202e+05\n",
      "min      2.000000  1.708408e+07     1.0     5.184700e+04\n",
      "25%      4.000000  1.711956e+07     1.0     1.685050e+05\n",
      "50%      5.000000  1.713821e+07     1.0     2.425660e+05\n",
      "75%     10.000000  1.717466e+07     1.0     3.868300e+05\n",
      "max     41.000000  1.721295e+07     1.0     2.036563e+06\n"
     ]
    }
   ],
   "source": [
    "#Statistics\n",
    "sum_stats = df_dask.describe().compute()\n",
    "print(sum_stats)"
   ]
  },
  {
   "cell_type": "code",
   "execution_count": 76,
   "id": "4e88d4a2",
   "metadata": {
    "ExecuteTime": {
     "end_time": "2023-05-08T04:41:56.143756Z",
     "start_time": "2023-05-08T04:41:56.047042Z"
    }
   },
   "outputs": [
    {
     "name": "stdout",
     "output_type": "stream",
     "text": [
      "Most common \"from\" wallet addresses:\n"
     ]
    },
    {
     "data": {
      "text/plain": [
       "0xd7e1236c08731c3632519dcd1a581bfe6876a3b2    148\n",
       "0xb543f8d66765c7074d1d77147d7e07880c96908f     56\n",
       "0x2ee36e41387f87b7e6f678a86d1e575b23b996f5     34\n",
       "0xa06c3c08a19e51b33309eddfb356c33ead8517a3     34\n",
       "0xbda27a23fb386024c495ad2f6b834cbfe829b913     18\n",
       "Name: transaction_txfrom_address, dtype: int64"
      ]
     },
     "execution_count": 76,
     "metadata": {},
     "output_type": "execute_result"
    }
   ],
   "source": [
    "print('Most common \"from\" wallet addresses:')\n",
    "df['transaction_txfrom_address'].value_counts().head()"
   ]
  },
  {
   "cell_type": "code",
   "execution_count": 74,
   "id": "e960a9ec",
   "metadata": {
    "ExecuteTime": {
     "end_time": "2023-05-08T04:40:29.629446Z",
     "start_time": "2023-05-08T04:40:29.527632Z"
    }
   },
   "outputs": [
    {
     "name": "stdout",
     "output_type": "stream",
     "text": [
      "Check that no overlaps of same wallet in to and from category:\n"
     ]
    },
    {
     "data": {
      "text/plain": [
       "0"
      ]
     },
     "execution_count": 74,
     "metadata": {},
     "output_type": "execute_result"
    }
   ],
   "source": [
    "print('Check that no overlaps of same wallet in to and from category:')\n",
    "sum(df['transaction_txfrom_address'] == df['transaction_to_address'])"
   ]
  },
  {
   "cell_type": "code",
   "execution_count": 59,
   "id": "ac216683",
   "metadata": {
    "ExecuteTime": {
     "end_time": "2023-05-08T04:30:21.943045Z",
     "start_time": "2023-05-08T04:30:21.834310Z"
    }
   },
   "outputs": [
    {
     "name": "stdout",
     "output_type": "stream",
     "text": [
      "0x24902aa0cf0000a08c0ea0b003b0c0bf600000e0    164\n",
      "0xdef1c0ded9bec7f1a1670819833240f027b25eff    128\n",
      "0x0eae044f00b0af300500f090ea00027097d03000     86\n",
      "0x0000000000007f150bd6f54c40a34d7c3d5e9f56     76\n",
      "0x0000000000a84d1a9b0063a910315c7ffa9cd248     76\n",
      "0xe66b31678d6c16e9ebf358268a790b763c133750     70\n",
      "0x1111111254eeb25477b68fb85ed929f73a960582     46\n",
      "0x76f4eed9fe41262669d0250b2a97db79712ad855     46\n",
      "0xe4000004000bd8006e00720000d27d1fa000d43e     42\n",
      "0x881d40237659c251811cec9c364ef91dc08d300c     36\n",
      "Name: transaction_to_address, dtype: int64\n"
     ]
    }
   ],
   "source": [
    "# top transactions and addresses\n",
    "counts_address = df['transaction_to_address'].value_counts()\n",
    "\n",
    "print(counts_address.compute()[:10])"
   ]
  },
  {
   "cell_type": "code",
   "execution_count": 75,
   "id": "4cb08685",
   "metadata": {
    "ExecuteTime": {
     "end_time": "2023-05-08T04:41:24.842415Z",
     "start_time": "2023-05-08T04:41:24.274396Z"
    }
   },
   "outputs": [
    {
     "data": {
      "text/html": [
       "<div>\n",
       "<style scoped>\n",
       "    .dataframe tbody tr th:only-of-type {\n",
       "        vertical-align: middle;\n",
       "    }\n",
       "\n",
       "    .dataframe tbody tr th {\n",
       "        vertical-align: top;\n",
       "    }\n",
       "\n",
       "    .dataframe thead th {\n",
       "        text-align: right;\n",
       "    }\n",
       "</style>\n",
       "<table border=\"1\" class=\"dataframe\">\n",
       "  <thead>\n",
       "    <tr style=\"text-align: right;\">\n",
       "      <th></th>\n",
       "      <th>tradeindex</th>\n",
       "      <th>block_height</th>\n",
       "      <th>trades</th>\n",
       "      <th>transaction_gas</th>\n",
       "    </tr>\n",
       "  </thead>\n",
       "  <tbody>\n",
       "    <tr>\n",
       "      <th>count</th>\n",
       "      <td>164.000000</td>\n",
       "      <td>1.640000e+02</td>\n",
       "      <td>164.0</td>\n",
       "      <td>164.000000</td>\n",
       "    </tr>\n",
       "    <tr>\n",
       "      <th>mean</th>\n",
       "      <td>6.853659</td>\n",
       "      <td>1.714627e+07</td>\n",
       "      <td>1.0</td>\n",
       "      <td>219741.597561</td>\n",
       "    </tr>\n",
       "    <tr>\n",
       "      <th>std</th>\n",
       "      <td>4.461483</td>\n",
       "      <td>3.797255e+04</td>\n",
       "      <td>0.0</td>\n",
       "      <td>121427.369346</td>\n",
       "    </tr>\n",
       "    <tr>\n",
       "      <th>min</th>\n",
       "      <td>3.000000</td>\n",
       "      <td>1.708408e+07</td>\n",
       "      <td>1.0</td>\n",
       "      <td>117810.000000</td>\n",
       "    </tr>\n",
       "    <tr>\n",
       "      <th>25%</th>\n",
       "      <td>4.250000</td>\n",
       "      <td>1.712058e+07</td>\n",
       "      <td>1.0</td>\n",
       "      <td>141635.000000</td>\n",
       "    </tr>\n",
       "    <tr>\n",
       "      <th>50%</th>\n",
       "      <td>6.000000</td>\n",
       "      <td>1.713933e+07</td>\n",
       "      <td>1.0</td>\n",
       "      <td>177759.000000</td>\n",
       "    </tr>\n",
       "    <tr>\n",
       "      <th>75%</th>\n",
       "      <td>8.000000</td>\n",
       "      <td>1.717987e+07</td>\n",
       "      <td>1.0</td>\n",
       "      <td>308002.000000</td>\n",
       "    </tr>\n",
       "    <tr>\n",
       "      <th>max</th>\n",
       "      <td>25.000000</td>\n",
       "      <td>1.721209e+07</td>\n",
       "      <td>1.0</td>\n",
       "      <td>730533.000000</td>\n",
       "    </tr>\n",
       "  </tbody>\n",
       "</table>\n",
       "</div>"
      ],
      "text/plain": [
       "       tradeindex  block_height  trades  transaction_gas\n",
       "count  164.000000  1.640000e+02   164.0       164.000000\n",
       "mean     6.853659  1.714627e+07     1.0    219741.597561\n",
       "std      4.461483  3.797255e+04     0.0    121427.369346\n",
       "min      3.000000  1.708408e+07     1.0    117810.000000\n",
       "25%      4.250000  1.712058e+07     1.0    141635.000000\n",
       "50%      6.000000  1.713933e+07     1.0    177759.000000\n",
       "75%      8.000000  1.717987e+07     1.0    308002.000000\n",
       "max     25.000000  1.721209e+07     1.0    730533.000000"
      ]
     },
     "execution_count": 75,
     "metadata": {},
     "output_type": "execute_result"
    }
   ],
   "source": [
    "df_top1 = df[df.transaction_to_address == counts_address.index.compute()[0]]   \n",
    "df_top1.describe().compute()"
   ]
  },
  {
   "cell_type": "code",
   "execution_count": null,
   "id": "f5c3840a",
   "metadata": {},
   "outputs": [],
   "source": []
  }
 ],
 "metadata": {
  "celltoolbar": "Tags",
  "kernelspec": {
   "display_name": "Python 3 (ipykernel)",
   "language": "python",
   "name": "python3"
  },
  "language_info": {
   "codemirror_mode": {
    "name": "ipython",
    "version": 3
   },
   "file_extension": ".py",
   "mimetype": "text/x-python",
   "name": "python",
   "nbconvert_exporter": "python",
   "pygments_lexer": "ipython3",
   "version": "3.10.6"
  },
  "toc": {
   "base_numbering": 1,
   "nav_menu": {},
   "number_sections": true,
   "sideBar": true,
   "skip_h1_title": false,
   "title_cell": "Table of Contents",
   "title_sidebar": "Contents",
   "toc_cell": false,
   "toc_position": {},
   "toc_section_display": true,
   "toc_window_display": false
  }
 },
 "nbformat": 4,
 "nbformat_minor": 5
}
