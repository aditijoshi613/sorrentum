{
 "cells": [
  {
   "cell_type": "code",
   "execution_count": 5,
   "metadata": {},
   "outputs": [],
   "source": [
    "import psycopg2\n",
    "import pandas as pd"
   ]
  },
  {
   "cell_type": "code",
   "execution_count": 26,
   "metadata": {},
   "outputs": [],
   "source": [
    "db_connection = psycopg2.connect(host=\"localhost\",dbname=\"airflow\",port=5532,user=\"postgres\",password=\"postgres\")"
   ]
  },
  {
   "cell_type": "code",
   "execution_count": 12,
   "metadata": {},
   "outputs": [
    {
     "name": "stderr",
     "output_type": "stream",
     "text": [
      "/var/folders/j2/8gptfrvd0_dfl_yxfcck_hh40000gn/T/ipykernel_42357/3463420340.py:1: UserWarning: pandas only supports SQLAlchemy connectable (engine/connection) or database string URI or sqlite3 DBAPI2 connection. Other DBAPI2 objects are not tested. Please consider using SQLAlchemy.\n",
      "  df = pd.read_sql_query(\"SELECT from coingecko_historic WHERE timestamp >= 1678078800 AND timestamp < 1683345600 \", db_connection)\n"
     ]
    }
   ],
   "source": [
    "# df = pd.read_sql_query(\"SELECT from coingecko_historic WHERE timestamp >= 1678078800 AND timestamp < 1683345600 \", db_connection)"
   ]
  },
  {
   "cell_type": "code",
   "execution_count": 20,
   "metadata": {},
   "outputs": [
    {
     "name": "stderr",
     "output_type": "stream",
     "text": [
      "/var/folders/j2/8gptfrvd0_dfl_yxfcck_hh40000gn/T/ipykernel_42357/3083386086.py:1: UserWarning: pandas only supports SQLAlchemy connectable (engine/connection) or database string URI or sqlite3 DBAPI2 connection. Other DBAPI2 objects are not tested. Please consider using SQLAlchemy.\n",
      "  df = pd.read_sql_query(\"SELECT from coingecko_historic\", db_connection)\n"
     ]
    }
   ],
   "source": [
    "df = pd.read_sql_query(\"SELECT from coingecko_historic\", db_connection)"
   ]
  },
  {
   "cell_type": "code",
   "execution_count": 21,
   "metadata": {},
   "outputs": [
    {
     "data": {
      "text/html": [
       "<div>\n",
       "<style scoped>\n",
       "    .dataframe tbody tr th:only-of-type {\n",
       "        vertical-align: middle;\n",
       "    }\n",
       "\n",
       "    .dataframe tbody tr th {\n",
       "        vertical-align: top;\n",
       "    }\n",
       "\n",
       "    .dataframe thead th {\n",
       "        text-align: right;\n",
       "    }\n",
       "</style>\n",
       "<table border=\"1\" class=\"dataframe\">\n",
       "  <thead>\n",
       "    <tr style=\"text-align: right;\">\n",
       "      <th></th>\n",
       "    </tr>\n",
       "  </thead>\n",
       "  <tbody>\n",
       "  </tbody>\n",
       "</table>\n",
       "</div>"
      ],
      "text/plain": [
       "Empty DataFrame\n",
       "Columns: []\n",
       "Index: []"
      ]
     },
     "execution_count": 21,
     "metadata": {},
     "output_type": "execute_result"
    }
   ],
   "source": [
    "df"
   ]
  },
  {
   "cell_type": "code",
   "execution_count": 18,
   "metadata": {},
   "outputs": [
    {
     "name": "stdout",
     "output_type": "stream",
     "text": [
      "Connected to the database successfully.\n"
     ]
    }
   ],
   "source": [
    "params = {\n",
    "    \"host\": \"localhost\",\n",
    "    \"dbname\": \"airflow\",\n",
    "    \"port\": 5532,\n",
    "    \"user\": \"postgres\",\n",
    "    \"password\": \"postgres\"\n",
    "}\n",
    "connection = None\n",
    "\n",
    "try:\n",
    "    connection = psycopg2.connect(**params)\n",
    "    print(\"Connected to the database successfully.\")\n",
    "except Exception as e:\n",
    "    print(f\"An error occurred while connecting to the database: {e}\")\n",
    "\n",
    "# if connection:\n",
    "\n",
    "#     df = pd.read_sql_query(\"SELECT * coingecko_historic\", connection)\n",
    "\n",
    "#     print(df)\n",
    "\n",
    "#     connection.close()\n",
    "# else:\n",
    "#     print(\"Unable to create a DataFrame as the connection was not established.\")\n"
   ]
  },
  {
   "cell_type": "code",
   "execution_count": 22,
   "metadata": {},
   "outputs": [],
   "source": [
    "import psycopg2\n",
    "import pandas as pd\n",
    "\n",
    "# Create a function that takes string input of a SQL query and output a dataframe contain the desired data.\n",
    "def query_from_db(query):\n",
    "    # Connection to the posrgreSQL in the airflow container.\n",
    "    connection = psycopg2.connect(\n",
    "            host=\"localhost\",\n",
    "            dbname=\"airflow\",\n",
    "            port=5532,\n",
    "            user=\"postgres\",\n",
    "            password=\"postgres\",\n",
    "        )\n",
    "    \n",
    "    cursor = connection.cursor()\n",
    "    cursor.execute(query)\n",
    "\n",
    "    # Get the data from the cursor and make a dataframe for it.\n",
    "    history_rows = cursor.fetchall()\n",
    "    df = pd.DataFrame(history_rows)\n",
    "\n",
    "    # Close the connection,\n",
    "    cursor.close()\n",
    "    connection.close()\n",
    "\n",
    "    return df"
   ]
  },
  {
   "cell_type": "code",
   "execution_count": 23,
   "metadata": {},
   "outputs": [
    {
     "data": {
      "text/html": [
       "<div>\n",
       "<style scoped>\n",
       "    .dataframe tbody tr th:only-of-type {\n",
       "        vertical-align: middle;\n",
       "    }\n",
       "\n",
       "    .dataframe tbody tr th {\n",
       "        vertical-align: top;\n",
       "    }\n",
       "\n",
       "    .dataframe thead th {\n",
       "        text-align: right;\n",
       "    }\n",
       "</style>\n",
       "<table border=\"1\" class=\"dataframe\">\n",
       "  <thead>\n",
       "    <tr style=\"text-align: right;\">\n",
       "      <th></th>\n",
       "    </tr>\n",
       "  </thead>\n",
       "  <tbody>\n",
       "  </tbody>\n",
       "</table>\n",
       "</div>"
      ],
      "text/plain": [
       "Empty DataFrame\n",
       "Columns: []\n",
       "Index: []"
      ]
     },
     "execution_count": 23,
     "metadata": {},
     "output_type": "execute_result"
    }
   ],
   "source": [
    "query_from_db(\"SELECT from coingecko_historic WHERE timestamp >= 1678078800 AND timestamp < 1683345600 \")"
   ]
  },
  {
   "cell_type": "code",
   "execution_count": 24,
   "metadata": {},
   "outputs": [],
   "source": [
    "def _create_insert_query(df: pd.DataFrame, db_table: str) -> str:\n",
    "    columns = \",\".join(list(df.columns))\n",
    "    query = f\"INSERT INTO {db_table}({columns}) VALUES %s\"\n",
    "    return query"
   ]
  },
  {
   "cell_type": "code",
   "execution_count": 25,
   "metadata": {},
   "outputs": [],
   "source": [
    "def get_coingecko_historic_table_query() -> str:\n",
    "    \"\"\"\n",
    "    Get SQL query to create coingecko table.\n",
    "    \"\"\"\n",
    "\n",
    "    query = \"\"\"\n",
    "                CREATE TABLE IF NOT EXISTS coingecko_historic\n",
    "                (\n",
    "                    timestamp BIGINT,\n",
    "                    price NUMERIC,\n",
    "                    market_cap NUMERIC,\n",
    "                    total_volume NUMERIC\n",
    "                );\n",
    "            \"\"\"\n",
    "    return query"
   ]
  },
  {
   "cell_type": "code",
   "execution_count": 27,
   "metadata": {},
   "outputs": [],
   "source": [
    "cursor = db_connection.cursor()\n",
    "        #\n",
    "query = get_coingecko_historic_table_query()\n",
    "cursor.execute(query)"
   ]
  },
  {
   "cell_type": "code",
   "execution_count": 30,
   "metadata": {},
   "outputs": [
    {
     "name": "stdout",
     "output_type": "stream",
     "text": [
      "Index(['timestamp', 'price', 'market_cap', 'total_volume'], dtype='object')\n"
     ]
    }
   ],
   "source": [
    "from pycoingecko import CoinGeckoAPI\n",
    "\n",
    "cg = CoinGeckoAPI()\n",
    "data = cg.get_coin_market_chart_range_by_id(\n",
    "id= 'bitcoin',\n",
    "vs_currency= 'usd',\n",
    "from_timestamp= 1678078800,\n",
    "to_timestamp= 1683345600)\n",
    "\n",
    "price = pd.DataFrame(data['prices'], columns=['timestamp', 'price'])\n",
    "mc = pd.DataFrame(data['market_caps'], columns=['timestamp', 'market_cap'])\n",
    "vol = pd.DataFrame(data['total_volumes'], columns=['timestamp', 'total_volume'])\n",
    "price.set_index('timestamp', inplace=True)\n",
    "mc.set_index('timestamp', inplace=True)\n",
    "vol.set_index('timestamp', inplace=True)\n",
    "df = pd.concat([price, mc, vol], axis=1)\n",
    "df.reset_index(inplace=True)\n",
    "print(df.columns)"
   ]
  },
  {
   "cell_type": "code",
   "execution_count": 34,
   "metadata": {},
   "outputs": [],
   "source": [
    "def _create_insert_query(df: pd.DataFrame, db_table: str) -> str:\n",
    "        \"\"\"\n",
    "        Create an INSERT query to insert data into a DB.\n",
    "\n",
    "        :param df: data to insert into DB\n",
    "        :param table_name: name of the table for insertion\n",
    "        :return: SQL query, e.g.,\n",
    "            ```\n",
    "            INSERT INTO coingecko_data (timestamp, price, market_cap, total_volume) VALUES %s\n",
    "            ```\n",
    "        \"\"\"\n",
    "        columns = \",\".join(list(df.columns))\n",
    "        query = f\"INSERT INTO {db_table}({columns}) VALUES %s\"\n",
    "        return query"
   ]
  },
  {
   "cell_type": "code",
   "execution_count": 35,
   "metadata": {},
   "outputs": [],
   "source": [
    "values = [tuple(v) for v in df.to_numpy()]"
   ]
  },
  {
   "cell_type": "code",
   "execution_count": 38,
   "metadata": {},
   "outputs": [],
   "source": [
    "query = _create_insert_query(df, 'coingecko_historic')"
   ]
  },
  {
   "cell_type": "code",
   "execution_count": 40,
   "metadata": {},
   "outputs": [],
   "source": [
    "import psycopg2.extras as extras\n",
    "cursor = db_connection.cursor()\n",
    "extras.execute_values(cursor, query, values)\n",
    "db_connection.commit()"
   ]
  },
  {
   "cell_type": "code",
   "execution_count": 41,
   "metadata": {},
   "outputs": [
    {
     "data": {
      "text/html": [
       "<div>\n",
       "<style scoped>\n",
       "    .dataframe tbody tr th:only-of-type {\n",
       "        vertical-align: middle;\n",
       "    }\n",
       "\n",
       "    .dataframe tbody tr th {\n",
       "        vertical-align: top;\n",
       "    }\n",
       "\n",
       "    .dataframe thead th {\n",
       "        text-align: right;\n",
       "    }\n",
       "</style>\n",
       "<table border=\"1\" class=\"dataframe\">\n",
       "  <thead>\n",
       "    <tr style=\"text-align: right;\">\n",
       "      <th></th>\n",
       "      <th>timestamp</th>\n",
       "      <th>price</th>\n",
       "      <th>market_cap</th>\n",
       "      <th>total_volume</th>\n",
       "    </tr>\n",
       "  </thead>\n",
       "  <tbody>\n",
       "    <tr>\n",
       "      <th>0</th>\n",
       "      <td>1678078892240</td>\n",
       "      <td>22362.008240</td>\n",
       "      <td>4.318985e+11</td>\n",
       "      <td>1.549735e+10</td>\n",
       "    </tr>\n",
       "    <tr>\n",
       "      <th>1</th>\n",
       "      <td>1678082525312</td>\n",
       "      <td>22375.039455</td>\n",
       "      <td>4.320736e+11</td>\n",
       "      <td>1.596562e+10</td>\n",
       "    </tr>\n",
       "    <tr>\n",
       "      <th>2</th>\n",
       "      <td>1678086057189</td>\n",
       "      <td>22422.125635</td>\n",
       "      <td>4.330265e+11</td>\n",
       "      <td>1.633610e+10</td>\n",
       "    </tr>\n",
       "    <tr>\n",
       "      <th>3</th>\n",
       "      <td>1678089776175</td>\n",
       "      <td>22413.812769</td>\n",
       "      <td>4.329764e+11</td>\n",
       "      <td>1.654128e+10</td>\n",
       "    </tr>\n",
       "    <tr>\n",
       "      <th>4</th>\n",
       "      <td>1678093343893</td>\n",
       "      <td>22431.198533</td>\n",
       "      <td>4.331373e+11</td>\n",
       "      <td>1.679919e+10</td>\n",
       "    </tr>\n",
       "    <tr>\n",
       "      <th>...</th>\n",
       "      <td>...</td>\n",
       "      <td>...</td>\n",
       "      <td>...</td>\n",
       "      <td>...</td>\n",
       "    </tr>\n",
       "    <tr>\n",
       "      <th>1459</th>\n",
       "      <td>1683327646632</td>\n",
       "      <td>29642.231839</td>\n",
       "      <td>5.736951e+11</td>\n",
       "      <td>7.941833e+09</td>\n",
       "    </tr>\n",
       "    <tr>\n",
       "      <th>1460</th>\n",
       "      <td>1683331228148</td>\n",
       "      <td>29520.322269</td>\n",
       "      <td>5.715202e+11</td>\n",
       "      <td>4.971524e+09</td>\n",
       "    </tr>\n",
       "    <tr>\n",
       "      <th>1461</th>\n",
       "      <td>1683334801988</td>\n",
       "      <td>29724.410733</td>\n",
       "      <td>5.759484e+11</td>\n",
       "      <td>1.262077e+10</td>\n",
       "    </tr>\n",
       "    <tr>\n",
       "      <th>1462</th>\n",
       "      <td>1683338435371</td>\n",
       "      <td>29583.277182</td>\n",
       "      <td>5.733244e+11</td>\n",
       "      <td>1.899716e+10</td>\n",
       "    </tr>\n",
       "    <tr>\n",
       "      <th>1463</th>\n",
       "      <td>1683342049799</td>\n",
       "      <td>29486.507801</td>\n",
       "      <td>5.708692e+11</td>\n",
       "      <td>1.599844e+10</td>\n",
       "    </tr>\n",
       "  </tbody>\n",
       "</table>\n",
       "<p>1464 rows × 4 columns</p>\n",
       "</div>"
      ],
      "text/plain": [
       "          timestamp         price    market_cap  total_volume\n",
       "0     1678078892240  22362.008240  4.318985e+11  1.549735e+10\n",
       "1     1678082525312  22375.039455  4.320736e+11  1.596562e+10\n",
       "2     1678086057189  22422.125635  4.330265e+11  1.633610e+10\n",
       "3     1678089776175  22413.812769  4.329764e+11  1.654128e+10\n",
       "4     1678093343893  22431.198533  4.331373e+11  1.679919e+10\n",
       "...             ...           ...           ...           ...\n",
       "1459  1683327646632  29642.231839  5.736951e+11  7.941833e+09\n",
       "1460  1683331228148  29520.322269  5.715202e+11  4.971524e+09\n",
       "1461  1683334801988  29724.410733  5.759484e+11  1.262077e+10\n",
       "1462  1683338435371  29583.277182  5.733244e+11  1.899716e+10\n",
       "1463  1683342049799  29486.507801  5.708692e+11  1.599844e+10\n",
       "\n",
       "[1464 rows x 4 columns]"
      ]
     },
     "execution_count": 41,
     "metadata": {},
     "output_type": "execute_result"
    }
   ],
   "source": [
    "df"
   ]
  },
  {
   "cell_type": "code",
   "execution_count": 51,
   "metadata": {},
   "outputs": [
    {
     "data": {
      "text/html": [
       "<div>\n",
       "<style scoped>\n",
       "    .dataframe tbody tr th:only-of-type {\n",
       "        vertical-align: middle;\n",
       "    }\n",
       "\n",
       "    .dataframe tbody tr th {\n",
       "        vertical-align: top;\n",
       "    }\n",
       "\n",
       "    .dataframe thead th {\n",
       "        text-align: right;\n",
       "    }\n",
       "</style>\n",
       "<table border=\"1\" class=\"dataframe\">\n",
       "  <thead>\n",
       "    <tr style=\"text-align: right;\">\n",
       "      <th></th>\n",
       "      <th>0</th>\n",
       "      <th>1</th>\n",
       "      <th>2</th>\n",
       "      <th>3</th>\n",
       "    </tr>\n",
       "  </thead>\n",
       "  <tbody>\n",
       "    <tr>\n",
       "      <th>0</th>\n",
       "      <td>1678078892240</td>\n",
       "      <td>22362.00823955405</td>\n",
       "      <td>431898530552.6892</td>\n",
       "      <td>15497348287.882515</td>\n",
       "    </tr>\n",
       "    <tr>\n",
       "      <th>1</th>\n",
       "      <td>1678082525312</td>\n",
       "      <td>22375.039455087837</td>\n",
       "      <td>432073636503.6055</td>\n",
       "      <td>15965619394.74735</td>\n",
       "    </tr>\n",
       "    <tr>\n",
       "      <th>2</th>\n",
       "      <td>1678086057189</td>\n",
       "      <td>22422.125634818287</td>\n",
       "      <td>433026518971.614</td>\n",
       "      <td>16336096947.327412</td>\n",
       "    </tr>\n",
       "    <tr>\n",
       "      <th>3</th>\n",
       "      <td>1678089776175</td>\n",
       "      <td>22413.812768997555</td>\n",
       "      <td>432976409654.98444</td>\n",
       "      <td>16541275982.752655</td>\n",
       "    </tr>\n",
       "    <tr>\n",
       "      <th>4</th>\n",
       "      <td>1678093343893</td>\n",
       "      <td>22431.198532520255</td>\n",
       "      <td>433137313807.4554</td>\n",
       "      <td>16799194209.257723</td>\n",
       "    </tr>\n",
       "    <tr>\n",
       "      <th>...</th>\n",
       "      <td>...</td>\n",
       "      <td>...</td>\n",
       "      <td>...</td>\n",
       "      <td>...</td>\n",
       "    </tr>\n",
       "    <tr>\n",
       "      <th>7310</th>\n",
       "      <td>1683324020324</td>\n",
       "      <td>29530.151331551937</td>\n",
       "      <td>571731122345.3936</td>\n",
       "      <td>18038758113.486103</td>\n",
       "    </tr>\n",
       "    <tr>\n",
       "      <th>7311</th>\n",
       "      <td>1683327646632</td>\n",
       "      <td>29642.231838723994</td>\n",
       "      <td>573695108243.3298</td>\n",
       "      <td>7941832613.386951</td>\n",
       "    </tr>\n",
       "    <tr>\n",
       "      <th>7312</th>\n",
       "      <td>1683331228148</td>\n",
       "      <td>29520.322268970496</td>\n",
       "      <td>571520224182.8824</td>\n",
       "      <td>4971523630.54862</td>\n",
       "    </tr>\n",
       "    <tr>\n",
       "      <th>7313</th>\n",
       "      <td>1683334801988</td>\n",
       "      <td>29724.410733072382</td>\n",
       "      <td>575948431256.4188</td>\n",
       "      <td>12620769574.944633</td>\n",
       "    </tr>\n",
       "    <tr>\n",
       "      <th>7314</th>\n",
       "      <td>1683338435371</td>\n",
       "      <td>29583.277182450165</td>\n",
       "      <td>573324351367.5403</td>\n",
       "      <td>18997161985.643997</td>\n",
       "    </tr>\n",
       "  </tbody>\n",
       "</table>\n",
       "<p>7315 rows × 4 columns</p>\n",
       "</div>"
      ],
      "text/plain": [
       "                  0                   1                   2  \\\n",
       "0     1678078892240   22362.00823955405   431898530552.6892   \n",
       "1     1678082525312  22375.039455087837   432073636503.6055   \n",
       "2     1678086057189  22422.125634818287    433026518971.614   \n",
       "3     1678089776175  22413.812768997555  432976409654.98444   \n",
       "4     1678093343893  22431.198532520255   433137313807.4554   \n",
       "...             ...                 ...                 ...   \n",
       "7310  1683324020324  29530.151331551937   571731122345.3936   \n",
       "7311  1683327646632  29642.231838723994   573695108243.3298   \n",
       "7312  1683331228148  29520.322268970496   571520224182.8824   \n",
       "7313  1683334801988  29724.410733072382   575948431256.4188   \n",
       "7314  1683338435371  29583.277182450165   573324351367.5403   \n",
       "\n",
       "                       3  \n",
       "0     15497348287.882515  \n",
       "1      15965619394.74735  \n",
       "2     16336096947.327412  \n",
       "3     16541275982.752655  \n",
       "4     16799194209.257723  \n",
       "...                  ...  \n",
       "7310  18038758113.486103  \n",
       "7311   7941832613.386951  \n",
       "7312    4971523630.54862  \n",
       "7313  12620769574.944633  \n",
       "7314  18997161985.643997  \n",
       "\n",
       "[7315 rows x 4 columns]"
      ]
     },
     "execution_count": 51,
     "metadata": {},
     "output_type": "execute_result"
    }
   ],
   "source": [
    "query_from_db(\"SELECT timestamp, price, market_cap, total_volume from coingecko_historic WHERE timestamp >= 1678078892240 AND timestamp < 1683342049799\")"
   ]
  }
 ],
 "metadata": {
  "kernelspec": {
   "display_name": "Python 3 (ipykernel)",
   "language": "python",
   "name": "python3"
  },
  "language_info": {
   "codemirror_mode": {
    "name": "ipython",
    "version": 3
   },
   "file_extension": ".py",
   "mimetype": "text/x-python",
   "name": "python",
   "nbconvert_exporter": "python",
   "pygments_lexer": "ipython3",
   "version": "3.9.15"
  }
 },
 "nbformat": 4,
 "nbformat_minor": 4
}
