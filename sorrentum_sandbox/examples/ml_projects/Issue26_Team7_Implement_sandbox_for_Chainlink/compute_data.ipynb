{
 "cells": [
  {
   "cell_type": "code",
   "execution_count": 2,
   "id": "2f5b214b",
   "metadata": {
    "ExecuteTime": {
     "end_time": "2023-04-25T18:25:02.504598Z",
     "start_time": "2023-04-25T18:24:14.470552Z"
    }
   },
   "outputs": [
    {
     "name": "stdout",
     "output_type": "stream",
     "text": [
      "Collecting psycopg2-binary\n",
      "  Downloading psycopg2_binary-2.9.6-cp310-cp310-manylinux_2_17_x86_64.manylinux2014_x86_64.whl (3.0 MB)\n",
      "\u001b[2K     \u001b[90m━━━━━━━━━━━━━━━━━━━━━━━━━━━━━━━━━━━━━━━━\u001b[0m \u001b[32m3.0/3.0 MB\u001b[0m \u001b[31m9.0 MB/s\u001b[0m eta \u001b[36m0:00:00\u001b[0m00:01\u001b[0m00:01\u001b[0m\n",
      "\u001b[?25hInstalling collected packages: psycopg2-binary\n",
      "Successfully installed psycopg2-binary-2.9.6\n",
      "\u001b[33mWARNING: Running pip as the 'root' user can result in broken permissions and conflicting behaviour with the system package manager. It is recommended to use a virtual environment instead: https://pip.pypa.io/warnings/venv\u001b[0m\u001b[33m\n",
      "\u001b[0mCollecting scikit-learn\n",
      "  Downloading scikit_learn-1.2.2-cp310-cp310-manylinux_2_17_x86_64.manylinux2014_x86_64.whl (9.6 MB)\n",
      "\u001b[2K     \u001b[90m━━━━━━━━━━━━━━━━━━━━━━━━━━━━━━━━━━━━━━━━\u001b[0m \u001b[32m9.6/9.6 MB\u001b[0m \u001b[31m5.7 MB/s\u001b[0m eta \u001b[36m0:00:00\u001b[0m00:01\u001b[0m00:01\u001b[0m\n",
      "\u001b[?25hRequirement already satisfied: numpy>=1.17.3 in /usr/local/lib/python3.10/dist-packages (from scikit-learn) (1.24.2)\n",
      "Collecting scipy>=1.3.2\n",
      "  Downloading scipy-1.10.1-cp310-cp310-manylinux_2_17_x86_64.manylinux2014_x86_64.whl (34.4 MB)\n",
      "\u001b[2K     \u001b[90m━━━━━━━━━━━━━━━━━━━━━━━━━━━━━━━━━━━━━━━━\u001b[0m \u001b[32m34.4/34.4 MB\u001b[0m \u001b[31m7.0 MB/s\u001b[0m eta \u001b[36m0:00:00\u001b[0m00:01\u001b[0m00:01\u001b[0mm\n",
      "\u001b[?25hCollecting threadpoolctl>=2.0.0\n",
      "  Downloading threadpoolctl-3.1.0-py3-none-any.whl (14 kB)\n",
      "Collecting joblib>=1.1.1\n",
      "  Downloading joblib-1.2.0-py3-none-any.whl (297 kB)\n",
      "\u001b[2K     \u001b[90m━━━━━━━━━━━━━━━━━━━━━━━━━━━━━━━━━━━━━━\u001b[0m \u001b[32m298.0/298.0 KB\u001b[0m \u001b[31m10.8 MB/s\u001b[0m eta \u001b[36m0:00:00\u001b[0m\n",
      "\u001b[?25hInstalling collected packages: threadpoolctl, scipy, joblib, scikit-learn\n",
      "Successfully installed joblib-1.2.0 scikit-learn-1.2.2 scipy-1.10.1 threadpoolctl-3.1.0\n",
      "\u001b[33mWARNING: Running pip as the 'root' user can result in broken permissions and conflicting behaviour with the system package manager. It is recommended to use a virtual environment instead: https://pip.pypa.io/warnings/venv\u001b[0m\u001b[33m\n",
      "\u001b[0m"
     ]
    }
   ],
   "source": [
    "!pip install psycopg2-binary \n",
    "!pip install scikit-learn"
   ]
  },
  {
   "cell_type": "code",
   "execution_count": 138,
   "id": "1a68704a",
   "metadata": {
    "ExecuteTime": {
     "end_time": "2023-04-25T19:23:50.682649Z",
     "start_time": "2023-04-25T19:23:50.665903Z"
    }
   },
   "outputs": [],
   "source": [
    "from query_API import *\n",
    "\n",
    "import pandas as pd\n",
    "import dask.dataframe as dd"
   ]
  },
  {
   "cell_type": "code",
   "execution_count": 284,
   "id": "a7aa68fa",
   "metadata": {
    "ExecuteTime": {
     "end_time": "2023-04-26T03:27:29.858845Z",
     "start_time": "2023-04-26T03:27:29.322996Z"
    }
   },
   "outputs": [],
   "source": [
    "history_df = query_from_db(\"Select roundid, price, updatedat, pair, decimals From chainlink_history\")\n",
    "real_time_df = query_from_db(\"Select roundid, price, updatedat, pair, decimals From chainlink_real_time\")"
   ]
  },
  {
   "cell_type": "code",
   "execution_count": 285,
   "id": "17b0e895",
   "metadata": {
    "ExecuteTime": {
     "end_time": "2023-04-26T03:27:30.414151Z",
     "start_time": "2023-04-26T03:27:30.359310Z"
    }
   },
   "outputs": [
    {
     "data": {
      "text/html": [
       "<div>\n",
       "<style scoped>\n",
       "    .dataframe tbody tr th:only-of-type {\n",
       "        vertical-align: middle;\n",
       "    }\n",
       "\n",
       "    .dataframe tbody tr th {\n",
       "        vertical-align: top;\n",
       "    }\n",
       "\n",
       "    .dataframe thead th {\n",
       "        text-align: right;\n",
       "    }\n",
       "</style>\n",
       "<table border=\"1\" class=\"dataframe\">\n",
       "  <thead>\n",
       "    <tr style=\"text-align: right;\">\n",
       "      <th></th>\n",
       "      <th>roundid</th>\n",
       "      <th>price</th>\n",
       "      <th>updatedat</th>\n",
       "      <th>pair</th>\n",
       "      <th>decimals</th>\n",
       "    </tr>\n",
       "  </thead>\n",
       "  <tbody>\n",
       "    <tr>\n",
       "      <th>0</th>\n",
       "      <td>92233720368547771281</td>\n",
       "      <td>4652109401959</td>\n",
       "      <td>2021-12-31 22:13:16</td>\n",
       "      <td>BTC / USD</td>\n",
       "      <td>8</td>\n",
       "    </tr>\n",
       "    <tr>\n",
       "      <th>1</th>\n",
       "      <td>92233720368547771282</td>\n",
       "      <td>4639357085285</td>\n",
       "      <td>2021-12-31 22:55:11</td>\n",
       "      <td>BTC / USD</td>\n",
       "      <td>8</td>\n",
       "    </tr>\n",
       "    <tr>\n",
       "      <th>2</th>\n",
       "      <td>92233720368547771283</td>\n",
       "      <td>4635816164458</td>\n",
       "      <td>2021-12-31 23:56:36</td>\n",
       "      <td>BTC / USD</td>\n",
       "      <td>8</td>\n",
       "    </tr>\n",
       "    <tr>\n",
       "      <th>3</th>\n",
       "      <td>92233720368547771284</td>\n",
       "      <td>4661544706500</td>\n",
       "      <td>2022-01-01 00:42:51</td>\n",
       "      <td>BTC / USD</td>\n",
       "      <td>8</td>\n",
       "    </tr>\n",
       "    <tr>\n",
       "      <th>4</th>\n",
       "      <td>92233720368547771285</td>\n",
       "      <td>4670395911240</td>\n",
       "      <td>2022-01-01 00:56:01</td>\n",
       "      <td>BTC / USD</td>\n",
       "      <td>8</td>\n",
       "    </tr>\n",
       "  </tbody>\n",
       "</table>\n",
       "</div>"
      ],
      "text/plain": [
       "                roundid          price           updatedat       pair  \\\n",
       "0  92233720368547771281  4652109401959 2021-12-31 22:13:16  BTC / USD   \n",
       "1  92233720368547771282  4639357085285 2021-12-31 22:55:11  BTC / USD   \n",
       "2  92233720368547771283  4635816164458 2021-12-31 23:56:36  BTC / USD   \n",
       "3  92233720368547771284  4661544706500 2022-01-01 00:42:51  BTC / USD   \n",
       "4  92233720368547771285  4670395911240 2022-01-01 00:56:01  BTC / USD   \n",
       "\n",
       "   decimals  \n",
       "0         8  \n",
       "1         8  \n",
       "2         8  \n",
       "3         8  \n",
       "4         8  "
      ]
     },
     "execution_count": 285,
     "metadata": {},
     "output_type": "execute_result"
    }
   ],
   "source": [
    "history_df.head()"
   ]
  },
  {
   "cell_type": "code",
   "execution_count": 286,
   "id": "66241dcd",
   "metadata": {
    "ExecuteTime": {
     "end_time": "2023-04-26T03:27:34.396431Z",
     "start_time": "2023-04-26T03:27:34.092076Z"
    }
   },
   "outputs": [],
   "source": [
    "history_ddf = dd.from_pandas(history_df, npartitions=10)\n",
    "real_time_ddf = dd.from_pandas(real_time_df, npartitions=10)"
   ]
  },
  {
   "cell_type": "code",
   "execution_count": 287,
   "id": "1e70b6bc",
   "metadata": {
    "ExecuteTime": {
     "end_time": "2023-04-26T03:27:42.713044Z",
     "start_time": "2023-04-26T03:27:42.693653Z"
    }
   },
   "outputs": [],
   "source": [
    "def percentage_diff(partition):\n",
    "    return (partition.shift()-partition) / partition * 100"
   ]
  },
  {
   "cell_type": "code",
   "execution_count": 288,
   "id": "b5f87b61",
   "metadata": {
    "ExecuteTime": {
     "end_time": "2023-04-26T03:27:51.356041Z",
     "start_time": "2023-04-26T03:27:50.835870Z"
    }
   },
   "outputs": [],
   "source": [
    "# calculate the percentage difference using the map_partitions() method\n",
    "history_ddf['percentage_diff'] = history_ddf['price'].map_partitions(percentage_diff, meta=('x', 'f8'))\n",
    "\n",
    "# drop the first row, which will have NaN values\n",
    "history_ddf = history_ddf.dropna()\n",
    "\n",
    "# convert object to float and round to the second decimal points\n",
    "history_ddf['percentage_diff'] = history_ddf['percentage_diff'].astype(float).round(2)\n",
    "\n",
    "# save dask dataframe to pandas dataframe\n",
    "history_df = history_ddf.compute()"
   ]
  },
  {
   "cell_type": "code",
   "execution_count": 289,
   "id": "9ac0b199",
   "metadata": {
    "ExecuteTime": {
     "end_time": "2023-04-26T03:27:53.370081Z",
     "start_time": "2023-04-26T03:27:53.309280Z"
    }
   },
   "outputs": [
    {
     "data": {
      "text/html": [
       "<div>\n",
       "<style scoped>\n",
       "    .dataframe tbody tr th:only-of-type {\n",
       "        vertical-align: middle;\n",
       "    }\n",
       "\n",
       "    .dataframe tbody tr th {\n",
       "        vertical-align: top;\n",
       "    }\n",
       "\n",
       "    .dataframe thead th {\n",
       "        text-align: right;\n",
       "    }\n",
       "</style>\n",
       "<table border=\"1\" class=\"dataframe\">\n",
       "  <thead>\n",
       "    <tr style=\"text-align: right;\">\n",
       "      <th></th>\n",
       "      <th>roundid</th>\n",
       "      <th>price</th>\n",
       "      <th>updatedat</th>\n",
       "      <th>pair</th>\n",
       "      <th>decimals</th>\n",
       "      <th>percentage_diff</th>\n",
       "    </tr>\n",
       "  </thead>\n",
       "  <tbody>\n",
       "    <tr>\n",
       "      <th>1</th>\n",
       "      <td>92233720368547771282</td>\n",
       "      <td>4639357085285</td>\n",
       "      <td>2021-12-31 22:55:11</td>\n",
       "      <td>BTC / USD</td>\n",
       "      <td>8</td>\n",
       "      <td>0.27</td>\n",
       "    </tr>\n",
       "    <tr>\n",
       "      <th>2</th>\n",
       "      <td>92233720368547771283</td>\n",
       "      <td>4635816164458</td>\n",
       "      <td>2021-12-31 23:56:36</td>\n",
       "      <td>BTC / USD</td>\n",
       "      <td>8</td>\n",
       "      <td>0.08</td>\n",
       "    </tr>\n",
       "    <tr>\n",
       "      <th>3</th>\n",
       "      <td>92233720368547771284</td>\n",
       "      <td>4661544706500</td>\n",
       "      <td>2022-01-01 00:42:51</td>\n",
       "      <td>BTC / USD</td>\n",
       "      <td>8</td>\n",
       "      <td>-0.55</td>\n",
       "    </tr>\n",
       "    <tr>\n",
       "      <th>4</th>\n",
       "      <td>92233720368547771285</td>\n",
       "      <td>4670395911240</td>\n",
       "      <td>2022-01-01 00:56:01</td>\n",
       "      <td>BTC / USD</td>\n",
       "      <td>8</td>\n",
       "      <td>-0.19</td>\n",
       "    </tr>\n",
       "    <tr>\n",
       "      <th>5</th>\n",
       "      <td>92233720368547771286</td>\n",
       "      <td>4669785530693</td>\n",
       "      <td>2022-01-01 01:07:03</td>\n",
       "      <td>BTC / USD</td>\n",
       "      <td>8</td>\n",
       "      <td>0.01</td>\n",
       "    </tr>\n",
       "  </tbody>\n",
       "</table>\n",
       "</div>"
      ],
      "text/plain": [
       "                roundid          price           updatedat       pair  \\\n",
       "1  92233720368547771282  4639357085285 2021-12-31 22:55:11  BTC / USD   \n",
       "2  92233720368547771283  4635816164458 2021-12-31 23:56:36  BTC / USD   \n",
       "3  92233720368547771284  4661544706500 2022-01-01 00:42:51  BTC / USD   \n",
       "4  92233720368547771285  4670395911240 2022-01-01 00:56:01  BTC / USD   \n",
       "5  92233720368547771286  4669785530693 2022-01-01 01:07:03  BTC / USD   \n",
       "\n",
       "   decimals  percentage_diff  \n",
       "1         8             0.27  \n",
       "2         8             0.08  \n",
       "3         8            -0.55  \n",
       "4         8            -0.19  \n",
       "5         8             0.01  "
      ]
     },
     "execution_count": 289,
     "metadata": {},
     "output_type": "execute_result"
    }
   ],
   "source": [
    "history_df.head()"
   ]
  },
  {
   "cell_type": "code",
   "execution_count": 187,
   "id": "ea4bd7a2",
   "metadata": {
    "ExecuteTime": {
     "end_time": "2023-04-25T23:12:34.951219Z",
     "start_time": "2023-04-25T23:12:34.926642Z"
    }
   },
   "outputs": [],
   "source": [
    "from datetime import datetime\n",
    "from datetime import timedelta\n",
    "today = datetime.today()\n",
    "yesterday = today - timedelta(days = 1)\n",
    "the_day_before_yesterday = today - timedelta(days = 2)"
   ]
  },
  {
   "cell_type": "code",
   "execution_count": 188,
   "id": "4129cb05",
   "metadata": {
    "ExecuteTime": {
     "end_time": "2023-04-25T23:12:42.788398Z",
     "start_time": "2023-04-25T23:12:42.770427Z"
    }
   },
   "outputs": [],
   "source": [
    "today = today.strftime('%Y-%m-%d')\n",
    "yesterday = yesterday.strftime('%Y-%m-%d')\n",
    "the_day_before_yesterday = the_day_before_yesterday.strftime('%Y-%m-%d')"
   ]
  },
  {
   "cell_type": "code",
   "execution_count": 189,
   "id": "6ea35a37",
   "metadata": {
    "ExecuteTime": {
     "end_time": "2023-04-25T23:12:45.650237Z",
     "start_time": "2023-04-25T23:12:45.612772Z"
    }
   },
   "outputs": [
    {
     "data": {
      "text/plain": [
       "'2023-04-23'"
      ]
     },
     "execution_count": 189,
     "metadata": {},
     "output_type": "execute_result"
    }
   ],
   "source": [
    "the_day_before_yesterday"
   ]
  },
  {
   "cell_type": "code",
   "execution_count": 184,
   "id": "487fafe2",
   "metadata": {
    "ExecuteTime": {
     "end_time": "2023-04-25T23:10:02.053412Z",
     "start_time": "2023-04-25T23:10:02.031739Z"
    }
   },
   "outputs": [],
   "source": [
    "query = \"SELECT roundid, price, updatedat, pair, decimals FROM chainlink_real_time WHERE updatedat >'{}'\"\n",
    "formatted_query = query.format(today)"
   ]
  },
  {
   "cell_type": "code",
   "execution_count": 174,
   "id": "5c6850a0",
   "metadata": {
    "ExecuteTime": {
     "end_time": "2023-04-25T23:06:34.395690Z",
     "start_time": "2023-04-25T23:06:34.379169Z"
    }
   },
   "outputs": [
    {
     "data": {
      "text/plain": [
       "\"SELECT roundid, price, updatedat, pair, decimals FROM chainlink_real_time WHERE updatedat >'2023-04-25'\""
      ]
     },
     "execution_count": 174,
     "metadata": {},
     "output_type": "execute_result"
    }
   ],
   "source": [
    "formatted_query"
   ]
  },
  {
   "cell_type": "code",
   "execution_count": 175,
   "id": "d854ca33",
   "metadata": {
    "ExecuteTime": {
     "end_time": "2023-04-25T23:06:36.915703Z",
     "start_time": "2023-04-25T23:06:36.803403Z"
    }
   },
   "outputs": [],
   "source": [
    "real_time_df_test = query_from_db(formatted_query)"
   ]
  },
  {
   "cell_type": "code",
   "execution_count": 176,
   "id": "4bc5d75d",
   "metadata": {
    "ExecuteTime": {
     "end_time": "2023-04-25T23:06:37.976084Z",
     "start_time": "2023-04-25T23:06:37.911682Z"
    }
   },
   "outputs": [
    {
     "data": {
      "text/html": [
       "<div>\n",
       "<style scoped>\n",
       "    .dataframe tbody tr th:only-of-type {\n",
       "        vertical-align: middle;\n",
       "    }\n",
       "\n",
       "    .dataframe tbody tr th {\n",
       "        vertical-align: top;\n",
       "    }\n",
       "\n",
       "    .dataframe thead th {\n",
       "        text-align: right;\n",
       "    }\n",
       "</style>\n",
       "<table border=\"1\" class=\"dataframe\">\n",
       "  <thead>\n",
       "    <tr style=\"text-align: right;\">\n",
       "      <th></th>\n",
       "      <th>roundid</th>\n",
       "      <th>price</th>\n",
       "      <th>updatedat</th>\n",
       "      <th>pair</th>\n",
       "      <th>decimals</th>\n",
       "    </tr>\n",
       "  </thead>\n",
       "  <tbody>\n",
       "    <tr>\n",
       "      <th>0</th>\n",
       "      <td>92233720368547792782</td>\n",
       "      <td>2747456000000</td>\n",
       "      <td>2023-04-25 00:55:23</td>\n",
       "      <td>BTC / USD</td>\n",
       "      <td>8</td>\n",
       "    </tr>\n",
       "    <tr>\n",
       "      <th>1</th>\n",
       "      <td>92233720368547792783</td>\n",
       "      <td>2742257739000</td>\n",
       "      <td>2023-04-25 01:55:35</td>\n",
       "      <td>BTC / USD</td>\n",
       "      <td>8</td>\n",
       "    </tr>\n",
       "    <tr>\n",
       "      <th>2</th>\n",
       "      <td>92233720368547792784</td>\n",
       "      <td>2738978534871</td>\n",
       "      <td>2023-04-25 02:55:35</td>\n",
       "      <td>BTC / USD</td>\n",
       "      <td>8</td>\n",
       "    </tr>\n",
       "    <tr>\n",
       "      <th>3</th>\n",
       "      <td>92233720368547792785</td>\n",
       "      <td>2734687000000</td>\n",
       "      <td>2023-04-25 03:55:35</td>\n",
       "      <td>BTC / USD</td>\n",
       "      <td>8</td>\n",
       "    </tr>\n",
       "    <tr>\n",
       "      <th>4</th>\n",
       "      <td>92233720368547792786</td>\n",
       "      <td>2743571860000</td>\n",
       "      <td>2023-04-25 04:55:35</td>\n",
       "      <td>BTC / USD</td>\n",
       "      <td>8</td>\n",
       "    </tr>\n",
       "    <tr>\n",
       "      <th>5</th>\n",
       "      <td>92233720368547792787</td>\n",
       "      <td>2744891250000</td>\n",
       "      <td>2023-04-25 05:55:35</td>\n",
       "      <td>BTC / USD</td>\n",
       "      <td>8</td>\n",
       "    </tr>\n",
       "    <tr>\n",
       "      <th>6</th>\n",
       "      <td>92233720368547792788</td>\n",
       "      <td>2739069400000</td>\n",
       "      <td>2023-04-25 06:55:47</td>\n",
       "      <td>BTC / USD</td>\n",
       "      <td>8</td>\n",
       "    </tr>\n",
       "    <tr>\n",
       "      <th>7</th>\n",
       "      <td>92233720368547792789</td>\n",
       "      <td>2727647000000</td>\n",
       "      <td>2023-04-25 07:56:47</td>\n",
       "      <td>BTC / USD</td>\n",
       "      <td>8</td>\n",
       "    </tr>\n",
       "    <tr>\n",
       "      <th>8</th>\n",
       "      <td>92233720368547792790</td>\n",
       "      <td>2727676930000</td>\n",
       "      <td>2023-04-25 07:57:11</td>\n",
       "      <td>BTC / USD</td>\n",
       "      <td>8</td>\n",
       "    </tr>\n",
       "    <tr>\n",
       "      <th>9</th>\n",
       "      <td>92233720368547792791</td>\n",
       "      <td>2726921350000</td>\n",
       "      <td>2023-04-25 08:00:47</td>\n",
       "      <td>BTC / USD</td>\n",
       "      <td>8</td>\n",
       "    </tr>\n",
       "    <tr>\n",
       "      <th>10</th>\n",
       "      <td>92233720368547792792</td>\n",
       "      <td>2734413491000</td>\n",
       "      <td>2023-04-25 08:55:47</td>\n",
       "      <td>BTC / USD</td>\n",
       "      <td>8</td>\n",
       "    </tr>\n",
       "    <tr>\n",
       "      <th>11</th>\n",
       "      <td>92233720368547792793</td>\n",
       "      <td>2733162095000</td>\n",
       "      <td>2023-04-25 09:55:23</td>\n",
       "      <td>BTC / USD</td>\n",
       "      <td>8</td>\n",
       "    </tr>\n",
       "    <tr>\n",
       "      <th>12</th>\n",
       "      <td>92233720368547792794</td>\n",
       "      <td>2733782000000</td>\n",
       "      <td>2023-04-25 10:55:47</td>\n",
       "      <td>BTC / USD</td>\n",
       "      <td>8</td>\n",
       "    </tr>\n",
       "    <tr>\n",
       "      <th>13</th>\n",
       "      <td>92233720368547792795</td>\n",
       "      <td>2738956750000</td>\n",
       "      <td>2023-04-25 11:55:23</td>\n",
       "      <td>BTC / USD</td>\n",
       "      <td>8</td>\n",
       "    </tr>\n",
       "    <tr>\n",
       "      <th>14</th>\n",
       "      <td>92233720368547792796</td>\n",
       "      <td>2736667500000</td>\n",
       "      <td>2023-04-25 12:55:23</td>\n",
       "      <td>BTC / USD</td>\n",
       "      <td>8</td>\n",
       "    </tr>\n",
       "    <tr>\n",
       "      <th>15</th>\n",
       "      <td>92233720368547792797</td>\n",
       "      <td>2735167360472</td>\n",
       "      <td>2023-04-25 13:56:23</td>\n",
       "      <td>BTC / USD</td>\n",
       "      <td>8</td>\n",
       "    </tr>\n",
       "    <tr>\n",
       "      <th>16</th>\n",
       "      <td>92233720368547792798</td>\n",
       "      <td>2735644413000</td>\n",
       "      <td>2023-04-25 13:56:59</td>\n",
       "      <td>BTC / USD</td>\n",
       "      <td>8</td>\n",
       "    </tr>\n",
       "    <tr>\n",
       "      <th>17</th>\n",
       "      <td>92233720368547792799</td>\n",
       "      <td>2728239000000</td>\n",
       "      <td>2023-04-25 14:55:23</td>\n",
       "      <td>BTC / USD</td>\n",
       "      <td>8</td>\n",
       "    </tr>\n",
       "    <tr>\n",
       "      <th>18</th>\n",
       "      <td>92233720368547792800</td>\n",
       "      <td>2742058021614</td>\n",
       "      <td>2023-04-25 15:21:59</td>\n",
       "      <td>BTC / USD</td>\n",
       "      <td>8</td>\n",
       "    </tr>\n",
       "    <tr>\n",
       "      <th>19</th>\n",
       "      <td>92233720368547792801</td>\n",
       "      <td>2733487000000</td>\n",
       "      <td>2023-04-25 15:55:35</td>\n",
       "      <td>BTC / USD</td>\n",
       "      <td>8</td>\n",
       "    </tr>\n",
       "    <tr>\n",
       "      <th>20</th>\n",
       "      <td>92233720368547792802</td>\n",
       "      <td>2738210389274</td>\n",
       "      <td>2023-04-25 16:55:35</td>\n",
       "      <td>BTC / USD</td>\n",
       "      <td>8</td>\n",
       "    </tr>\n",
       "    <tr>\n",
       "      <th>21</th>\n",
       "      <td>92233720368547792803</td>\n",
       "      <td>2752010096318</td>\n",
       "      <td>2023-04-25 17:41:35</td>\n",
       "      <td>BTC / USD</td>\n",
       "      <td>8</td>\n",
       "    </tr>\n",
       "    <tr>\n",
       "      <th>22</th>\n",
       "      <td>92233720368547792804</td>\n",
       "      <td>2753462000000</td>\n",
       "      <td>2023-04-25 17:55:35</td>\n",
       "      <td>BTC / USD</td>\n",
       "      <td>8</td>\n",
       "    </tr>\n",
       "    <tr>\n",
       "      <th>23</th>\n",
       "      <td>92233720368547792805</td>\n",
       "      <td>2767649500000</td>\n",
       "      <td>2023-04-25 18:15:11</td>\n",
       "      <td>BTC / USD</td>\n",
       "      <td>8</td>\n",
       "    </tr>\n",
       "    <tr>\n",
       "      <th>24</th>\n",
       "      <td>92233720368547792806</td>\n",
       "      <td>2762458296469</td>\n",
       "      <td>2023-04-25 18:55:35</td>\n",
       "      <td>BTC / USD</td>\n",
       "      <td>8</td>\n",
       "    </tr>\n",
       "    <tr>\n",
       "      <th>25</th>\n",
       "      <td>92233720368547792807</td>\n",
       "      <td>2765082355088</td>\n",
       "      <td>2023-04-25 19:55:47</td>\n",
       "      <td>BTC / USD</td>\n",
       "      <td>8</td>\n",
       "    </tr>\n",
       "    <tr>\n",
       "      <th>26</th>\n",
       "      <td>92233720368547792808</td>\n",
       "      <td>2782991567749</td>\n",
       "      <td>2023-04-25 20:06:35</td>\n",
       "      <td>BTC / USD</td>\n",
       "      <td>8</td>\n",
       "    </tr>\n",
       "    <tr>\n",
       "      <th>27</th>\n",
       "      <td>92233720368547792809</td>\n",
       "      <td>2797201365000</td>\n",
       "      <td>2023-04-25 20:34:11</td>\n",
       "      <td>BTC / USD</td>\n",
       "      <td>8</td>\n",
       "    </tr>\n",
       "    <tr>\n",
       "      <th>28</th>\n",
       "      <td>92233720368547792810</td>\n",
       "      <td>2800082615000</td>\n",
       "      <td>2023-04-25 20:55:35</td>\n",
       "      <td>BTC / USD</td>\n",
       "      <td>8</td>\n",
       "    </tr>\n",
       "    <tr>\n",
       "      <th>29</th>\n",
       "      <td>92233720368547792811</td>\n",
       "      <td>2816093996017</td>\n",
       "      <td>2023-04-25 21:03:23</td>\n",
       "      <td>BTC / USD</td>\n",
       "      <td>8</td>\n",
       "    </tr>\n",
       "    <tr>\n",
       "      <th>30</th>\n",
       "      <td>92233720368547792812</td>\n",
       "      <td>2823724499500</td>\n",
       "      <td>2023-04-25 21:55:47</td>\n",
       "      <td>BTC / USD</td>\n",
       "      <td>8</td>\n",
       "    </tr>\n",
       "    <tr>\n",
       "      <th>31</th>\n",
       "      <td>92233720368547792813</td>\n",
       "      <td>2837929099000</td>\n",
       "      <td>2023-04-25 22:04:47</td>\n",
       "      <td>BTC / USD</td>\n",
       "      <td>8</td>\n",
       "    </tr>\n",
       "    <tr>\n",
       "      <th>32</th>\n",
       "      <td>92233720368547792814</td>\n",
       "      <td>2823190400000</td>\n",
       "      <td>2023-04-25 22:19:11</td>\n",
       "      <td>BTC / USD</td>\n",
       "      <td>8</td>\n",
       "    </tr>\n",
       "  </tbody>\n",
       "</table>\n",
       "</div>"
      ],
      "text/plain": [
       "                 roundid          price           updatedat       pair  \\\n",
       "0   92233720368547792782  2747456000000 2023-04-25 00:55:23  BTC / USD   \n",
       "1   92233720368547792783  2742257739000 2023-04-25 01:55:35  BTC / USD   \n",
       "2   92233720368547792784  2738978534871 2023-04-25 02:55:35  BTC / USD   \n",
       "3   92233720368547792785  2734687000000 2023-04-25 03:55:35  BTC / USD   \n",
       "4   92233720368547792786  2743571860000 2023-04-25 04:55:35  BTC / USD   \n",
       "5   92233720368547792787  2744891250000 2023-04-25 05:55:35  BTC / USD   \n",
       "6   92233720368547792788  2739069400000 2023-04-25 06:55:47  BTC / USD   \n",
       "7   92233720368547792789  2727647000000 2023-04-25 07:56:47  BTC / USD   \n",
       "8   92233720368547792790  2727676930000 2023-04-25 07:57:11  BTC / USD   \n",
       "9   92233720368547792791  2726921350000 2023-04-25 08:00:47  BTC / USD   \n",
       "10  92233720368547792792  2734413491000 2023-04-25 08:55:47  BTC / USD   \n",
       "11  92233720368547792793  2733162095000 2023-04-25 09:55:23  BTC / USD   \n",
       "12  92233720368547792794  2733782000000 2023-04-25 10:55:47  BTC / USD   \n",
       "13  92233720368547792795  2738956750000 2023-04-25 11:55:23  BTC / USD   \n",
       "14  92233720368547792796  2736667500000 2023-04-25 12:55:23  BTC / USD   \n",
       "15  92233720368547792797  2735167360472 2023-04-25 13:56:23  BTC / USD   \n",
       "16  92233720368547792798  2735644413000 2023-04-25 13:56:59  BTC / USD   \n",
       "17  92233720368547792799  2728239000000 2023-04-25 14:55:23  BTC / USD   \n",
       "18  92233720368547792800  2742058021614 2023-04-25 15:21:59  BTC / USD   \n",
       "19  92233720368547792801  2733487000000 2023-04-25 15:55:35  BTC / USD   \n",
       "20  92233720368547792802  2738210389274 2023-04-25 16:55:35  BTC / USD   \n",
       "21  92233720368547792803  2752010096318 2023-04-25 17:41:35  BTC / USD   \n",
       "22  92233720368547792804  2753462000000 2023-04-25 17:55:35  BTC / USD   \n",
       "23  92233720368547792805  2767649500000 2023-04-25 18:15:11  BTC / USD   \n",
       "24  92233720368547792806  2762458296469 2023-04-25 18:55:35  BTC / USD   \n",
       "25  92233720368547792807  2765082355088 2023-04-25 19:55:47  BTC / USD   \n",
       "26  92233720368547792808  2782991567749 2023-04-25 20:06:35  BTC / USD   \n",
       "27  92233720368547792809  2797201365000 2023-04-25 20:34:11  BTC / USD   \n",
       "28  92233720368547792810  2800082615000 2023-04-25 20:55:35  BTC / USD   \n",
       "29  92233720368547792811  2816093996017 2023-04-25 21:03:23  BTC / USD   \n",
       "30  92233720368547792812  2823724499500 2023-04-25 21:55:47  BTC / USD   \n",
       "31  92233720368547792813  2837929099000 2023-04-25 22:04:47  BTC / USD   \n",
       "32  92233720368547792814  2823190400000 2023-04-25 22:19:11  BTC / USD   \n",
       "\n",
       "    decimals  \n",
       "0          8  \n",
       "1          8  \n",
       "2          8  \n",
       "3          8  \n",
       "4          8  \n",
       "5          8  \n",
       "6          8  \n",
       "7          8  \n",
       "8          8  \n",
       "9          8  \n",
       "10         8  \n",
       "11         8  \n",
       "12         8  \n",
       "13         8  \n",
       "14         8  \n",
       "15         8  \n",
       "16         8  \n",
       "17         8  \n",
       "18         8  \n",
       "19         8  \n",
       "20         8  \n",
       "21         8  \n",
       "22         8  \n",
       "23         8  \n",
       "24         8  \n",
       "25         8  \n",
       "26         8  \n",
       "27         8  \n",
       "28         8  \n",
       "29         8  \n",
       "30         8  \n",
       "31         8  \n",
       "32         8  "
      ]
     },
     "execution_count": 176,
     "metadata": {},
     "output_type": "execute_result"
    }
   ],
   "source": [
    "real_time_df_test"
   ]
  },
  {
   "cell_type": "code",
   "execution_count": null,
   "id": "05c20f3b",
   "metadata": {},
   "outputs": [],
   "source": []
  }
 ],
 "metadata": {
  "kernelspec": {
   "display_name": "Python 3 (ipykernel)",
   "language": "python",
   "name": "python3"
  },
  "language_info": {
   "codemirror_mode": {
    "name": "ipython",
    "version": 3
   },
   "file_extension": ".py",
   "mimetype": "text/x-python",
   "name": "python",
   "nbconvert_exporter": "python",
   "pygments_lexer": "ipython3",
   "version": "3.10.6"
  },
  "toc": {
   "base_numbering": 1,
   "nav_menu": {},
   "number_sections": true,
   "sideBar": true,
   "skip_h1_title": false,
   "title_cell": "Table of Contents",
   "title_sidebar": "Contents",
   "toc_cell": false,
   "toc_position": {},
   "toc_section_display": true,
   "toc_window_display": false
  }
 },
 "nbformat": 4,
 "nbformat_minor": 5
}
