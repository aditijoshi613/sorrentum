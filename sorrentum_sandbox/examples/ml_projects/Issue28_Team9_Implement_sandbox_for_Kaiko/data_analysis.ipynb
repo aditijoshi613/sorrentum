{
 "cells": [
  {
   "cell_type": "code",
   "execution_count": null,
   "metadata": {},
   "outputs": [
    {
     "name": "stdout",
     "output_type": "stream",
     "text": [
      "           trade_id     price    amount  taker_side_sell currency_pair\n",
      "0       215994448.0   2689.72  0.001000              1.0       eth-usd\n",
      "1       215994447.0   2689.72  0.377759              1.0       eth-usd\n",
      "2       215994446.0   2689.72  0.001000              1.0       eth-usd\n",
      "3       215994445.0   2689.72  2.600000              1.0       eth-usd\n",
      "4       215994444.0   2689.86  0.499400              1.0       eth-usd\n",
      "...             ...       ...       ...              ...           ...\n",
      "199995  274028054.0  38471.99  0.231330              0.0       btc-usd\n",
      "199996  274028053.0  38471.22  0.260129              0.0       btc-usd\n",
      "199997  274028052.0  38471.03  0.930004              0.0       btc-usd\n",
      "199998  274028051.0  38471.03  0.995169              0.0       btc-usd\n",
      "199999  274028050.0  38469.41  0.058000              0.0       btc-usd\n",
      "\n",
      "[200000 rows x 5 columns]\n"
     ]
    }
   ],
   "source": [
    "import pandas as pd\n",
    "import numpy as n\n",
    "\n",
    "data = pd.read_csv('data/tick_trades.csv')\n",
    "print(data)"
   ]
  },
  {
   "cell_type": "code",
   "execution_count": null,
   "metadata": {},
   "outputs": [
    {
     "ename": "ValueError",
     "evalue": "The truth value of a DataFrame is ambiguous. Use a.empty, a.bool(), a.item(), a.any() or a.all().",
     "output_type": "error",
     "traceback": [
      "\u001b[0;31m---------------------------------------------------------------------------\u001b[0m",
      "\u001b[0;31mValueError\u001b[0m                                Traceback (most recent call last)",
      "Cell \u001b[0;32mIn[10], line 10\u001b[0m\n\u001b[1;32m      8\u001b[0m std \u001b[39m=\u001b[39m data\u001b[39m.\u001b[39mstd()\n\u001b[1;32m      9\u001b[0m threshold \u001b[39m=\u001b[39m \u001b[39m3\u001b[39m \u001b[39m*\u001b[39m std\n\u001b[0;32m---> 10\u001b[0m \u001b[39mif\u001b[39;00m \u001b[39mabs\u001b[39m(data \u001b[39m-\u001b[39m mean) \u001b[39m>\u001b[39m threshold:\n\u001b[1;32m     11\u001b[0m     \u001b[39mprint\u001b[39m(\u001b[39m'\u001b[39m\u001b[39mAnomaly detected!\u001b[39m\u001b[39m'\u001b[39m)\n\u001b[1;32m     12\u001b[0m time\u001b[39m.\u001b[39msleep(\u001b[39m1\u001b[39m)\n",
      "File \u001b[0;32m/Library/Frameworks/Python.framework/Versions/3.10/lib/python3.10/site-packages/pandas/core/generic.py:1527\u001b[0m, in \u001b[0;36mNDFrame.__nonzero__\u001b[0;34m(self)\u001b[0m\n\u001b[1;32m   1525\u001b[0m \u001b[39m@final\u001b[39m\n\u001b[1;32m   1526\u001b[0m \u001b[39mdef\u001b[39;00m \u001b[39m__nonzero__\u001b[39m(\u001b[39mself\u001b[39m) \u001b[39m-\u001b[39m\u001b[39m>\u001b[39m NoReturn:\n\u001b[0;32m-> 1527\u001b[0m     \u001b[39mraise\u001b[39;00m \u001b[39mValueError\u001b[39;00m(\n\u001b[1;32m   1528\u001b[0m         \u001b[39mf\u001b[39m\u001b[39m\"\u001b[39m\u001b[39mThe truth value of a \u001b[39m\u001b[39m{\u001b[39;00m\u001b[39mtype\u001b[39m(\u001b[39mself\u001b[39m)\u001b[39m.\u001b[39m\u001b[39m__name__\u001b[39m\u001b[39m}\u001b[39;00m\u001b[39m is ambiguous. \u001b[39m\u001b[39m\"\u001b[39m\n\u001b[1;32m   1529\u001b[0m         \u001b[39m\"\u001b[39m\u001b[39mUse a.empty, a.bool(), a.item(), a.any() or a.all().\u001b[39m\u001b[39m\"\u001b[39m\n\u001b[1;32m   1530\u001b[0m     )\n",
      "\u001b[0;31mValueError\u001b[0m: The truth value of a DataFrame is ambiguous. Use a.empty, a.bool(), a.item(), a.any() or a.all()."
     ]
    }
   ],
   "source": [
    "import random\n",
    "import time\n",
    "\n",
    "while True:\n",
    "    data = pd.DataFrame({'': [random.randint(0, 100)]})\n",
    "    \n",
    "    mean = data.mean()\n",
    "    std = data.std()\n",
    "    threshold = 3 * std\n",
    "    if abs(data - mean) > threshold:\n",
    "        print('Anomaly detected!')\n",
    "    time.sleep(1)"
   ]
  }
 ],
 "metadata": {
  "kernelspec": {
   "display_name": "Python 3",
   "language": "python",
   "name": "python3"
  },
  "language_info": {
   "codemirror_mode": {
    "name": "ipython",
    "version": 3
   },
   "file_extension": ".py",
   "mimetype": "text/x-python",
   "name": "python",
   "nbconvert_exporter": "python",
   "pygments_lexer": "ipython3",
   "version": "3.10.5"
  },
  "orig_nbformat": 4
 },
 "nbformat": 4,
 "nbformat_minor": 2
}
