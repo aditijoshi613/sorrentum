{
 "cells": [
  {
   "cell_type": "markdown",
   "id": "4eacc5dd",
   "metadata": {
    "ExecuteTime": {
     "end_time": "2023-03-30T19:47:19.574661Z",
     "start_time": "2023-03-30T19:47:19.543533Z"
    }
   },
   "source": [
    "# Description"
   ]
  },
  {
   "cell_type": "markdown",
   "id": "31a5ad7c",
   "metadata": {},
   "source": [
    "The notebook demonstrates how open-source solvers solves the DaoCross problem."
   ]
  },
  {
   "cell_type": "markdown",
   "id": "f3392998",
   "metadata": {},
   "source": [
    "# Imports"
   ]
  },
  {
   "cell_type": "code",
   "execution_count": 1,
   "id": "ac5b6e8b",
   "metadata": {
    "ExecuteTime": {
     "end_time": "2023-03-30T19:46:30.094344Z",
     "start_time": "2023-03-30T19:46:29.530761Z"
    }
   },
   "outputs": [],
   "source": [
    "%load_ext autoreload\n",
    "%autoreload 2\n",
    "%matplotlib inline"
   ]
  },
  {
   "cell_type": "code",
   "execution_count": 2,
   "id": "5943a11d",
   "metadata": {
    "ExecuteTime": {
     "end_time": "2023-03-30T19:46:30.561566Z",
     "start_time": "2023-03-30T19:46:30.096581Z"
    }
   },
   "outputs": [],
   "source": [
    "import logging\n",
    "from typing import Tuple\n",
    "\n",
    "import helpers.hdbg as hdbg\n",
    "import helpers.henv as henv\n",
    "import helpers.hprint as hprint"
   ]
  },
  {
   "cell_type": "code",
   "execution_count": 3,
   "id": "094f54a3",
   "metadata": {
    "ExecuteTime": {
     "end_time": "2023-03-30T19:46:30.591271Z",
     "start_time": "2023-03-30T19:46:30.565423Z"
    }
   },
   "outputs": [],
   "source": [
    "try:\n",
    "    import pulp\n",
    "except ImportError:\n",
    "    !sudo /bin/bash -c \"(source /venv/bin/activate; pip install pulp)\"\n",
    "    import pulp"
   ]
  },
  {
   "cell_type": "code",
   "execution_count": 4,
   "id": "7e0f5097",
   "metadata": {
    "ExecuteTime": {
     "end_time": "2023-03-30T19:46:32.275476Z",
     "start_time": "2023-03-30T19:46:30.593045Z"
    }
   },
   "outputs": [
    {
     "name": "stdout",
     "output_type": "stream",
     "text": [
      "\u001b[0m\u001b[36mINFO\u001b[0m: > cmd='/venv/lib/python3.8/site-packages/ipykernel_launcher.py -f /home/.local/share/jupyter/runtime/kernel-e4a1205a-f691-4724-b23c-23d98636946d.json'\n",
      "WARNING: Running in Jupyter\n",
      "\u001b[31m-----------------------------------------------------------------------------\n",
      "This code is not in sync with the container:\n",
      "code_version='1.4.2' != container_version='1.4.0'\n",
      "-----------------------------------------------------------------------------\n",
      "You need to:\n",
      "- merge origin/master into your branch with `invoke git_merge_master`\n",
      "- pull the latest container with `invoke docker_pull`\u001b[0m\n",
      "INFO  # Git\n",
      "  branch_name='master'\n",
      "  hash='cad4463'\n",
      "  # Last commits:\n",
      "    * cad4463 CK Bot   Update amp repo                                                   (  19 hours ago) Thu Mar 30 00:18:18 2023  (HEAD -> master, origin/master, origin/HEAD)\n",
      "    * 32ea791 Nina Lee Cm task4052 add test for slow reconciliation notebook (#359)      (  27 hours ago) Wed Mar 29 16:38:40 2023           \n",
      "    * 79c3883 CK Bot   Update amp repo                                                   (    2 days ago) Wed Mar 29 00:20:25 2023           \n",
      "  # Git amp\n",
      "    branch_name='CmTask4090_generate_synthetic_data'\n",
      "    hash='7be635dce'\n",
      "    # Last commits:\n",
      "      *   7be635dce Nina Lee Merge branch 'master' into CmTask4090_generate_synthetic_data     (  23 hours ago) Wed Mar 29 20:22:56 2023  (HEAD -> CmTask4090_generate_synthetic_data, origin/CmTask4090_generate_synthetic_data)\n",
      "      |\\  \n",
      "      * | 7e7ae7775 Nina Lee checkpoint                                                        (  23 hours ago) Wed Mar 29 20:21:33 2023           \n",
      "      * | def28e101 Nina Lee linter                                                            (  23 hours ago) Wed Mar 29 20:18:15 2023           \n",
      "# Machine info\n",
      "  system=Linux\n",
      "  node name=6916aff60506\n",
      "  release=5.15.0-1030-aws\n",
      "  version=#34~20.04.1-Ubuntu SMP Tue Jan 24 15:16:46 UTC 2023\n",
      "  machine=x86_64\n",
      "  processor=x86_64\n",
      "  cpu count=8\n",
      "  cpu freq=scpufreq(current=2499.998, min=0.0, max=0.0)\n",
      "  memory=svmem(total=33292886016, available=26697916416, percent=19.8, used=6127865856, free=4935094272, active=9100849152, inactive=16444391424, buffers=1622515712, cached=20607410176, shared=10440704, slab=2475450368)\n",
      "  disk usage=sdiskusage(total=156052275200, used=30964936704, free=125070561280, percent=19.8)\n",
      "# Packages\n",
      "  python: 3.8.10\n",
      "  cvxopt: 1.3.0\n",
      "  cvxpy: 1.2.2\n",
      "  gluonnlp: ?\n",
      "  gluonts: 0.6.7\n",
      "  joblib: 1.2.0\n",
      "  mxnet: 1.9.1\n",
      "  numpy: 1.23.4\n",
      "  pandas: 1.5.1\n",
      "  pyarrow: 10.0.0\n",
      "  scipy: 1.9.3\n",
      "  seaborn: 0.12.1\n",
      "  sklearn: 1.1.3\n",
      "  statsmodels: 0.13.5\n"
     ]
    }
   ],
   "source": [
    "hdbg.init_logger(verbosity=logging.INFO)\n",
    "\n",
    "_LOG = logging.getLogger(__name__)\n",
    "\n",
    "_LOG.info(\"%s\", henv.get_system_signature()[0])\n",
    "\n",
    "hprint.config_notebook()"
   ]
  },
  {
   "cell_type": "markdown",
   "id": "952d6334",
   "metadata": {},
   "source": [
    "# Order class"
   ]
  },
  {
   "cell_type": "code",
   "execution_count": 5,
   "id": "4043341f",
   "metadata": {
    "ExecuteTime": {
     "end_time": "2023-03-30T19:46:32.308367Z",
     "start_time": "2023-03-30T19:46:32.278126Z"
    }
   },
   "outputs": [],
   "source": [
    "class Order:\n",
    "    \n",
    "    # TODO(Grisha): add type hints, add assertions.\n",
    "    def __init__(self, action, quantity, base_token, limit_price, quote_token):\n",
    "        self.action = action\n",
    "        self.quantity = quantity\n",
    "        self.base_token = base_token\n",
    "        self.limit_price = limit_price\n",
    "        self.quote_token = quote_token\n",
    "        \n",
    "    def __repr__(self):\n",
    "        return str(self)\n",
    "        \n",
    "    def __str__(self):\n",
    "        ret = \"action=%s, quantity=%s, base_token=%s, limit_price=%s, quote_token=%s\" % (self.action, self.quantity, self.base_token, self.limit_price, self.quote_token)\n",
    "        return ret"
   ]
  },
  {
   "cell_type": "markdown",
   "id": "a408b724",
   "metadata": {},
   "source": [
    "# Functions"
   ]
  },
  {
   "cell_type": "code",
   "execution_count": 6,
   "id": "59a780ce",
   "metadata": {
    "ExecuteTime": {
     "end_time": "2023-03-30T19:46:32.347120Z",
     "start_time": "2023-03-30T19:46:32.310786Z"
    }
   },
   "outputs": [],
   "source": [
    "# TODO(Grisha): consider extending for n orders.\n",
    "def optimize_for_volume(order_1: Order, order_2: Order, exchange_rate: float) -> None:\n",
    "    \"\"\"\n",
    "    Find the maximum transacted volume given the orders and the constraints.\n",
    "    \n",
    "    :param order_1: input buy order\n",
    "    :param order_2: input sell order\n",
    "    :param exchange_rate: price of base token / price of quote token \n",
    "    :return: solver output in a human readable format\n",
    "    \"\"\"\n",
    "    # Assume the fixed directions.\n",
    "    hdbg.dassert_eq(order_1.action, \"buy\")\n",
    "    hdbg.dassert_eq(order_2.action, \"sell\")\n",
    "    #\n",
    "    hdbg.dassert_lt(0, exchange_rate)\n",
    "    # Initialize the model.\n",
    "    prob = pulp.LpProblem(\"The DaoCross problem\", pulp.LpMaximize)\n",
    "    # Specify the vars. By setting the lower bound to zero it is safe\n",
    "    # to omit the >= 0 constraint on the executed quantity.\n",
    "    q_base_asterisk_1 = pulp.LpVariable(\"q_base_asterisk_1\", lowBound=0)\n",
    "    q_base_asterisk_2 = pulp.LpVariable(\"q_base_asterisk_2\", lowBound=0)\n",
    "    # Objective function.\n",
    "    # TODO(Grisha): since the base token is the same, i.e. BTC it's\n",
    "    # ok to use quantity, however the objective function should be\n",
    "    # modified to account for different base tokens.\n",
    "    prob += q_base_asterisk_1 + q_base_asterisk_2\n",
    "    # Constraints.\n",
    "    # Random number that is big enough to use the\n",
    "    # \"Big M\" method.\n",
    "    M = 1e6\n",
    "    # TODO(Grisha): this should be a function of action.\n",
    "    limit_price_cond_1 = int(exchange_rate <= order_1.limit_price)\n",
    "    _LOG.info(\"limit_price_cond_1 is %s\", limit_price_cond_1)\n",
    "    limit_price_cond_2 = int(exchange_rate >= order_2.limit_price)\n",
    "    _LOG.info(\"limit_price_cond_2 is %s\", limit_price_cond_2)\n",
    "    # Executed quantity is not greater than the requested quantity\n",
    "    # given that the limit price condition is satisfied.\n",
    "    prob += q_base_asterisk_1 <= order_1.quantity + M*(1-limit_price_cond_1)\n",
    "    prob += q_base_asterisk_2 <= order_2.quantity + M*(1-limit_price_cond_2)\n",
    "    # Executed quantity is zero if the limit price condition is not met.\n",
    "    prob += q_base_asterisk_1 <= M*limit_price_cond_1\n",
    "    prob += q_base_asterisk_1 >= -M*limit_price_cond_1\n",
    "    #\n",
    "    prob += q_base_asterisk_2 <= M*limit_price_cond_2\n",
    "    prob += q_base_asterisk_2 >= -M*limit_price_cond_2\n",
    "    # The number of sold tokens must match the number of bought tokens.\n",
    "    prob += q_base_asterisk_1 == q_base_asterisk_2\n",
    "    #\n",
    "    prob.solve()\n",
    "    # Display the results.\n",
    "    _LOG.info(        \n",
    "        \"The status is: %s\"\n",
    "        \"\\nThe total volume (in BTC) exchanged is: %s\"\n",
    "        \"\\nThe value of exchanged base token from order 1: %s\"\n",
    "        \"\\nThe value of exchanged base token from order 2: %s\"\n",
    "        \"\\nThe solution time (in seconds) is: %s\",\n",
    "        pulp.LpStatus[prob.status], \n",
    "        pulp.value(prob.objective), \n",
    "        q_base_asterisk_1.varValue, \n",
    "        q_base_asterisk_2.varValue, \n",
    "        round(prob.solutionTime, 2)\n",
    "    )\n",
    "    \n",
    "    \n",
    "def get_test_orders(limit_price_1: float, limit_price_2: float) -> Tuple[Order, Order]:\n",
    "    # Genereate buy order.\n",
    "    action = \"buy\"\n",
    "    quantity = 5\n",
    "    base_token = \"BTC\"\n",
    "    quote_token = \"ETH\"\n",
    "    order_1 = Order(action, quantity, base_token, limit_price_1, quote_token)\n",
    "    _LOG.info(\"Buy order: %s\", str(order_1))\n",
    "    # Generate sell order.\n",
    "    action = \"sell\"\n",
    "    quantity = 5\n",
    "    base_token = \"BTC\"\n",
    "    quote_token = \"ETH\"\n",
    "    order_2 = Order(action, quantity, base_token, limit_price_2, quote_token)\n",
    "    _LOG.info(\"Sell order: %s\", str(order_2))\n",
    "    return order_1, order_2"
   ]
  },
  {
   "cell_type": "markdown",
   "id": "a962bf8b",
   "metadata": {},
   "source": [
    "# Solve the optimization problem"
   ]
  },
  {
   "cell_type": "code",
   "execution_count": 7,
   "id": "39b850f5",
   "metadata": {
    "ExecuteTime": {
     "end_time": "2023-03-30T19:46:32.377353Z",
     "start_time": "2023-03-30T19:46:32.349369Z"
    }
   },
   "outputs": [
    {
     "name": "stdout",
     "output_type": "stream",
     "text": [
      "INFO  Exchange rate=4\n"
     ]
    }
   ],
   "source": [
    "exchange_rate = 4\n",
    "_LOG.info(\"Exchange rate=%s\", exchange_rate)"
   ]
  },
  {
   "cell_type": "markdown",
   "id": "6419b6c0",
   "metadata": {},
   "source": [
    "## Limit price condition is met for both orders"
   ]
  },
  {
   "cell_type": "code",
   "execution_count": 8,
   "id": "d4e24eaf",
   "metadata": {
    "ExecuteTime": {
     "end_time": "2023-03-30T19:46:32.433624Z",
     "start_time": "2023-03-30T19:46:32.379757Z"
    }
   },
   "outputs": [
    {
     "name": "stdout",
     "output_type": "stream",
     "text": [
      "INFO  Buy order: action=buy, quantity=5, base_token=BTC, limit_price=5, quote_token=ETH\n",
      "INFO  Sell order: action=sell, quantity=5, base_token=BTC, limit_price=3, quote_token=ETH\n",
      "INFO  limit_price_cond_1 is 1\n",
      "INFO  limit_price_cond_2 is 1\n",
      "Welcome to the CBC MILP Solver \n",
      "Version: 2.10.3 \n",
      "Build Date: Dec 15 2019 \n",
      "\n",
      "command line - /venv/lib/python3.8/site-packages/pulp/solverdir/cbc/linux/64/cbc /tmp/90ca8c9c9b554280a264adb15f53fa51-pulp.mps max timeMode elapsed branch printingOptions all solution /tmp/90ca8c9c9b554280a264adb15f53fa51-pulp.sol (default strategy 1)\n",
      "At line 2 NAME          MODEL\n",
      "At line 3 ROWS\n",
      "At line 12 COLUMNS\n",
      "At line 23 RHS\n",
      "At line 31 BOUNDS\n",
      "At line 32 ENDATA\n",
      "Problem MODEL has 7 rows, 2 columns and 8 elements\n",
      "Coin0008I MODEL read with 0 errors\n",
      "Option for timeMode changed from cpu to elapsed\n",
      "Presolve 0 (-7) rows, 0 (-2) columns and 0 (-8) elements\n",
      "Empty problem - 0 rows, 0 columns and 0 elements\n",
      "Optimal - objective value 10\n",
      "After Postsolve, objective 10, infeasibilities - dual 0 (0), primal 0 (0)\n",
      "Optimal objective 10 - 0 iterations time 0.002, Presolve 0.00\n",
      "Option for printingOptions changed from normal to all\n",
      "Total time (CPU seconds):       0.00   (Wallclock seconds):       0.00\n",
      "\n",
      "INFO  The status is: Optimal\n",
      "The total volume (in BTC) exchanged is: 10.0\n",
      "The value of exchanged base token from order 1: 5.0\n",
      "The value of exchanged base token from order 2: 5.0\n",
      "The solution time (in seconds) is: 0.02\n"
     ]
    },
    {
     "name": "stderr",
     "output_type": "stream",
     "text": [
      "/venv/lib/python3.8/site-packages/pulp/pulp.py:1352: UserWarning: Spaces are not permitted in the name. Converted to '_'\n",
      "  warnings.warn(\"Spaces are not permitted in the name. Converted to '_'\")\n"
     ]
    }
   ],
   "source": [
    "limit_price_1 = 5\n",
    "limit_price_2 = 3\n",
    "test_orders_1 = get_test_orders(limit_price_1, limit_price_2)\n",
    "optimize_for_volume(test_orders_1[0], test_orders_1[1], exchange_rate)"
   ]
  },
  {
   "cell_type": "markdown",
   "id": "44f17ce2",
   "metadata": {
    "ExecuteTime": {
     "end_time": "2023-03-30T19:42:04.696672Z",
     "start_time": "2023-03-30T19:42:04.641027Z"
    }
   },
   "source": [
    "## Limit price condition is met only for 1 order"
   ]
  },
  {
   "cell_type": "code",
   "execution_count": 9,
   "id": "f97afcf3",
   "metadata": {
    "ExecuteTime": {
     "end_time": "2023-03-30T19:46:32.496010Z",
     "start_time": "2023-03-30T19:46:32.437472Z"
    }
   },
   "outputs": [
    {
     "name": "stdout",
     "output_type": "stream",
     "text": [
      "INFO  Buy order: action=buy, quantity=5, base_token=BTC, limit_price=5, quote_token=ETH\n",
      "INFO  Sell order: action=sell, quantity=5, base_token=BTC, limit_price=5, quote_token=ETH\n",
      "INFO  limit_price_cond_1 is 1\n",
      "INFO  limit_price_cond_2 is 0\n",
      "Welcome to the CBC MILP Solver \n",
      "Version: 2.10.3 \n",
      "Build Date: Dec 15 2019 \n",
      "\n",
      "command line - /venv/lib/python3.8/site-packages/pulp/solverdir/cbc/linux/64/cbc /tmp/ec47a8a185454ac3ac3b2774acd8c449-pulp.mps max timeMode elapsed branch printingOptions all solution /tmp/ec47a8a185454ac3ac3b2774acd8c449-pulp.sol (default strategy 1)\n",
      "At line 2 NAME          MODEL\n",
      "At line 3 ROWS\n",
      "At line 12 COLUMNS\n",
      "At line 23 RHS\n",
      "At line 31 BOUNDS\n",
      "At line 32 ENDATA\n",
      "Problem MODEL has 7 rows, 2 columns and 8 elements\n",
      "Coin0008I MODEL read with 0 errors\n",
      "Option for timeMode changed from cpu to elapsed\n",
      "Presolve 0 (-7) rows, 0 (-2) columns and 0 (-8) elements\n",
      "Empty problem - 0 rows, 0 columns and 0 elements\n",
      "Optimal - objective value -0\n",
      "After Postsolve, objective 0, infeasibilities - dual 0 (0), primal 0 (0)\n",
      "Optimal objective 0 - 0 iterations time 0.002, Presolve 0.00\n",
      "Option for printingOptions changed from normal to all\n",
      "Total time (CPU seconds):       0.00   (Wallclock seconds):       0.00\n",
      "\n",
      "INFO  The status is: Optimal\n",
      "The total volume (in BTC) exchanged is: 0.0\n",
      "The value of exchanged base token from order 1: 0.0\n",
      "The value of exchanged base token from order 2: 0.0\n",
      "The solution time (in seconds) is: 0.02\n"
     ]
    }
   ],
   "source": [
    "limit_price_1 = 5\n",
    "limit_price_2 = 5\n",
    "test_orders_1 = get_test_orders(limit_price_1, limit_price_2)\n",
    "optimize_for_volume(test_orders_1[0], test_orders_1[1], exchange_rate)"
   ]
  },
  {
   "cell_type": "code",
   "execution_count": 10,
   "id": "8d55cc56",
   "metadata": {
    "ExecuteTime": {
     "end_time": "2023-03-30T19:46:32.562779Z",
     "start_time": "2023-03-30T19:46:32.498783Z"
    }
   },
   "outputs": [
    {
     "name": "stdout",
     "output_type": "stream",
     "text": [
      "INFO  Buy order: action=buy, quantity=5, base_token=BTC, limit_price=3, quote_token=ETH\n",
      "INFO  Sell order: action=sell, quantity=5, base_token=BTC, limit_price=3, quote_token=ETH\n",
      "INFO  limit_price_cond_1 is 0\n",
      "INFO  limit_price_cond_2 is 1\n",
      "Welcome to the CBC MILP Solver \n",
      "Version: 2.10.3 \n",
      "Build Date: Dec 15 2019 \n",
      "\n",
      "command line - /venv/lib/python3.8/site-packages/pulp/solverdir/cbc/linux/64/cbc /tmp/395663d5a8c74467af7cf5bb4aa01fe5-pulp.mps max timeMode elapsed branch printingOptions all solution /tmp/395663d5a8c74467af7cf5bb4aa01fe5-pulp.sol (default strategy 1)\n",
      "At line 2 NAME          MODEL\n",
      "At line 3 ROWS\n",
      "At line 12 COLUMNS\n",
      "At line 23 RHS\n",
      "At line 31 BOUNDS\n",
      "At line 32 ENDATA\n",
      "Problem MODEL has 7 rows, 2 columns and 8 elements\n",
      "Coin0008I MODEL read with 0 errors\n",
      "Option for timeMode changed from cpu to elapsed\n",
      "Presolve 0 (-7) rows, 0 (-2) columns and 0 (-8) elements\n",
      "Empty problem - 0 rows, 0 columns and 0 elements\n",
      "Optimal - objective value -0\n",
      "After Postsolve, objective 0, infeasibilities - dual 0 (0), primal 0 (0)\n",
      "Optimal objective 0 - 0 iterations time 0.002, Presolve 0.00\n",
      "Option for printingOptions changed from normal to all\n",
      "Total time (CPU seconds):       0.00   (Wallclock seconds):       0.00\n",
      "\n",
      "INFO  The status is: Optimal\n",
      "The total volume (in BTC) exchanged is: 0.0\n",
      "The value of exchanged base token from order 1: 0.0\n",
      "The value of exchanged base token from order 2: 0.0\n",
      "The solution time (in seconds) is: 0.02\n"
     ]
    }
   ],
   "source": [
    "limit_price_1 = 3\n",
    "limit_price_2 = 3\n",
    "test_orders_1 = get_test_orders(limit_price_1, limit_price_2)\n",
    "optimize_for_volume(test_orders_1[0], test_orders_1[1], exchange_rate)"
   ]
  },
  {
   "cell_type": "markdown",
   "id": "f9cf0dc9",
   "metadata": {},
   "source": [
    "## Limit price condition is not met for both orders"
   ]
  },
  {
   "cell_type": "code",
   "execution_count": 11,
   "id": "643e3d82",
   "metadata": {
    "ExecuteTime": {
     "end_time": "2023-03-30T19:46:32.621370Z",
     "start_time": "2023-03-30T19:46:32.565694Z"
    }
   },
   "outputs": [
    {
     "name": "stdout",
     "output_type": "stream",
     "text": [
      "INFO  Buy order: action=buy, quantity=5, base_token=BTC, limit_price=3, quote_token=ETH\n",
      "INFO  Sell order: action=sell, quantity=5, base_token=BTC, limit_price=5, quote_token=ETH\n",
      "INFO  limit_price_cond_1 is 0\n",
      "INFO  limit_price_cond_2 is 0\n",
      "Welcome to the CBC MILP Solver \n",
      "Version: 2.10.3 \n",
      "Build Date: Dec 15 2019 \n",
      "\n",
      "command line - /venv/lib/python3.8/site-packages/pulp/solverdir/cbc/linux/64/cbc /tmp/a1ab3b68c0a34e899e8b1525cf7546e8-pulp.mps max timeMode elapsed branch printingOptions all solution /tmp/a1ab3b68c0a34e899e8b1525cf7546e8-pulp.sol (default strategy 1)\n",
      "At line 2 NAME          MODEL\n",
      "At line 3 ROWS\n",
      "At line 12 COLUMNS\n",
      "At line 23 RHS\n",
      "At line 31 BOUNDS\n",
      "At line 32 ENDATA\n",
      "Problem MODEL has 7 rows, 2 columns and 8 elements\n",
      "Coin0008I MODEL read with 0 errors\n",
      "Option for timeMode changed from cpu to elapsed\n",
      "Presolve 0 (-7) rows, 0 (-2) columns and 0 (-8) elements\n",
      "Empty problem - 0 rows, 0 columns and 0 elements\n",
      "Optimal - objective value -0\n",
      "After Postsolve, objective 0, infeasibilities - dual 0 (0), primal 0 (0)\n",
      "Optimal objective 0 - 0 iterations time 0.002, Presolve 0.00\n",
      "Option for printingOptions changed from normal to all\n",
      "Total time (CPU seconds):       0.00   (Wallclock seconds):       0.00\n",
      "\n",
      "INFO  The status is: Optimal\n",
      "The total volume (in BTC) exchanged is: 0.0\n",
      "The value of exchanged base token from order 1: 0.0\n",
      "The value of exchanged base token from order 2: 0.0\n",
      "The solution time (in seconds) is: 0.02\n"
     ]
    }
   ],
   "source": [
    "limit_price_1 = 3\n",
    "limit_price_2 = 5\n",
    "test_orders_1 = get_test_orders(limit_price_1, limit_price_2)\n",
    "optimize_for_volume(test_orders_1[0], test_orders_1[1], exchange_rate)"
   ]
  }
 ],
 "metadata": {
  "kernelspec": {
   "display_name": "Python 3 (ipykernel)",
   "language": "python",
   "name": "python3"
  },
  "language_info": {
   "codemirror_mode": {
    "name": "ipython",
    "version": 3
   },
   "file_extension": ".py",
   "mimetype": "text/x-python",
   "name": "python",
   "nbconvert_exporter": "python",
   "pygments_lexer": "ipython3",
   "version": "3.8.10"
  },
  "toc": {
   "base_numbering": 1,
   "nav_menu": {},
   "number_sections": true,
   "sideBar": true,
   "skip_h1_title": false,
   "title_cell": "Table of Contents",
   "title_sidebar": "Contents",
   "toc_cell": false,
   "toc_position": {},
   "toc_section_display": true,
   "toc_window_display": false
  }
 },
 "nbformat": 4,
 "nbformat_minor": 5
}
