{
 "cells": [
  {
   "cell_type": "code",
   "execution_count": 1,
   "metadata": {},
   "outputs": [],
   "source": [
    "from models.ticker import Ticker\n",
    "from models.time_series import TimeInterval, DataType\n",
    "from api.mongo_db import Mongo"
   ]
  },
  {
   "cell_type": "markdown",
   "metadata": {},
   "source": [
    "# Alpha Vantage"
   ]
  },
  {
   "cell_type": "code",
   "execution_count": 2,
   "metadata": {},
   "outputs": [],
   "source": [
    "# You can initilize the class with the stock you want (setting get_name to True burns an extra API call).\n",
    "ticker = Ticker(\"AAPL\", get_name=True)\n",
    "\n",
    "# Then you can request the data you want using the DataType ENUM. Time Interval is only used for intraday.\n",
    "ticker.get_data(data_type=DataType.WEEKLY, time_interval=TimeInterval.HOUR)"
   ]
  },
  {
   "cell_type": "markdown",
   "metadata": {},
   "source": [
    "# MongoDB"
   ]
  },
  {
   "cell_type": "code",
   "execution_count": 3,
   "metadata": {},
   "outputs": [],
   "source": [
    "# You can download a specific ticker from mongo if it is stored by doing\n",
    "ticker = Mongo.get_ticker(\"AAPL\")\n",
    "\n",
    "# This downloads all of the mongoDB as a list of tickers.\n",
    "all_data = Mongo.download()\n",
    "\n",
    "# You can save data to mongoDB with the following method. It only takes a Ticker class object.\n",
    "Mongo.save_data(ticker)"
   ]
  }
 ],
 "metadata": {
  "kernelspec": {
   "display_name": "Python 3 (ipykernel)",
   "language": "python",
   "name": "python3"
  },
  "language_info": {
   "codemirror_mode": {
    "name": "ipython",
    "version": 3
   },
   "file_extension": ".py",
   "mimetype": "text/x-python",
   "name": "python",
   "nbconvert_exporter": "python",
   "pygments_lexer": "ipython3",
   "version": "3.11.2"
  }
 },
 "nbformat": 4,
 "nbformat_minor": 2
}
