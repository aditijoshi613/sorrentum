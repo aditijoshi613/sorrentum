{
 "cells": [
  {
   "cell_type": "markdown",
   "id": "ee8d216b",
   "metadata": {
    "ExecuteTime": {
     "end_time": "2023-07-05T18:24:07.542931Z",
     "start_time": "2023-07-05T18:24:07.515073Z"
    }
   },
   "source": [
    "# Description\n",
    "\n",
    "This gallery notebook is used to verify that `amp/core/plotting` functions display plots correctly."
   ]
  },
  {
   "cell_type": "code",
   "execution_count": null,
   "id": "d94530b2",
   "metadata": {
    "ExecuteTime": {
     "end_time": "2023-08-02T13:21:22.614390Z",
     "start_time": "2023-08-02T13:21:22.566733Z"
    }
   },
   "outputs": [],
   "source": [
    "%load_ext autoreload\n",
    "%autoreload 2\n",
    "%matplotlib inline"
   ]
  },
  {
   "cell_type": "markdown",
   "id": "a505f7c6",
   "metadata": {},
   "source": [
    "# Imports"
   ]
  },
  {
   "cell_type": "code",
   "execution_count": null,
   "id": "c98c1220",
   "metadata": {
    "ExecuteTime": {
     "end_time": "2023-08-02T13:21:25.521472Z",
     "start_time": "2023-08-02T13:21:25.473624Z"
    },
    "lines_to_next_cell": 2,
    "run_control": {
     "marked": false
    }
   },
   "outputs": [],
   "source": [
    "import logging\n",
    "\n",
    "import numpy as np\n",
    "import pandas as pd\n",
    "import matplotlib.pyplot as plt\n",
    "\n",
    "import core.plotting.visual_stationarity_test as cpvistte\n",
    "import core.plotting.misc_plotting as cpmiscplt\n",
    "\n",
    "import helpers.hdbg as hdbg\n",
    "import helpers.henv as henv\n",
    "import helpers.hprint as hprint"
   ]
  },
  {
   "cell_type": "markdown",
   "id": "391aa447",
   "metadata": {},
   "source": [
    "# Configure Logger"
   ]
  },
  {
   "cell_type": "code",
   "execution_count": null,
   "id": "16431f12",
   "metadata": {
    "ExecuteTime": {
     "end_time": "2023-08-02T13:21:27.023873Z",
     "start_time": "2023-08-02T13:21:26.767746Z"
    }
   },
   "outputs": [],
   "source": [
    "hdbg.init_logger(verbosity=logging.INFO)\n",
    "\n",
    "_LOG = logging.getLogger(__name__)\n",
    "\n",
    "_LOG.info(\"%s\", henv.get_system_signature()[0])\n",
    "\n",
    "hprint.config_notebook()"
   ]
  },
  {
   "cell_type": "markdown",
   "id": "23bb256b",
   "metadata": {},
   "source": [
    "# Plots"
   ]
  },
  {
   "cell_type": "markdown",
   "id": "8c07e613",
   "metadata": {},
   "source": [
    "## `plot_histograms_and_lagged_scatterplot()`"
   ]
  },
  {
   "cell_type": "code",
   "execution_count": null,
   "id": "c81b06d2",
   "metadata": {
    "ExecuteTime": {
     "end_time": "2023-08-02T13:21:31.821012Z",
     "start_time": "2023-08-02T13:21:30.059116Z"
    }
   },
   "outputs": [],
   "source": [
    "# Set inputs.\n",
    "seq = np.concatenate([np.random.uniform(-1, 1, 100), np.random.choice([5, 10], 100)])\n",
    "index = pd.date_range(start=\"2023-01-01\", periods=len(seq), freq=\"D\")\n",
    "srs = pd.Series(seq, index=index)\n",
    "lag = 7\n",
    "# TODO(Dan): Remove after integration with `cmamp`\n",
    "figsize = (20,20)\n",
    "# Plot.\n",
    "cpvistte.plot_histograms_and_lagged_scatterplot(srs, lag, figsize=figsize)"
   ]
  },
  {
   "cell_type": "markdown",
   "id": "816b41c5",
   "metadata": {},
   "source": [
    "## `plot_projection()`"
   ]
  },
  {
   "cell_type": "code",
   "execution_count": null,
   "id": "300936c4",
   "metadata": {
    "ExecuteTime": {
     "end_time": "2023-08-02T13:21:32.576798Z",
     "start_time": "2023-08-02T13:21:32.060174Z"
    }
   },
   "outputs": [],
   "source": [
    "# Calling plot_projection to test that it's basic functionality works\n",
    "data = [\n",
    "    [1, 1, 0, 1],\n",
    "    [0, 1, 0, 1],\n",
    "    [0, 0, 1, 1],\n",
    "    [1, 1, 1, 1],\n",
    "    [1, 1, 1, 1],\n",
    "]\n",
    "df = pd.DataFrame(data)\n",
    "fig = plt.figure()\n",
    "ax = fig.add_axes([0,0,1,1])\n",
    "cpmiscplt.plot_projection(df, special_values = [0], ax = ax)"
   ]
  },
  {
   "cell_type": "code",
   "execution_count": null,
   "id": "64ba0b8f",
   "metadata": {
    "ExecuteTime": {
     "end_time": "2023-08-02T13:21:33.712259Z",
     "start_time": "2023-08-02T13:21:33.212585Z"
    }
   },
   "outputs": [],
   "source": [
    "# Calling plot_projection with the scatter plot mode enabled\n",
    "fig = plt.figure()\n",
    "ax = fig.add_axes([0,0,1,1])\n",
    "cpmiscplt.plot_projection(df, special_values = [1], mode = \"scatter\", ax = ax)"
   ]
  },
  {
   "cell_type": "code",
   "execution_count": null,
   "id": "a0be27c7",
   "metadata": {
    "ExecuteTime": {
     "end_time": "2023-08-02T13:21:34.590685Z",
     "start_time": "2023-08-02T13:21:34.136281Z"
    }
   },
   "outputs": [],
   "source": [
    "index = pd.date_range(start=\"2023-01-01\", periods=len(data), freq=\"D\")\n",
    "srs = pd.DataFrame(data, index=index)\n",
    "fig = plt.figure()\n",
    "ax = fig.add_axes([0,0,1,1])\n",
    "cpmiscplt.plot_projection(srs, special_values = [0], mode = \"scatter\", ax = ax)"
   ]
  },
  {
   "cell_type": "code",
   "execution_count": null,
   "id": "95d971f6",
   "metadata": {},
   "outputs": [],
   "source": []
  },
  {
   "cell_type": "code",
   "execution_count": null,
   "id": "2a9da187",
   "metadata": {},
   "outputs": [],
   "source": []
  }
 ],
 "metadata": {
  "kernelspec": {
   "display_name": "Python 3 (ipykernel)",
   "language": "python",
   "name": "python3"
  },
  "language_info": {
   "codemirror_mode": {
    "name": "ipython",
    "version": 3
   },
   "file_extension": ".py",
   "mimetype": "text/x-python",
   "name": "python",
   "nbconvert_exporter": "python",
   "pygments_lexer": "ipython3",
   "version": "3.8.10"
  },
  "toc": {
   "base_numbering": 1,
   "nav_menu": {},
   "number_sections": true,
   "sideBar": true,
   "skip_h1_title": false,
   "title_cell": "Table of Contents",
   "title_sidebar": "Contents",
   "toc_cell": false,
   "toc_position": {},
   "toc_section_display": true,
   "toc_window_display": false
  }
 },
 "nbformat": 4,
 "nbformat_minor": 5
}
